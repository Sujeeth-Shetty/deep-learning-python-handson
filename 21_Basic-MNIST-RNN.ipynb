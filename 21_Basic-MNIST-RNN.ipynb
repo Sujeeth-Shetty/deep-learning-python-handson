{
 "cells": [
  {
   "cell_type": "markdown",
   "metadata": {},
   "source": [
    "## Step 1 \n",
    "\n",
    "Get the library and set the seed"
   ]
  },
  {
   "cell_type": "code",
   "execution_count": 2,
   "metadata": {},
   "outputs": [],
   "source": [
    "import tensorflow as tf\n",
    "import numpy as np\n",
    "import matplotlib.pyplot as plt\n",
    "\n",
    "# reset the graph and make sure the random numbers are always the same\n",
    "\n",
    "def reset_graph(seed=2018):\n",
    "    tf.reset_default_graph()\n",
    "    tf.set_random_seed(seed)\n",
    "    np.random.seed(seed)"
   ]
  },
  {
   "cell_type": "markdown",
   "metadata": {},
   "source": [
    "## Step 2 \n",
    "\n",
    "- Reset graph\n",
    "- Hyperparameters\n",
    "- Network Parameters\n",
    "- Build RNN Model (place holders, cell, logits, cross entropy, optimizer, accuracy"
   ]
  },
  {
   "cell_type": "code",
   "execution_count": 3,
   "metadata": {},
   "outputs": [],
   "source": [
    "# reset\n",
    "reset_graph()"
   ]
  },
  {
   "cell_type": "code",
   "execution_count": 4,
   "metadata": {},
   "outputs": [],
   "source": [
    "# hyperparameters\n",
    "n_neurons = 256\n",
    "learning_rate = 0.001\n",
    "batch_size = 128\n",
    "n_epochs = 100\n",
    "\n",
    "# parameters\n",
    "n_steps = 28 # 28 rows\n",
    "n_inputs = 28 # 28 cols\n",
    "n_output = 10 # 10 classes"
   ]
  },
  {
   "cell_type": "code",
   "execution_count": 9,
   "metadata": {},
   "outputs": [
    {
     "name": "stdout",
     "output_type": "stream",
     "text": [
      "WARNING:tensorflow:From <ipython-input-9-3f2d6ed978e4>:7: BasicRNNCell.__init__ (from tensorflow.python.ops.rnn_cell_impl) is deprecated and will be removed in a future version.\n",
      "Instructions for updating:\n",
      "This class is equivalent as tf.keras.layers.SimpleRNNCell, and will be replaced by that in Tensorflow 2.0.\n"
     ]
    }
   ],
   "source": [
    "# build a rnn model\n",
    "# Placeholders\n",
    "X = tf.placeholder(tf.float32, [None, n_steps, n_inputs])\n",
    "y = tf.placeholder(tf.int32, [None])\n",
    "\n",
    "# Cell - use basic RNN cell\n",
    "cell = tf.nn.rnn_cell.BasicRNNCell(num_units=n_neurons)\n",
    "output, state = tf.nn.dynamic_rnn(cell, X, dtype=tf.float32)\n",
    "\n",
    "# logits, cross entropy, loss, optimizer\n",
    "logits = tf.layers.dense(state, n_output)\n",
    "cross_entropy = tf.nn.sparse_softmax_cross_entropy_with_logits(labels =y,\n",
    "                                                              logits=logits)\n",
    "loss = tf.reduce_mean(cross_entropy)\n",
    "optimizer = tf.train.AdamOptimizer(learning_rate=learning_rate).minimize(loss)\n",
    "# prediction, accuracy\n",
    "\n",
    "prediction = tf.nn.in_top_k(logits, y, 1)\n",
    "accuracy = tf.reduce_mean(tf.cast(prediction, tf.float32))"
   ]
  },
  {
   "cell_type": "code",
   "execution_count": 6,
   "metadata": {},
   "outputs": [
    {
     "name": "stdout",
     "output_type": "stream",
     "text": [
      "Extracting MNIST_data/train-images-idx3-ubyte.gz\n",
      "Extracting MNIST_data/train-labels-idx1-ubyte.gz\n",
      "Extracting MNIST_data/t10k-images-idx3-ubyte.gz\n",
      "Extracting MNIST_data/t10k-labels-idx1-ubyte.gz\n"
     ]
    }
   ],
   "source": [
    "# input data\n",
    "from tensorflow.examples.tutorials.mnist import input_data\n",
    "mnist = input_data.read_data_sets(\"MNIST_data/\")\n",
    "\n",
    "X_test = mnist.test.images\n",
    "X_test = X_test.reshape([-1, n_steps, n_inputs])\n",
    "y_test = mnist.test.labels"
   ]
  },
  {
   "cell_type": "markdown",
   "metadata": {},
   "source": [
    "## Step 3: Initialize and Run our model "
   ]
  },
  {
   "cell_type": "code",
   "execution_count": null,
   "metadata": {},
   "outputs": [
    {
     "name": "stdout",
     "output_type": "stream",
     "text": [
      "Epoch: 1, Train Loss: 0.1636, Train Acc: 0.9688\n",
      "Epoch: 2, Train Loss: 0.0748, Train Acc: 0.9766\n",
      "Epoch: 3, Train Loss: 0.0718, Train Acc: 0.9766\n",
      "Epoch: 4, Train Loss: 0.0926, Train Acc: 0.9688\n",
      "Epoch: 5, Train Loss: 0.0492, Train Acc: 0.9922\n",
      "Epoch: 6, Train Loss: 0.0724, Train Acc: 0.9844\n",
      "Epoch: 7, Train Loss: 0.0499, Train Acc: 0.9844\n",
      "Epoch: 8, Train Loss: 0.0586, Train Acc: 0.9844\n",
      "Epoch: 9, Train Loss: 0.0282, Train Acc: 0.9922\n",
      "Epoch: 10, Train Loss: 0.0757, Train Acc: 0.9766\n",
      "Epoch: 11, Train Loss: 0.0113, Train Acc: 1.0000\n",
      "Epoch: 12, Train Loss: 0.0305, Train Acc: 0.9922\n",
      "Epoch: 13, Train Loss: 0.0180, Train Acc: 0.9922\n",
      "Epoch: 14, Train Loss: 0.0404, Train Acc: 0.9922\n",
      "Epoch: 15, Train Loss: 0.0403, Train Acc: 0.9766\n",
      "Epoch: 16, Train Loss: 0.0209, Train Acc: 0.9922\n",
      "Epoch: 17, Train Loss: 0.0983, Train Acc: 0.9844\n",
      "Epoch: 18, Train Loss: 0.0212, Train Acc: 0.9922\n",
      "Epoch: 19, Train Loss: 0.0505, Train Acc: 0.9922\n",
      "Epoch: 20, Train Loss: 0.0632, Train Acc: 0.9844\n",
      "Epoch: 21, Train Loss: 0.0137, Train Acc: 1.0000\n",
      "Epoch: 22, Train Loss: 0.0249, Train Acc: 0.9922\n",
      "Epoch: 23, Train Loss: 0.0253, Train Acc: 0.9922\n"
     ]
    }
   ],
   "source": [
    "# initialize the variables\n",
    "init = tf.global_variables_initializer()\n",
    "\n",
    "#train\n",
    "sess = tf.Session()\n",
    "sess.run(init)\n",
    "n_batches = mnist.train.num_examples // batch_size\n",
    "loss_list = []\n",
    "acc_list = []\n",
    "\n",
    "for epoch in range(n_epochs):\n",
    "    for batch in range(n_batches):\n",
    "        X_train, y_train = mnist.train.next_batch(batch_size)\n",
    "        X_train          = X_train.reshape([-1, n_steps, n_inputs])\n",
    "        sess.run(optimizer, feed_dict={X:X_train, y:y_train})\n",
    "    loss_train, acc_train = sess.run( [loss,accuracy], feed_dict={X:X_train, y:y_train})\n",
    "    loss_list.append(loss_train)\n",
    "    acc_list.append(acc_train)\n",
    "    print('Epoch: {}, Train Loss: {:.4f}, Train Acc: {:.4f}'.format(epoch +1, \n",
    "                                                                    loss_train,\n",
    "                                                                    acc_train))\n",
    "    \n",
    "loss_test, acc_test = sess.run([loss, accuracy], feed_dict={X:X_test, y:y_test})\n",
    "print('Test loss: {:.4f}, Test acc: {:.4f}'.format(loss_test, acc_test))"
   ]
  },
  {
   "cell_type": "markdown",
   "metadata": {},
   "source": [
    "## Step 4: PLot Accuracy "
   ]
  },
  {
   "cell_type": "code",
   "execution_count": null,
   "metadata": {},
   "outputs": [],
   "source": [
    "# plot train loss vs epoch\n",
    "plt.figure(figsize=(18, 5))\n",
    "plt.subplot(1, 2, 1)\n",
    "plt.title('Train Loss vs Epoch', fontsize=15)\n",
    "plt.plot(np.arange(n_epochs), loss_list, 'r-')\n",
    "plt.xlabel('Epoch')\n",
    "plt.ylabel('Train Loss')\n",
    "\n",
    "# plot train accuracy vs epoch\n",
    "plt.subplot(1, 2, 2)\n",
    "plt.title('Train Accuracy vs Epoch', fontsize=15)\n",
    "plt.plot(np.arange(n_epochs), acc_list, 'b-')\n",
    "plt.xlabel('Epoch')\n",
    "plt.ylabel('Train Accuracy')\n",
    "plt.show()"
   ]
  },
  {
   "cell_type": "markdown",
   "metadata": {},
   "source": [
    "## Step 5: Let's output the RNN predictions "
   ]
  },
  {
   "cell_type": "code",
   "execution_count": null,
   "metadata": {},
   "outputs": [],
   "source": [
    "n_predict = 10 # number to display prediction\n",
    "\n",
    "for i in range(n_predict):\n",
    "    pred = sess.run(tf.argmax(logits[i]), feed_dict={X: X_test, y: y_test})\n",
    "    plt.imshow(X_test[i])\n",
    "    plt.axis('off')\n",
    "    plt.show()\n",
    "    print('predict: ', pred)"
   ]
  },
  {
   "cell_type": "code",
   "execution_count": null,
   "metadata": {},
   "outputs": [],
   "source": [
    "sess.close()"
   ]
  }
 ],
 "metadata": {
  "kernelspec": {
   "display_name": "Python 3",
   "language": "python",
   "name": "python3"
  },
  "language_info": {
   "codemirror_mode": {
    "name": "ipython",
    "version": 3
   },
   "file_extension": ".py",
   "mimetype": "text/x-python",
   "name": "python",
   "nbconvert_exporter": "python",
   "pygments_lexer": "ipython3",
   "version": "3.6.9"
  }
 },
 "nbformat": 4,
 "nbformat_minor": 2
}
