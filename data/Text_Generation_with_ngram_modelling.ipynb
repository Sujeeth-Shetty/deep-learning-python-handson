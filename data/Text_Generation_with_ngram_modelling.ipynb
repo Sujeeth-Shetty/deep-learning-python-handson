{
  "nbformat": 4,
  "nbformat_minor": 0,
  "metadata": {
    "kernelspec": {
      "display_name": "Python 3",
      "language": "python",
      "name": "python3"
    },
    "language_info": {
      "codemirror_mode": {
        "name": "ipython",
        "version": 3
      },
      "file_extension": ".py",
      "mimetype": "text/x-python",
      "name": "python",
      "nbconvert_exporter": "python",
      "pygments_lexer": "ipython3",
      "version": "3.6.9"
    },
    "colab": {
      "name": "Text Generation with ngram modelling.ipynb",
      "provenance": []
    }
  },
  "cells": [
    {
      "cell_type": "code",
      "metadata": {
        "id": "u88Mht3AXHh1",
        "colab_type": "code",
        "colab": {}
      },
      "source": [
        "import pandas as pd"
      ],
      "execution_count": 0,
      "outputs": []
    },
    {
      "cell_type": "code",
      "metadata": {
        "id": "UWTcOI1nXHh8",
        "colab_type": "code",
        "colab": {}
      },
      "source": [
        "sentences = list(pd.read_csv('yelp.csv')['text'])"
      ],
      "execution_count": 0,
      "outputs": []
    },
    {
      "cell_type": "code",
      "metadata": {
        "id": "MahsN7OYXHh_",
        "colab_type": "code",
        "colab": {}
      },
      "source": [
        "for i, s in enumerate(sentences):\n",
        "    sentences[i] = s.split()"
      ],
      "execution_count": 0,
      "outputs": []
    },
    {
      "cell_type": "code",
      "metadata": {
        "id": "AZXdlQUkXHiB",
        "colab_type": "code",
        "colab": {}
      },
      "source": [
        "from nltk.corpus import reuters\n",
        "from nltk import bigrams, trigrams\n",
        "from collections import Counter, defaultdict"
      ],
      "execution_count": 0,
      "outputs": []
    },
    {
      "cell_type": "code",
      "metadata": {
        "id": "GXiFwB1WXHiD",
        "colab_type": "code",
        "colab": {}
      },
      "source": [
        "# Create a placeholder for model\n",
        "\n",
        "# Count frequency of co-occurance  \n",
        " \n",
        "# Let's transform the counts to probabilities"
      ],
      "execution_count": 0,
      "outputs": []
    },
    {
      "cell_type": "code",
      "metadata": {
        "scrolled": true,
        "id": "1WSL_aRoXHiG",
        "colab_type": "code",
        "colab": {},
        "outputId": "4ece3e10-1c4e-4810-ecc0-fef6517382bb"
      },
      "source": [
        ""
      ],
      "execution_count": 0,
      "outputs": [
        {
          "output_type": "execute_result",
          "data": {
            "text/plain": [
              "{'a': 0.03571428571428571,\n",
              " 'awesome.': 0.03571428571428571,\n",
              " 'on': 0.03571428571428571,\n",
              " 'even': 0.03571428571428571,\n",
              " 'really': 0.07142857142857142,\n",
              " 'tiny': 0.03571428571428571,\n",
              " 'like...the': 0.03571428571428571,\n",
              " 'so': 0.03571428571428571,\n",
              " 'why': 0.03571428571428571,\n",
              " 'great,': 0.07142857142857142,\n",
              " 'cold.': 0.03571428571428571,\n",
              " 'astounding': 0.03571428571428571,\n",
              " 'fine': 0.03571428571428571,\n",
              " 'pretty': 0.03571428571428571,\n",
              " 'also': 0.07142857142857142,\n",
              " 'super': 0.03571428571428571,\n",
              " 'great': 0.03571428571428571,\n",
              " 'legendary': 0.03571428571428571,\n",
              " 'fantastic,': 0.03571428571428571,\n",
              " 'excellent,': 0.03571428571428571,\n",
              " 'your': 0.03571428571428571,\n",
              " 'just': 0.03571428571428571,\n",
              " 'fresh': 0.03571428571428571,\n",
              " '$2.00': 0.03571428571428571,\n",
              " 'poured,': 0.03571428571428571}"
            ]
          },
          "metadata": {
            "tags": []
          },
          "execution_count": 27
        }
      ]
    },
    {
      "cell_type": "code",
      "metadata": {
        "id": "EBWRVJ0sXHiI",
        "colab_type": "code",
        "colab": {},
        "outputId": "a9fdf703-c5dc-47c8-baa7-1e803adb3a23"
      },
      "source": [
        "import random\n",
        "\n",
        "# starting words\n",
        "text = [\"the\", \"food\"]\n",
        "sentence_finished = False"
      ],
      "execution_count": 0,
      "outputs": [
        {
          "output_type": "stream",
          "text": [
            "the food was served to further explore the different varieties of burgers and sandwiches help round things out, and should review the cold staff and the technician never double dipped. I found some fish tacos were the first half of it. My bf loved his, but I feel fairly certain this term loosely, as it boasts some pretty impressive looking before we hit the bong, And then i work, work, work and 5 minutes at 4pm every day = gaining tons of sauce, guac, cheese, pico, and more frothy cocktails. Unfortunately, upon return to be regulars...once you eat there. It's probably a landmark with stringent regulations on how expensive safeway is.\n"
          ],
          "name": "stdout"
        }
      ]
    },
    {
      "cell_type": "code",
      "metadata": {
        "id": "L89Tt-59XHiL",
        "colab_type": "code",
        "colab": {}
      },
      "source": [
        ""
      ],
      "execution_count": 0,
      "outputs": []
    }
  ]
}