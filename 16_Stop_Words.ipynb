{
  "nbformat": 4,
  "nbformat_minor": 0,
  "metadata": {
    "kernelspec": {
      "display_name": "Python 3",
      "language": "python",
      "name": "python3"
    },
    "language_info": {
      "codemirror_mode": {
        "name": "ipython",
        "version": 3
      },
      "file_extension": ".py",
      "mimetype": "text/x-python",
      "name": "python",
      "nbconvert_exporter": "python",
      "pygments_lexer": "ipython3",
      "version": "3.6.9"
    },
    "colab": {
      "name": "05_Stop_Words.ipynb",
      "provenance": [],
      "collapsed_sections": []
    }
  },
  "cells": [
    {
      "cell_type": "markdown",
      "metadata": {
        "id": "a1LZJFBcUEtX",
        "colab_type": "text"
      },
      "source": [
        "# Stop Words\n",
        "Words like \"a\" and \"the\" appear so frequently that they don't require tagging as thoroughly as nouns, verbs and modifiers. We call these *stop words*, and they can be filtered from the text to be processed. spaCy holds a built-in list of some 305 English stop words."
      ]
    },
    {
      "cell_type": "code",
      "metadata": {
        "id": "1wxcq3q5UEtb",
        "colab_type": "code",
        "colab": {}
      },
      "source": [
        "# Perform standard imports:\n",
        "import spacy\n",
        "nlp = spacy.load('en_core_web_sm')"
      ],
      "execution_count": 0,
      "outputs": []
    },
    {
      "cell_type": "code",
      "metadata": {
        "id": "wiSWuhRIUEtg",
        "colab_type": "code",
        "outputId": "9e5209cf-1c23-46ac-dbb6-47ce53cb7eeb",
        "colab": {
          "base_uri": "https://localhost:8080/",
          "height": 54
        }
      },
      "source": [
        "# Print the set of spaCy's default stop words (remember that sets are unordered):\n",
        "print(nlp.Defaults.stop_words)"
      ],
      "execution_count": 2,
      "outputs": [
        {
          "output_type": "stream",
          "text": [
            "{'other', 'top', 'had', 'at', 'her', 'otherwise', 'still', 'further', 'less', 'my', 'along', 'nine', 'really', 'throughout', 'as', 'various', 'will', 'even', 'anyway', 'ten', 'became', 'this', 'thru', 'except', 'formerly', 'nobody', 'hereafter', 'elsewhere', 'anyhow', 'by', 'yours', 'why', 'off', 'please', 'because', 'just', 'therein', 'without', 'so', 'does', 'never', 'twenty', 'us', 'wherever', 'they', 'more', 'anywhere', 'could', 'nevertheless', 'than', 'moreover', 'per', 'put', 'two', 'yourself', 'fifty', 'he', 'beyond', 'ca', 'or', 'quite', 'beforehand', \"'ve\", 'seem', 'him', 'hundred', 'empty', 'then', 'himself', 'during', 'with', 'was', 'all', 'hers', 'me', 'yet', 'nothing', 'show', 'whenever', 'whereby', 'your', \"'re\", 'any', 'sixty', 'anyone', 'bottom', 'cannot', 'keep', 'latter', 'seems', 'which', 'about', 'would', 'often', 'beside', 'one', 'we', 'n‘t', 'same', 'an', 'while', 'enough', 'see', 'around', \"n't\", 'such', 'made', \"'d\", 'always', 'myself', 'first', 'several', 'although', 'back', 'latterly', 'least', 'ours', 'however', 'become', 'once', 'else', 'some', 'itself', 'towards', '‘ve', 'almost', 'anything', 'a', 'upon', 'if', 'unless', 'above', 'give', 'may', 'up', 'six', 'where', 'name', 'regarding', 'done', 'before', 'mostly', 'how', '‘d', 'everyone', 'used', 'somewhere', 'full', 'doing', '’m', 'another', 'for', 'five', 'now', 'own', 'whereas', 'you', 'sometime', 'is', 'much', 'rather', 'down', 'whoever', 'over', 'most', 'it', 'our', 'becomes', 'too', 'every', 'toward', 'eight', 'ever', 'being', 'last', 'here', 'must', 'neither', 'nowhere', 'do', 'on', 'between', 'again', 'should', 'thence', 'to', 'until', 'forty', 'of', 'part', 'there', 'whence', 'move', 'few', 'thereupon', 'go', 'herself', 'might', 'since', 'within', 'say', \"'m\", 'these', 'already', 'those', 'eleven', '‘m', 'hence', '‘re', 'has', 'also', 'have', 'indeed', 'whatever', 'among', '‘ll', 'were', 'from', 'only', 'into', 'whereupon', 'take', 'i', 'did', 'twelve', 'together', 'amongst', '’d', 'herein', '’re', 'thus', 'under', 'in', 'seemed', 'therefore', 'everywhere', 'out', 'well', 'the', 'what', 'who', 'whether', 'whither', 'besides', 'either', 'somehow', 'whole', 'hereby', 'thereafter', 'and', 'through', 'get', 'namely', 're', '’s', 'afterwards', 'whose', 'becoming', 'fifteen', 'seeming', 'that', 'their', 'very', 'each', 'nor', 'four', 'not', 'themselves', 'though', 'yourselves', 'sometimes', '’ve', '‘s', 'everything', 'many', 'next', 'wherein', 'been', 'no', \"'ll\", 'its', 'n’t', 'alone', 'below', 'three', '’ll', 'make', 'but', 'them', 'be', 'behind', 'she', 'third', 'serious', 'are', 'both', 'whom', 'can', 'using', 'whereafter', 'when', 'former', 'call', 'amount', 'others', 'perhaps', \"'s\", 'ourselves', 'his', 'after', 'against', 'something', 'noone', 'am', 'due', 'onto', 'thereby', 'across', 'none', 'via', 'mine', 'hereupon', 'meanwhile', 'front', 'side', 'someone'}\n"
          ],
          "name": "stdout"
        }
      ]
    },
    {
      "cell_type": "code",
      "metadata": {
        "id": "Clt090b2UEtl",
        "colab_type": "code",
        "outputId": "83f22799-a50c-4f8f-dac9-a7b04b6182a6",
        "colab": {
          "base_uri": "https://localhost:8080/",
          "height": 34
        }
      },
      "source": [
        "len(nlp.Defaults.stop_words)"
      ],
      "execution_count": 3,
      "outputs": [
        {
          "output_type": "execute_result",
          "data": {
            "text/plain": [
              "326"
            ]
          },
          "metadata": {
            "tags": []
          },
          "execution_count": 3
        }
      ]
    },
    {
      "cell_type": "markdown",
      "metadata": {
        "id": "Gw0EldGQUEts",
        "colab_type": "text"
      },
      "source": [
        "## To see if a word is a stop word"
      ]
    },
    {
      "cell_type": "code",
      "metadata": {
        "id": "woLuoAvkUEtu",
        "colab_type": "code",
        "outputId": "2894aa59-d5ce-4452-e8fc-e5244c1c70c0",
        "colab": {
          "base_uri": "https://localhost:8080/",
          "height": 34
        }
      },
      "source": [
        "nlp.vocab['myself'].is_stop"
      ],
      "execution_count": 4,
      "outputs": [
        {
          "output_type": "execute_result",
          "data": {
            "text/plain": [
              "True"
            ]
          },
          "metadata": {
            "tags": []
          },
          "execution_count": 4
        }
      ]
    },
    {
      "cell_type": "code",
      "metadata": {
        "id": "QQp0puC_UEty",
        "colab_type": "code",
        "outputId": "36873399-dad4-45c8-9ac4-049ec69e87b1",
        "colab": {
          "base_uri": "https://localhost:8080/",
          "height": 34
        }
      },
      "source": [
        "nlp.vocab['Mystery'].is_stop"
      ],
      "execution_count": 5,
      "outputs": [
        {
          "output_type": "execute_result",
          "data": {
            "text/plain": [
              "False"
            ]
          },
          "metadata": {
            "tags": []
          },
          "execution_count": 5
        }
      ]
    },
    {
      "cell_type": "markdown",
      "metadata": {
        "id": "QzWjPApOUEt2",
        "colab_type": "text"
      },
      "source": [
        "## To add a stop word\n",
        "There may be times when you wish to add a stop word to the default set. Perhaps you decide that `'btw'` (common shorthand for \"by the way\") should be considered a stop word."
      ]
    },
    {
      "cell_type": "code",
      "metadata": {
        "id": "qBlUaQbrUEt3",
        "colab_type": "code",
        "colab": {
          "base_uri": "https://localhost:8080/",
          "height": 34
        },
        "outputId": "294e526b-07a0-4972-9094-39e363f15772"
      },
      "source": [
        "# Add the word to the set of stop words. Use lowercase!\n",
        "nlp.Defaults.stop_words.add('btw')\n",
        "# Set the stop_word tag on the lexeme\n",
        "nlp.vocab['btw'].is_stop"
      ],
      "execution_count": 6,
      "outputs": [
        {
          "output_type": "execute_result",
          "data": {
            "text/plain": [
              "True"
            ]
          },
          "metadata": {
            "tags": []
          },
          "execution_count": 6
        }
      ]
    },
    {
      "cell_type": "code",
      "metadata": {
        "id": "4hIPFRcnUEt9",
        "colab_type": "code",
        "outputId": "a143e7b5-ac28-4081-bdfd-b26fc354481a",
        "colab": {
          "base_uri": "https://localhost:8080/",
          "height": 34
        }
      },
      "source": [
        "len(nlp.Defaults.stop_words)"
      ],
      "execution_count": 7,
      "outputs": [
        {
          "output_type": "execute_result",
          "data": {
            "text/plain": [
              "327"
            ]
          },
          "metadata": {
            "tags": []
          },
          "execution_count": 7
        }
      ]
    },
    {
      "cell_type": "code",
      "metadata": {
        "id": "nPOC_byjUEuC",
        "colab_type": "code",
        "outputId": "5e0d99ff-fa81-49dc-872a-c791e90a402a",
        "colab": {}
      },
      "source": [
        ""
      ],
      "execution_count": 0,
      "outputs": [
        {
          "output_type": "execute_result",
          "data": {
            "text/plain": [
              "True"
            ]
          },
          "metadata": {
            "tags": []
          },
          "execution_count": 8
        }
      ]
    },
    {
      "cell_type": "markdown",
      "metadata": {
        "id": "LG7Q4aLAUEuF",
        "colab_type": "text"
      },
      "source": [
        "<font color=green>When adding stop words, always use lowercase. Lexemes are converted to lowercase before being added to **vocab**.</font>"
      ]
    },
    {
      "cell_type": "markdown",
      "metadata": {
        "id": "OIbRG7CmUEuG",
        "colab_type": "text"
      },
      "source": [
        "## To remove a stop word\n",
        "Alternatively, you may decide that `'beyond'` should not be considered a stop word."
      ]
    },
    {
      "cell_type": "code",
      "metadata": {
        "id": "7CzpYBKgUEuH",
        "colab_type": "code",
        "colab": {}
      },
      "source": [
        "# Remove the word from the set of stop words\n",
        "nlp.Defaults.stop_words.remove(\"btw\")\n",
        "# Remove the stop_word tag from the lexeme\n",
        "nlp.vocab['btw'].is_stop=False"
      ],
      "execution_count": 0,
      "outputs": []
    },
    {
      "cell_type": "code",
      "metadata": {
        "id": "Au7gKUekUEuN",
        "colab_type": "code",
        "outputId": "466e4b74-2f12-4d6b-e274-31b72fd48427",
        "colab": {
          "base_uri": "https://localhost:8080/",
          "height": 34
        }
      },
      "source": [
        "len(nlp.Defaults.stop_words)"
      ],
      "execution_count": 12,
      "outputs": [
        {
          "output_type": "execute_result",
          "data": {
            "text/plain": [
              "324"
            ]
          },
          "metadata": {
            "tags": []
          },
          "execution_count": 12
        }
      ]
    },
    {
      "cell_type": "code",
      "metadata": {
        "id": "colhFpzzUEuR",
        "colab_type": "code",
        "outputId": "afaf7279-d4d2-4ec1-b68a-a889b85035b2",
        "colab": {
          "base_uri": "https://localhost:8080/",
          "height": 34
        }
      },
      "source": [
        "nlp.vocab['btw'].is_stop"
      ],
      "execution_count": 20,
      "outputs": [
        {
          "output_type": "execute_result",
          "data": {
            "text/plain": [
              "False"
            ]
          },
          "metadata": {
            "tags": []
          },
          "execution_count": 20
        }
      ]
    },
    {
      "cell_type": "markdown",
      "metadata": {
        "id": "HhPYd7U3UEuU",
        "colab_type": "text"
      },
      "source": [
        "Great! Now you should be able to access spaCy's default set of stop words, and add or remove stop words as needed.\n",
        "## Next up: Vocabulary and Matching"
      ]
    }
  ]
}