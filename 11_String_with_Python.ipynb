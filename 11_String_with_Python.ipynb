{
  "nbformat": 4,
  "nbformat_minor": 0,
  "metadata": {
    "kernelspec": {
      "display_name": "Python 3",
      "language": "python",
      "name": "python3"
    },
    "language_info": {
      "codemirror_mode": {
        "name": "ipython",
        "version": 3
      },
      "file_extension": ".py",
      "mimetype": "text/x-python",
      "name": "python",
      "nbconvert_exporter": "python",
      "pygments_lexer": "ipython3",
      "version": "3.6.9"
    },
    "colab": {
      "name": "00_String_with_Python.ipynb",
      "provenance": [],
      "collapsed_sections": [],
      "toc_visible": true
    }
  },
  "cells": [
    {
      "cell_type": "markdown",
      "metadata": {
        "id": "L6BX9GR74wGC",
        "colab_type": "text"
      },
      "source": [
        "## What are we going to cover\n",
        "\n",
        "<ul>\n",
        "    <li>Text Processing with standard Python libraries</li>\n",
        "    <li>Regular Expressions</li>\n",
        "    <li>Basics of NLP - Text Processing with Spacy library</li>\n",
        "    <li>Exploratory Data Analysis</li>\n",
        "    <li>Sentence Similarity via Vectorization</li>\n",
        "    <li>Text Generation</li>\n",
        "</ul>"
      ]
    },
    {
      "cell_type": "code",
      "metadata": {
        "id": "2ShyvnON4wGE",
        "colab_type": "code",
        "colab": {}
      },
      "source": [
        "# If you are using google colab, upload the text file using the left panel -> Files tab and then execute this cell\n",
        "with open('cv000_29590.txt') as f:\n",
        "    text = f.read()"
      ],
      "execution_count": 0,
      "outputs": []
    },
    {
      "cell_type": "code",
      "metadata": {
        "id": "tUnG1z9B4wGG",
        "colab_type": "code",
        "outputId": "7842bcc6-34d0-4b70-f1c3-988664f665fb",
        "colab": {
          "base_uri": "https://localhost:8080/",
          "height": 34
        }
      },
      "source": [
        "type(text)"
      ],
      "execution_count": 3,
      "outputs": [
        {
          "output_type": "execute_result",
          "data": {
            "text/plain": [
              "str"
            ]
          },
          "metadata": {
            "tags": []
          },
          "execution_count": 3
        }
      ]
    },
    {
      "cell_type": "code",
      "metadata": {
        "id": "Wn6tg3oZ4wGJ",
        "colab_type": "code",
        "colab": {}
      },
      "source": [
        "lines=text.split('\\n')"
      ],
      "execution_count": 0,
      "outputs": []
    },
    {
      "cell_type": "code",
      "metadata": {
        "id": "ScAl8YpU4wGM",
        "colab_type": "code",
        "colab": {}
      },
      "source": [
        "sentence=lines[0]"
      ],
      "execution_count": 0,
      "outputs": []
    },
    {
      "cell_type": "code",
      "metadata": {
        "id": "CP74XYAlBQwn",
        "colab_type": "code",
        "colab": {
          "base_uri": "https://localhost:8080/",
          "height": 54
        },
        "outputId": "954f4da1-b631-40c6-f908-5d7a35f426aa"
      },
      "source": [
        "sentence"
      ],
      "execution_count": 8,
      "outputs": [
        {
          "output_type": "execute_result",
          "data": {
            "text/plain": [
              "\"films adapted from comic books have had plenty of success , whether they're about superheroes ( batman , superman , spawn ) , or geared toward kids ( casper ) or the arthouse crowd ( ghost world ) , but there's never really been a comic book like from hell before . \""
            ]
          },
          "metadata": {
            "tags": []
          },
          "execution_count": 8
        }
      ]
    },
    {
      "cell_type": "code",
      "metadata": {
        "id": "8URAm2N64wGO",
        "colab_type": "code",
        "outputId": "d661e274-1c49-41ad-86dd-7ca89d8979bd",
        "colab": {
          "base_uri": "https://localhost:8080/",
          "height": 907
        }
      },
      "source": [
        "sentence.split(\" \")"
      ],
      "execution_count": 10,
      "outputs": [
        {
          "output_type": "execute_result",
          "data": {
            "text/plain": [
              "['films',\n",
              " 'adapted',\n",
              " 'from',\n",
              " 'comic',\n",
              " 'books',\n",
              " 'have',\n",
              " 'had',\n",
              " 'plenty',\n",
              " 'of',\n",
              " 'success',\n",
              " ',',\n",
              " 'whether',\n",
              " \"they're\",\n",
              " 'about',\n",
              " 'superheroes',\n",
              " '(',\n",
              " 'batman',\n",
              " ',',\n",
              " 'superman',\n",
              " ',',\n",
              " 'spawn',\n",
              " ')',\n",
              " ',',\n",
              " 'or',\n",
              " 'geared',\n",
              " 'toward',\n",
              " 'kids',\n",
              " '(',\n",
              " 'casper',\n",
              " ')',\n",
              " 'or',\n",
              " 'the',\n",
              " 'arthouse',\n",
              " 'crowd',\n",
              " '(',\n",
              " 'ghost',\n",
              " 'world',\n",
              " ')',\n",
              " ',',\n",
              " 'but',\n",
              " \"there's\",\n",
              " 'never',\n",
              " 'really',\n",
              " 'been',\n",
              " 'a',\n",
              " 'comic',\n",
              " 'book',\n",
              " 'like',\n",
              " 'from',\n",
              " 'hell',\n",
              " 'before',\n",
              " '.',\n",
              " '']"
            ]
          },
          "metadata": {
            "tags": []
          },
          "execution_count": 10
        }
      ]
    },
    {
      "cell_type": "code",
      "metadata": {
        "id": "Y368IsrqB_yN",
        "colab_type": "code",
        "colab": {
          "base_uri": "https://localhost:8080/",
          "height": 34
        },
        "outputId": "85e417d5-f4d7-4793-f67d-297bf8174ead"
      },
      "source": [
        "\"Batman\"[0].isupper()"
      ],
      "execution_count": 16,
      "outputs": [
        {
          "output_type": "execute_result",
          "data": {
            "text/plain": [
              "True"
            ]
          },
          "metadata": {
            "tags": []
          },
          "execution_count": 16
        }
      ]
    },
    {
      "cell_type": "code",
      "metadata": {
        "id": "hLXXROra4wGR",
        "colab_type": "code",
        "outputId": "4875c902-961a-45e7-dfe9-36dc02ef01d7",
        "colab": {
          "base_uri": "https://localhost:8080/",
          "height": 34
        }
      },
      "source": [
        "\"Batm@n\".isalnum()"
      ],
      "execution_count": 13,
      "outputs": [
        {
          "output_type": "execute_result",
          "data": {
            "text/plain": [
              "False"
            ]
          },
          "metadata": {
            "tags": []
          },
          "execution_count": 13
        }
      ]
    },
    {
      "cell_type": "code",
      "metadata": {
        "id": "B5yLFd844wGT",
        "colab_type": "code",
        "outputId": "c10b24d0-d231-4eb0-808e-eedc02b0b904",
        "colab": {
          "base_uri": "https://localhost:8080/",
          "height": 34
        }
      },
      "source": [
        "\"12345\".isnumeric()"
      ],
      "execution_count": 17,
      "outputs": [
        {
          "output_type": "execute_result",
          "data": {
            "text/plain": [
              "True"
            ]
          },
          "metadata": {
            "tags": []
          },
          "execution_count": 17
        }
      ]
    },
    {
      "cell_type": "code",
      "metadata": {
        "id": "mFCXrhe04wGW",
        "colab_type": "code",
        "outputId": "52a2c1e3-86d7-4a9e-8008-350bef60c1ee",
        "colab": {
          "base_uri": "https://localhost:8080/",
          "height": 34
        }
      },
      "source": [
        "\"superman\".capitalize()"
      ],
      "execution_count": 18,
      "outputs": [
        {
          "output_type": "execute_result",
          "data": {
            "text/plain": [
              "'Superman'"
            ]
          },
          "metadata": {
            "tags": []
          },
          "execution_count": 18
        }
      ]
    },
    {
      "cell_type": "code",
      "metadata": {
        "id": "0qleGvvv4wGY",
        "colab_type": "code",
        "outputId": "43a04fed-aacf-41a0-cf5e-092c1d8485b8",
        "colab": {
          "base_uri": "https://localhost:8080/",
          "height": 34
        }
      },
      "source": [
        "\".\".join([\"first\",\"second\",\"third\"])"
      ],
      "execution_count": 22,
      "outputs": [
        {
          "output_type": "execute_result",
          "data": {
            "text/plain": [
              "'first.second.third'"
            ]
          },
          "metadata": {
            "tags": []
          },
          "execution_count": 22
        }
      ]
    },
    {
      "cell_type": "code",
      "metadata": {
        "id": "61Jwr2tD4wGa",
        "colab_type": "code",
        "outputId": "ad764eec-4ed5-4924-9871-ce271116d8b3",
        "colab": {
          "base_uri": "https://localhost:8080/",
          "height": 34
        }
      },
      "source": [
        "words=[]\n",
        "for s in lines:\n",
        "  words.extend(s.split(\" \"))\n",
        "len(words)\n",
        "\n",
        "len(set(words))"
      ],
      "execution_count": 24,
      "outputs": [
        {
          "output_type": "execute_result",
          "data": {
            "text/plain": [
              "427"
            ]
          },
          "metadata": {
            "tags": []
          },
          "execution_count": 24
        }
      ]
    },
    {
      "cell_type": "code",
      "metadata": {
        "id": "XX20zQiN4wGd",
        "colab_type": "code",
        "colab": {}
      },
      "source": [
        "count={}\n",
        "for word in words:\n",
        "  if word in count:\n",
        "    count[word]+=1\n",
        "  else:\n",
        "    count[word]=1"
      ],
      "execution_count": 0,
      "outputs": []
    },
    {
      "cell_type": "code",
      "metadata": {
        "id": "xmYNVFeQ4wGf",
        "colab_type": "code",
        "outputId": "e2e74385-bc1d-45fd-ea3b-e74971dbd568",
        "colab": {
          "base_uri": "https://localhost:8080/",
          "height": 1000
        }
      },
      "source": [
        "count"
      ],
      "execution_count": 27,
      "outputs": [
        {
          "output_type": "execute_result",
          "data": {
            "text/plain": [
              "{'': 26,\n",
              " '\"': 6,\n",
              " \"'80s\": 1,\n",
              " '(': 18,\n",
              " ')': 18,\n",
              " ',': 43,\n",
              " '-': 2,\n",
              " '.': 23,\n",
              " '00': 1,\n",
              " '102': 1,\n",
              " '12-part': 1,\n",
              " '1888': 1,\n",
              " '2': 2,\n",
              " '30': 1,\n",
              " '500': 1,\n",
              " ':': 3,\n",
              " '?': 3,\n",
              " 'a': 15,\n",
              " 'abberline': 2,\n",
              " 'ably': 1,\n",
              " 'about': 4,\n",
              " 'absinthe': 1,\n",
              " 'accent': 2,\n",
              " 'acting': 1,\n",
              " 'acts': 1,\n",
              " 'actually': 1,\n",
              " 'adapted': 1,\n",
              " 'after': 1,\n",
              " 'alan': 1,\n",
              " 'albert': 1,\n",
              " 'all': 3,\n",
              " 'allen': 1,\n",
              " 'almost': 1,\n",
              " 'amounts': 1,\n",
              " 'an': 3,\n",
              " 'and': 20,\n",
              " 'another': 1,\n",
              " 'anyone': 1,\n",
              " 'anything': 1,\n",
              " 'apes': 1,\n",
              " 'appearance': 1,\n",
              " 'are': 1,\n",
              " 'arriving': 1,\n",
              " 'arthouse': 1,\n",
              " 'as': 2,\n",
              " 'at': 3,\n",
              " 'attempt': 1,\n",
              " 'back': 1,\n",
              " 'bad': 1,\n",
              " 'batman': 1,\n",
              " 'be': 3,\n",
              " 'because': 2,\n",
              " 'been': 3,\n",
              " 'before': 1,\n",
              " 'befriends': 1,\n",
              " 'behind': 1,\n",
              " 'better': 1,\n",
              " 'big': 1,\n",
              " 'black-and-white': 1,\n",
              " 'blame': 1,\n",
              " 'bleak': 1,\n",
              " 'blindly': 1,\n",
              " 'block': 1,\n",
              " 'blow': 1,\n",
              " 'book': 3,\n",
              " 'books': 1,\n",
              " 'both': 2,\n",
              " 'bother': 1,\n",
              " 'briefed': 1,\n",
              " 'british': 1,\n",
              " 'brothers': 1,\n",
              " 'brought': 1,\n",
              " 'burton': 1,\n",
              " 'but': 7,\n",
              " 'by': 1,\n",
              " 'called': 2,\n",
              " 'calls': 1,\n",
              " 'campbell': 3,\n",
              " 'can': 1,\n",
              " \"can't\": 1,\n",
              " 'capable': 1,\n",
              " 'captures': 1,\n",
              " 'car/who': 1,\n",
              " 'carrot': 1,\n",
              " 'carving': 1,\n",
              " 'case': 1,\n",
              " 'casper': 1,\n",
              " 'casting': 1,\n",
              " 'certainly': 1,\n",
              " \"childs'\": 1,\n",
              " 'chooses': 1,\n",
              " 'cinematographer': 1,\n",
              " 'cloaking': 1,\n",
              " 'color': 1,\n",
              " 'coltrane': 1,\n",
              " 'comic': 5,\n",
              " 'comments': 1,\n",
              " 'committing': 1,\n",
              " 'comparison': 1,\n",
              " 'completely': 1,\n",
              " 'consist': 1,\n",
              " 'content': 1,\n",
              " 'copious': 1,\n",
              " 'copper': 1,\n",
              " 'could': 1,\n",
              " 'course': 1,\n",
              " 'crack': 1,\n",
              " 'crazy': 1,\n",
              " 'created': 1,\n",
              " 'creepy': 1,\n",
              " 'crime': 1,\n",
              " 'crimes': 1,\n",
              " 'cringed': 1,\n",
              " 'crowd': 1,\n",
              " 'dalmatians': 1,\n",
              " 'dark': 1,\n",
              " 'days': 1,\n",
              " 'deftly': 1,\n",
              " 'deming': 1,\n",
              " 'depp': 2,\n",
              " 'design': 1,\n",
              " 'did': 1,\n",
              " 'direct': 2,\n",
              " 'directors': 1,\n",
              " 'dismiss': 1,\n",
              " 'do': 1,\n",
              " \"don't\": 5,\n",
              " 'dreams': 1,\n",
              " 'dreamy': 1,\n",
              " 'dreariness': 1,\n",
              " 'drug': 1,\n",
              " 'east': 1,\n",
              " 'eddie': 1,\n",
              " 'electric': 1,\n",
              " 'end': 2,\n",
              " 'ending': 1,\n",
              " 'englishman': 1,\n",
              " 'enough': 2,\n",
              " 'even': 3,\n",
              " 'features': 1,\n",
              " 'film': 5,\n",
              " 'films': 1,\n",
              " 'filthy': 1,\n",
              " 'finalized': 1,\n",
              " 'find': 1,\n",
              " 'finger': 1,\n",
              " 'finished': 1,\n",
              " 'first': 2,\n",
              " 'flashbacks': 1,\n",
              " 'flashy': 1,\n",
              " 'footnotes': 1,\n",
              " 'for': 3,\n",
              " 'frederick': 1,\n",
              " 'from': 8,\n",
              " 'funny': 1,\n",
              " 'geared': 1,\n",
              " 'geniuses': 1,\n",
              " 'get': 2,\n",
              " 'getting': 1,\n",
              " 'ghastly': 1,\n",
              " 'ghetto': 2,\n",
              " 'ghost': 1,\n",
              " 'go': 1,\n",
              " 'godley': 1,\n",
              " 'good': 2,\n",
              " \"gould's\": 1,\n",
              " 'graham': 2,\n",
              " 'graphic': 1,\n",
              " 'great': 1,\n",
              " 'gruesome': 1,\n",
              " 'guttenberg': 1,\n",
              " 'had': 3,\n",
              " 'half': 1,\n",
              " 'handling': 1,\n",
              " 'has': 2,\n",
              " 'have': 2,\n",
              " 'hayes': 1,\n",
              " 'he': 3,\n",
              " 'heather': 1,\n",
              " 'hell': 2,\n",
              " \"hell's\": 3,\n",
              " 'helped': 1,\n",
              " 'her': 2,\n",
              " 'here': 2,\n",
              " 'hidden': 1,\n",
              " 'him': 1,\n",
              " 'holds': 1,\n",
              " 'hollow': 1,\n",
              " 'holm': 1,\n",
              " 'horribly': 1,\n",
              " 'how': 1,\n",
              " 'however': 1,\n",
              " 'hughes': 2,\n",
              " 'i': 4,\n",
              " 'ians': 1,\n",
              " 'identity': 2,\n",
              " 'if': 2,\n",
              " 'ii': 1,\n",
              " 'imagining': 1,\n",
              " 'in': 18,\n",
              " 'includes': 1,\n",
              " 'indians': 1,\n",
              " 'inspector': 1,\n",
              " 'interesting': 1,\n",
              " 'into': 2,\n",
              " 'investigate': 1,\n",
              " 'irish': 1,\n",
              " 'is': 7,\n",
              " \"isn't\": 1,\n",
              " 'it': 6,\n",
              " \"it'll\": 1,\n",
              " \"it's\": 4,\n",
              " 'its': 1,\n",
              " 'jack': 2,\n",
              " 'jackson': 1,\n",
              " 'jews': 1,\n",
              " 'job': 1,\n",
              " 'joe': 1,\n",
              " 'johnny': 1,\n",
              " 'keeping': 1,\n",
              " 'kelly': 1,\n",
              " 'kids': 1,\n",
              " 'killer': 1,\n",
              " 'killing': 1,\n",
              " 'language': 1,\n",
              " 'les': 1,\n",
              " 'level': 1,\n",
              " 'like': 4,\n",
              " 'limit': 1,\n",
              " 'little': 2,\n",
              " 'locals': 1,\n",
              " 'log': 1,\n",
              " 'london': 1,\n",
              " \"london's\": 1,\n",
              " 'long': 1,\n",
              " 'look': 1,\n",
              " 'looks': 1,\n",
              " 'love': 1,\n",
              " 'ludicrous': 1,\n",
              " 'mad': 1,\n",
              " 'made': 1,\n",
              " 'make': 2,\n",
              " 'manson': 1,\n",
              " 'marilyn': 1,\n",
              " 'martin': 1,\n",
              " 'mary': 1,\n",
              " 'me': 3,\n",
              " 'medium': 1,\n",
              " 'menace': 1,\n",
              " 'michael': 1,\n",
              " 'mid': 1,\n",
              " 'might': 1,\n",
              " 'mis': 1,\n",
              " 'moore': 3,\n",
              " 'more': 2,\n",
              " 'mouth': 1,\n",
              " 'much': 1,\n",
              " 'music': 1,\n",
              " 'mysterious': 1,\n",
              " 'named': 1,\n",
              " 'nearly': 1,\n",
              " 'needs': 1,\n",
              " 'nervous': 1,\n",
              " 'never': 2,\n",
              " 'new': 1,\n",
              " 'no': 1,\n",
              " 'not': 2,\n",
              " 'nothing': 1,\n",
              " 'novel': 1,\n",
              " 'now': 1,\n",
              " 'odd': 1,\n",
              " 'of': 14,\n",
              " 'on': 1,\n",
              " 'one': 1,\n",
              " 'onto': 1,\n",
              " 'opened': 1,\n",
              " 'opium': 1,\n",
              " 'or': 3,\n",
              " 'original': 1,\n",
              " 'oscar': 1,\n",
              " 'other': 2,\n",
              " 'over': 1,\n",
              " 'pages': 1,\n",
              " 'pales': 1,\n",
              " 'particulars': 1,\n",
              " 'past': 1,\n",
              " 'peaks': 1,\n",
              " 'performance': 1,\n",
              " 'peter': 2,\n",
              " 'place': 2,\n",
              " 'planet': 1,\n",
              " 'plenty': 1,\n",
              " 'point': 1,\n",
              " 'police': 1,\n",
              " 'prague': 1,\n",
              " 'precision': 1,\n",
              " 'print': 1,\n",
              " 'proceeds': 1,\n",
              " 'production': 1,\n",
              " 'profession': 1,\n",
              " 'prophetic': 1,\n",
              " 'psychopath': 1,\n",
              " 'quell': 1,\n",
              " 'question': 1,\n",
              " 'r': 1,\n",
              " 'rables': 1,\n",
              " 'rafael': 1,\n",
              " 'really': 2,\n",
              " 'reasons': 1,\n",
              " 'remind': 1,\n",
              " 'researched': 1,\n",
              " 'richardson': 1,\n",
              " 'riddle': 1,\n",
              " 'ripper': 3,\n",
              " 'robbie': 1,\n",
              " 'roles': 1,\n",
              " 'saw': 1,\n",
              " 'say': 4,\n",
              " 'saying': 1,\n",
              " 'scenes': 1,\n",
              " 'screenwriters': 1,\n",
              " 'secret': 1,\n",
              " 'see': 2,\n",
              " 'seems': 2,\n",
              " 'sense': 1,\n",
              " 'series': 1,\n",
              " 'set': 1,\n",
              " 'sexuality': 1,\n",
              " 'shakespeare': 1,\n",
              " 'she': 1,\n",
              " 'simpsons': 1,\n",
              " 'slay': 1,\n",
              " 'sleepy': 1,\n",
              " 'so': 3,\n",
              " 'society': 1,\n",
              " 'solid': 1,\n",
              " 'song': 1,\n",
              " 'sooty': 1,\n",
              " 'source': 1,\n",
              " 'spawn': 1,\n",
              " 'star': 1,\n",
              " 'starters': 1,\n",
              " 'starting': 2,\n",
              " 'steve': 1,\n",
              " 'stiff': 1,\n",
              " 'stomach': 1,\n",
              " 'stonecutters': 1,\n",
              " 'street': 1,\n",
              " 'strong': 2,\n",
              " 'stumbling': 1,\n",
              " 'subject': 1,\n",
              " 'success': 1,\n",
              " 'such': 1,\n",
              " 'superheroes': 1,\n",
              " 'superman': 1,\n",
              " 'supporting': 1,\n",
              " 'surgeon': 1,\n",
              " 'surgical': 1,\n",
              " 'surprise': 1,\n",
              " 'surprising': 1,\n",
              " 'surroundings': 1,\n",
              " 'terry': 1,\n",
              " 'than': 3,\n",
              " 'that': 3,\n",
              " \"that's\": 1,\n",
              " 'the': 46,\n",
              " 'their': 1,\n",
              " 'theory': 1,\n",
              " \"there's\": 1,\n",
              " 'they': 1,\n",
              " \"they're\": 1,\n",
              " 'thing': 1,\n",
              " 'think': 1,\n",
              " 'this': 4,\n",
              " 'thoroughly': 1,\n",
              " 'though': 1,\n",
              " 'through': 1,\n",
              " 'tim': 1,\n",
              " 'time': 1,\n",
              " 'times': 1,\n",
              " 'to': 15,\n",
              " 'top': 1,\n",
              " 'toward': 1,\n",
              " 'tries': 1,\n",
              " 'turning': 1,\n",
              " 'turns': 2,\n",
              " 'twin': 1,\n",
              " 'typically': 1,\n",
              " 'unfortunate': 1,\n",
              " 'unfortunates': 1,\n",
              " 'unique': 1,\n",
              " 'unsuccessfully': 1,\n",
              " 'until': 1,\n",
              " 'up': 1,\n",
              " 'upon': 1,\n",
              " 'vertical': 1,\n",
              " 'very': 1,\n",
              " 'victorian-era': 1,\n",
              " 'viewers': 1,\n",
              " 'violence': 1,\n",
              " 'violence/gore': 1,\n",
              " 'violent': 1,\n",
              " 'was': 1,\n",
              " \"wasn't\": 2,\n",
              " 'watch': 1,\n",
              " 'watchmen': 1,\n",
              " 'well': 1,\n",
              " 'when': 2,\n",
              " 'where': 1,\n",
              " 'whether': 1,\n",
              " 'whistling': 1,\n",
              " 'whitechapel': 2,\n",
              " 'who': 4,\n",
              " 'whole': 2,\n",
              " 'whores': 1,\n",
              " 'widower': 1,\n",
              " 'will': 1,\n",
              " 'winner': 1,\n",
              " 'with': 4,\n",
              " \"won't\": 1,\n",
              " 'word': 1,\n",
              " 'words': 1,\n",
              " 'world': 2,\n",
              " 'worry': 1,\n",
              " 'would': 1,\n",
              " 'yglesias': 1,\n",
              " 'you': 4}"
            ]
          },
          "metadata": {
            "tags": []
          },
          "execution_count": 27
        }
      ]
    },
    {
      "cell_type": "code",
      "metadata": {
        "id": "AQzKaOJf4wGh",
        "colab_type": "code",
        "colab": {
          "base_uri": "https://localhost:8080/",
          "height": 50
        },
        "outputId": "1b15c121-89f8-477b-a09c-09ec91036a83"
      },
      "source": [
        "sent=\"this is the first sentence. This is another sentence? this is the third sentence! Hi\"\n",
        "sent.split(\".\")"
      ],
      "execution_count": 29,
      "outputs": [
        {
          "output_type": "execute_result",
          "data": {
            "text/plain": [
              "['this is the first sentence',\n",
              " ' This is another sentence? this is the third sentence! Hi']"
            ]
          },
          "metadata": {
            "tags": []
          },
          "execution_count": 29
        }
      ]
    },
    {
      "cell_type": "code",
      "metadata": {
        "id": "GOJG6Vou4wGj",
        "colab_type": "code",
        "outputId": "b0553a90-b436-4336-a95a-aa894b4aeb1e",
        "colab": {}
      },
      "source": [
        ""
      ],
      "execution_count": 0,
      "outputs": [
        {
          "output_type": "execute_result",
          "data": {
            "text/plain": [
              "{'films': 1,\n",
              " 'adapted': 1,\n",
              " 'from': 8,\n",
              " 'comic': 5,\n",
              " 'books': 1,\n",
              " 'have': 2,\n",
              " 'had': 3,\n",
              " 'plenty': 1,\n",
              " 'of': 14,\n",
              " 'success': 1,\n",
              " ',': 43,\n",
              " 'whether': 1,\n",
              " \"they're\": 1,\n",
              " 'about': 4,\n",
              " 'superheroes': 1,\n",
              " '(': 18,\n",
              " 'batman': 1,\n",
              " 'superman': 1,\n",
              " 'spawn': 1,\n",
              " ')': 18,\n",
              " 'or': 3,\n",
              " 'geared': 1,\n",
              " 'toward': 1,\n",
              " 'kids': 1,\n",
              " 'casper': 1,\n",
              " 'the': 46,\n",
              " 'arthouse': 1,\n",
              " 'crowd': 1,\n",
              " 'ghost': 1,\n",
              " 'world': 2,\n",
              " 'but': 7,\n",
              " \"there's\": 1,\n",
              " 'never': 2,\n",
              " 'really': 2,\n",
              " 'been': 3,\n",
              " 'a': 15,\n",
              " 'book': 3,\n",
              " 'like': 4,\n",
              " 'hell': 2,\n",
              " 'before': 1,\n",
              " '.': 23,\n",
              " '': 26,\n",
              " 'for': 3,\n",
              " 'starters': 1,\n",
              " 'it': 6,\n",
              " 'was': 1,\n",
              " 'created': 1,\n",
              " 'by': 1,\n",
              " 'alan': 1,\n",
              " 'moore': 3,\n",
              " 'and': 20,\n",
              " 'eddie': 1,\n",
              " 'campbell': 3,\n",
              " 'who': 4,\n",
              " 'brought': 1,\n",
              " 'medium': 1,\n",
              " 'to': 15,\n",
              " 'whole': 2,\n",
              " 'new': 1,\n",
              " 'level': 1,\n",
              " 'in': 18,\n",
              " 'mid': 1,\n",
              " \"'80s\": 1,\n",
              " 'with': 4,\n",
              " '12-part': 1,\n",
              " 'series': 1,\n",
              " 'called': 2,\n",
              " 'watchmen': 1,\n",
              " 'say': 4,\n",
              " 'thoroughly': 1,\n",
              " 'researched': 1,\n",
              " 'subject': 1,\n",
              " 'jack': 2,\n",
              " 'ripper': 3,\n",
              " 'would': 1,\n",
              " 'be': 3,\n",
              " 'saying': 1,\n",
              " 'michael': 1,\n",
              " 'jackson': 1,\n",
              " 'is': 7,\n",
              " 'starting': 2,\n",
              " 'look': 1,\n",
              " 'little': 2,\n",
              " 'odd': 1,\n",
              " '\"': 6,\n",
              " 'graphic': 1,\n",
              " 'novel': 1,\n",
              " 'if': 2,\n",
              " 'you': 4,\n",
              " 'will': 1,\n",
              " 'over': 1,\n",
              " '500': 1,\n",
              " 'pages': 1,\n",
              " 'long': 1,\n",
              " 'includes': 1,\n",
              " 'nearly': 1,\n",
              " '30': 1,\n",
              " 'more': 2,\n",
              " 'that': 3,\n",
              " 'consist': 1,\n",
              " 'nothing': 1,\n",
              " 'footnotes': 1,\n",
              " 'other': 2,\n",
              " 'words': 1,\n",
              " \"don't\": 5,\n",
              " 'dismiss': 1,\n",
              " 'this': 4,\n",
              " 'film': 5,\n",
              " 'because': 2,\n",
              " 'its': 1,\n",
              " 'source': 1,\n",
              " 'can': 1,\n",
              " 'get': 2,\n",
              " 'past': 1,\n",
              " 'thing': 1,\n",
              " 'might': 1,\n",
              " 'find': 1,\n",
              " 'another': 1,\n",
              " 'stumbling': 1,\n",
              " 'block': 1,\n",
              " \"hell's\": 3,\n",
              " 'directors': 1,\n",
              " 'albert': 1,\n",
              " 'allen': 1,\n",
              " 'hughes': 2,\n",
              " 'getting': 1,\n",
              " 'brothers': 1,\n",
              " 'direct': 2,\n",
              " 'seems': 2,\n",
              " 'almost': 1,\n",
              " 'as': 2,\n",
              " 'ludicrous': 1,\n",
              " 'casting': 1,\n",
              " 'carrot': 1,\n",
              " 'top': 1,\n",
              " 'well': 1,\n",
              " 'anything': 1,\n",
              " 'riddle': 1,\n",
              " 'me': 3,\n",
              " ':': 3,\n",
              " 'better': 1,\n",
              " \"that's\": 1,\n",
              " 'set': 1,\n",
              " 'ghetto': 2,\n",
              " 'features': 1,\n",
              " 'violent': 1,\n",
              " 'street': 1,\n",
              " 'crime': 1,\n",
              " 'than': 3,\n",
              " 'mad': 1,\n",
              " 'geniuses': 1,\n",
              " 'behind': 1,\n",
              " 'menace': 1,\n",
              " 'ii': 1,\n",
              " 'society': 1,\n",
              " '?': 3,\n",
              " 'question': 1,\n",
              " 'course': 1,\n",
              " 'whitechapel': 2,\n",
              " '1888': 1,\n",
              " \"london's\": 1,\n",
              " 'east': 1,\n",
              " 'end': 2,\n",
              " \"it's\": 4,\n",
              " 'filthy': 1,\n",
              " 'sooty': 1,\n",
              " 'place': 2,\n",
              " 'where': 1,\n",
              " 'whores': 1,\n",
              " 'unfortunates': 1,\n",
              " 'are': 1,\n",
              " 'nervous': 1,\n",
              " 'mysterious': 1,\n",
              " 'psychopath': 1,\n",
              " 'has': 2,\n",
              " 'carving': 1,\n",
              " 'through': 1,\n",
              " 'their': 1,\n",
              " 'profession': 1,\n",
              " 'surgical': 1,\n",
              " 'precision': 1,\n",
              " 'when': 2,\n",
              " 'first': 2,\n",
              " 'stiff': 1,\n",
              " 'turns': 2,\n",
              " 'up': 1,\n",
              " 'copper': 1,\n",
              " 'peter': 2,\n",
              " 'godley': 1,\n",
              " 'robbie': 1,\n",
              " 'coltrane': 1,\n",
              " 'not': 2,\n",
              " 'enough': 2,\n",
              " 'calls': 1,\n",
              " 'inspector': 1,\n",
              " 'frederick': 1,\n",
              " 'abberline': 2,\n",
              " 'johnny': 1,\n",
              " 'depp': 2,\n",
              " 'blow': 1,\n",
              " 'crack': 1,\n",
              " 'case': 1,\n",
              " 'widower': 1,\n",
              " 'prophetic': 1,\n",
              " 'dreams': 1,\n",
              " 'he': 3,\n",
              " 'unsuccessfully': 1,\n",
              " 'tries': 1,\n",
              " 'quell': 1,\n",
              " 'copious': 1,\n",
              " 'amounts': 1,\n",
              " 'absinthe': 1,\n",
              " 'opium': 1,\n",
              " 'upon': 1,\n",
              " 'arriving': 1,\n",
              " 'befriends': 1,\n",
              " 'an': 3,\n",
              " 'unfortunate': 1,\n",
              " 'named': 1,\n",
              " 'mary': 1,\n",
              " 'kelly': 1,\n",
              " 'heather': 1,\n",
              " 'graham': 2,\n",
              " \"isn't\": 1,\n",
              " 'so': 3,\n",
              " 'proceeds': 1,\n",
              " 'investigate': 1,\n",
              " 'horribly': 1,\n",
              " 'gruesome': 1,\n",
              " 'crimes': 1,\n",
              " 'even': 3,\n",
              " 'police': 1,\n",
              " 'surgeon': 1,\n",
              " \"can't\": 1,\n",
              " 'stomach': 1,\n",
              " 'i': 4,\n",
              " 'think': 1,\n",
              " 'anyone': 1,\n",
              " 'needs': 1,\n",
              " 'briefed': 1,\n",
              " 'on': 1,\n",
              " \"won't\": 1,\n",
              " 'go': 1,\n",
              " 'into': 2,\n",
              " 'particulars': 1,\n",
              " 'here': 2,\n",
              " 'unique': 1,\n",
              " 'interesting': 1,\n",
              " 'theory': 1,\n",
              " 'both': 2,\n",
              " 'identity': 2,\n",
              " 'killer': 1,\n",
              " 'reasons': 1,\n",
              " 'chooses': 1,\n",
              " 'slay': 1,\n",
              " 'they': 1,\n",
              " 'bother': 1,\n",
              " 'cloaking': 1,\n",
              " 'screenwriters': 1,\n",
              " 'terry': 1,\n",
              " 'hayes': 1,\n",
              " 'vertical': 1,\n",
              " 'limit': 1,\n",
              " 'rafael': 1,\n",
              " 'yglesias': 1,\n",
              " 'les': 1,\n",
              " 'mis': 1,\n",
              " 'rables': 1,\n",
              " 'do': 1,\n",
              " 'good': 2,\n",
              " 'job': 1,\n",
              " 'keeping': 1,\n",
              " 'him': 1,\n",
              " 'hidden': 1,\n",
              " 'viewers': 1,\n",
              " 'until': 1,\n",
              " 'very': 1,\n",
              " 'funny': 1,\n",
              " 'watch': 1,\n",
              " 'locals': 1,\n",
              " 'blindly': 1,\n",
              " 'point': 1,\n",
              " 'finger': 1,\n",
              " 'blame': 1,\n",
              " 'at': 3,\n",
              " 'jews': 1,\n",
              " 'indians': 1,\n",
              " 'after': 1,\n",
              " 'all': 3,\n",
              " 'englishman': 1,\n",
              " 'could': 1,\n",
              " 'capable': 1,\n",
              " 'committing': 1,\n",
              " 'such': 1,\n",
              " 'ghastly': 1,\n",
              " 'acts': 1,\n",
              " 'ending': 1,\n",
              " 'whistling': 1,\n",
              " 'stonecutters': 1,\n",
              " 'song': 1,\n",
              " 'simpsons': 1,\n",
              " 'days': 1,\n",
              " 'holds': 1,\n",
              " 'back': 1,\n",
              " 'electric': 1,\n",
              " 'car/who': 1,\n",
              " 'made': 1,\n",
              " 'steve': 1,\n",
              " 'guttenberg': 1,\n",
              " 'star': 1,\n",
              " 'worry': 1,\n",
              " '-': 2,\n",
              " \"it'll\": 1,\n",
              " 'make': 2,\n",
              " 'sense': 1,\n",
              " 'see': 2,\n",
              " 'now': 1,\n",
              " 'onto': 1,\n",
              " 'appearance': 1,\n",
              " 'certainly': 1,\n",
              " 'dark': 1,\n",
              " 'bleak': 1,\n",
              " 'surprising': 1,\n",
              " 'how': 1,\n",
              " 'much': 1,\n",
              " 'looks': 1,\n",
              " 'tim': 1,\n",
              " 'burton': 1,\n",
              " 'planet': 1,\n",
              " 'apes': 1,\n",
              " 'did': 1,\n",
              " 'times': 1,\n",
              " 'sleepy': 1,\n",
              " 'hollow': 1,\n",
              " '2': 2,\n",
              " 'print': 1,\n",
              " 'saw': 1,\n",
              " \"wasn't\": 2,\n",
              " 'completely': 1,\n",
              " 'finished': 1,\n",
              " 'color': 1,\n",
              " 'music': 1,\n",
              " 'finalized': 1,\n",
              " 'no': 1,\n",
              " 'comments': 1,\n",
              " 'marilyn': 1,\n",
              " 'manson': 1,\n",
              " 'cinematographer': 1,\n",
              " 'deming': 1,\n",
              " 'word': 1,\n",
              " 'ably': 1,\n",
              " 'captures': 1,\n",
              " 'dreariness': 1,\n",
              " 'victorian-era': 1,\n",
              " 'london': 1,\n",
              " 'helped': 1,\n",
              " 'flashy': 1,\n",
              " 'killing': 1,\n",
              " 'scenes': 1,\n",
              " 'remind': 1,\n",
              " 'crazy': 1,\n",
              " 'flashbacks': 1,\n",
              " 'twin': 1,\n",
              " 'peaks': 1,\n",
              " 'though': 1,\n",
              " 'violence': 1,\n",
              " 'pales': 1,\n",
              " 'comparison': 1,\n",
              " 'black-and-white': 1,\n",
              " 'oscar': 1,\n",
              " 'winner': 1,\n",
              " 'martin': 1,\n",
              " \"childs'\": 1,\n",
              " 'shakespeare': 1,\n",
              " 'love': 1,\n",
              " 'production': 1,\n",
              " 'design': 1,\n",
              " 'original': 1,\n",
              " 'prague': 1,\n",
              " 'surroundings': 1,\n",
              " 'one': 1,\n",
              " 'creepy': 1,\n",
              " 'acting': 1,\n",
              " 'solid': 1,\n",
              " 'dreamy': 1,\n",
              " 'turning': 1,\n",
              " 'typically': 1,\n",
              " 'strong': 2,\n",
              " 'performance': 1,\n",
              " 'deftly': 1,\n",
              " 'handling': 1,\n",
              " 'british': 1,\n",
              " 'accent': 2,\n",
              " 'ians': 1,\n",
              " 'holm': 1,\n",
              " 'joe': 1,\n",
              " \"gould's\": 1,\n",
              " 'secret': 1,\n",
              " 'richardson': 1,\n",
              " '102': 1,\n",
              " 'dalmatians': 1,\n",
              " 'log': 1,\n",
              " 'great': 1,\n",
              " 'supporting': 1,\n",
              " 'roles': 1,\n",
              " 'big': 1,\n",
              " 'surprise': 1,\n",
              " 'cringed': 1,\n",
              " 'time': 1,\n",
              " 'she': 1,\n",
              " 'opened': 1,\n",
              " 'her': 2,\n",
              " 'mouth': 1,\n",
              " 'imagining': 1,\n",
              " 'attempt': 1,\n",
              " 'irish': 1,\n",
              " 'actually': 1,\n",
              " 'half': 1,\n",
              " 'bad': 1,\n",
              " 'however': 1,\n",
              " '00': 1,\n",
              " 'r': 1,\n",
              " 'violence/gore': 1,\n",
              " 'sexuality': 1,\n",
              " 'language': 1,\n",
              " 'drug': 1,\n",
              " 'content': 1}"
            ]
          },
          "metadata": {
            "tags": []
          },
          "execution_count": 15
        }
      ]
    },
    {
      "cell_type": "code",
      "metadata": {
        "id": "9CD7odYC4wGl",
        "colab_type": "code",
        "outputId": "a3ea0576-9fe3-4683-8e93-f2b656f2d0d6",
        "colab": {}
      },
      "source": [
        "sent = \"This is the first sentence. This is another sentence. This is the third sentence. This is the last sentence\""
      ],
      "execution_count": 0,
      "outputs": [
        {
          "output_type": "execute_result",
          "data": {
            "text/plain": [
              "['This is the first sentence',\n",
              " 'This is another sentence',\n",
              " 'This is the third sentence',\n",
              " 'This is the last sentence']"
            ]
          },
          "metadata": {
            "tags": []
          },
          "execution_count": 17
        }
      ]
    },
    {
      "cell_type": "markdown",
      "metadata": {
        "id": "V0aban3h4wGo",
        "colab_type": "text"
      },
      "source": [
        "## Can we do better? Regular Expressions to the Rescue"
      ]
    },
    {
      "cell_type": "code",
      "metadata": {
        "id": "w2YJc2-v4wGo",
        "colab_type": "code",
        "colab": {}
      },
      "source": [
        "import re"
      ],
      "execution_count": 0,
      "outputs": []
    },
    {
      "cell_type": "markdown",
      "metadata": {
        "id": "1wmR_3aP4wGq",
        "colab_type": "text"
      },
      "source": [
        "### This module provides regular expression matching operations.\n",
        "\n",
        "Below is a list of expressions and what they match to. \n",
        "\n",
        "| Expression | Matches With                   |\n",
        "| ---------- | -----------------------------  |\n",
        "| `abc...`   | lowercase letter               |\n",
        "| `123…`     | Digits                         |\n",
        "| `\\d`       | Any Digit                      |\n",
        "| `'\\D'`     | Any Non-digit character        |\n",
        "| `.`        | Any Character                  |\n",
        "| `\\.`       | Period                         |\n",
        "| `[abc]`    | Only a, b, or c                |\n",
        "| `\\.`       | Period                         |\n",
        "| `[abc]`    | Only a, b, or c                |\n",
        "| `[^abc]`   | Not a, b, nor c                |\n",
        "| `[a-z]`    | Characters a to z              |\n",
        "| `[0-9]`    | Numbers 0 to 9                 |\n",
        "| `\\w`       | Any Alphanumeric character     |\n",
        "| `\\W`       | Any Non-alphanumeric character |\n",
        "| `{m}`      | m Repetitions                  |\n",
        "| `{m,n}`    | m to n Repetitions             |\n",
        "| `\\*`       | Zero or more repetitions       |\n",
        "| `\\+`       | One or more repetitions        |\n",
        "| `?`        | Optional character             |\n",
        "| `\\s`       | Any Whitespace                 |\n",
        "| `\\S`       | Any Non-whitespace character   |\n",
        "| `^…$`      | Starts and ends                |\n",
        "| `(…)`      | Capture Group                  |\n"
      ]
    },
    {
      "cell_type": "code",
      "metadata": {
        "scrolled": true,
        "id": "ZNf4V8AM4wGr",
        "colab_type": "code",
        "outputId": "c4df1ada-28e5-4c12-f456-4694279602fc",
        "colab": {
          "base_uri": "https://localhost:8080/",
          "height": 722
        }
      },
      "source": [
        "re.findall('\\w+', sentence)"
      ],
      "execution_count": 33,
      "outputs": [
        {
          "output_type": "execute_result",
          "data": {
            "text/plain": [
              "['films',\n",
              " 'adapted',\n",
              " 'from',\n",
              " 'comic',\n",
              " 'books',\n",
              " 'have',\n",
              " 'had',\n",
              " 'plenty',\n",
              " 'of',\n",
              " 'success',\n",
              " 'whether',\n",
              " 'they',\n",
              " 're',\n",
              " 'about',\n",
              " 'superheroes',\n",
              " 'batman',\n",
              " 'superman',\n",
              " 'spawn',\n",
              " 'or',\n",
              " 'geared',\n",
              " 'toward',\n",
              " 'kids',\n",
              " 'casper',\n",
              " 'or',\n",
              " 'the',\n",
              " 'arthouse',\n",
              " 'crowd',\n",
              " 'ghost',\n",
              " 'world',\n",
              " 'but',\n",
              " 'there',\n",
              " 's',\n",
              " 'never',\n",
              " 'really',\n",
              " 'been',\n",
              " 'a',\n",
              " 'comic',\n",
              " 'book',\n",
              " 'like',\n",
              " 'from',\n",
              " 'hell',\n",
              " 'before']"
            ]
          },
          "metadata": {
            "tags": []
          },
          "execution_count": 33
        }
      ]
    },
    {
      "cell_type": "code",
      "metadata": {
        "id": "u9QP1HtZ4wGt",
        "colab_type": "code",
        "outputId": "5d4bde49-e237-4ad5-f2a2-3f8578f9141b",
        "colab": {
          "base_uri": "https://localhost:8080/",
          "height": 84
        }
      },
      "source": [
        "re.split('[?.!]',sent)"
      ],
      "execution_count": 34,
      "outputs": [
        {
          "output_type": "execute_result",
          "data": {
            "text/plain": [
              "['this is the first sentence',\n",
              " ' This is another sentence',\n",
              " ' this is the third sentence',\n",
              " ' Hi']"
            ]
          },
          "metadata": {
            "tags": []
          },
          "execution_count": 34
        }
      ]
    },
    {
      "cell_type": "code",
      "metadata": {
        "id": "iRYbLzTt4wGv",
        "colab_type": "code",
        "outputId": "29b4c0b3-ef85-4b45-a28c-7c3530676413",
        "colab": {
          "base_uri": "https://localhost:8080/",
          "height": 34
        }
      },
      "source": [
        "sent = \"My phone number is +1-972-1234567. Indian number is +91-987654321 +91-123345AC\"\n",
        "phone = re.findall(\"\\+[0-9\\- A-Z]*\",sent)\n",
        "phone"
      ],
      "execution_count": 48,
      "outputs": [
        {
          "output_type": "execute_result",
          "data": {
            "text/plain": [
              "['+1-972-1234567', '+91-987654321 ', '+91-123345AC']"
            ]
          },
          "metadata": {
            "tags": []
          },
          "execution_count": 48
        }
      ]
    },
    {
      "cell_type": "code",
      "metadata": {
        "id": "21b57k5F4wGx",
        "colab_type": "code",
        "outputId": "0aba26d5-5c2e-488d-f5fe-cfe811842596",
        "colab": {
          "base_uri": "https://localhost:8080/",
          "height": 34
        }
      },
      "source": [
        "text = \"Your otp to login to xyz app is 567846. Go to the following link, https://xyz.co/34567\"\n",
        "r_otp= re.findall(\"[0-9]+\",text)\n",
        "r_otp"
      ],
      "execution_count": 46,
      "outputs": [
        {
          "output_type": "execute_result",
          "data": {
            "text/plain": [
              "['567846', '34567']"
            ]
          },
          "metadata": {
            "tags": []
          },
          "execution_count": 46
        }
      ]
    },
    {
      "cell_type": "markdown",
      "metadata": {
        "id": "OQyslxCT4wG3",
        "colab_type": "text"
      },
      "source": [
        "### Groups\n",
        "\n",
        "Groups of text show up everywhere.\n",
        "<ul>\n",
        "    <li>Names</li>\n",
        "    <li>Phone Numbers</li>\n",
        "    <li>Noun Phrases - \"The\" `< adjective>+` `< noun >` - For example - The funny man</li>\n",
        "</ul>"
      ]
    },
    {
      "cell_type": "code",
      "metadata": {
        "id": "UjIcls5O4wG4",
        "colab_type": "code",
        "outputId": "37cf1396-c49d-4a05-b41d-6a9735b4eb09",
        "colab": {
          "base_uri": "https://localhost:8080/",
          "height": 34
        }
      },
      "source": [
        "p=phone[0]\n",
        "re.match(\"(?P<country_code>[\\+0-9]+)-(?P<area_code>[0-9]*)-(?P<number>[0-9]*)\",p).groupdict() #paranthesis to group something"
      ],
      "execution_count": 51,
      "outputs": [
        {
          "output_type": "execute_result",
          "data": {
            "text/plain": [
              "{'area_code': '972', 'country_code': '+1', 'number': '1234567'}"
            ]
          },
          "metadata": {
            "tags": []
          },
          "execution_count": 51
        }
      ]
    },
    {
      "cell_type": "markdown",
      "metadata": {
        "id": "hINZBVs64wG8",
        "colab_type": "text"
      },
      "source": [
        "## More complicated patterns - Email IDs, URLs, etc"
      ]
    },
    {
      "cell_type": "markdown",
      "metadata": {
        "id": "0AAxCLh_4wG8",
        "colab_type": "text"
      },
      "source": [
        "## Fun Exercise\n",
        "\n",
        "Building a regular expression to test the validity of a password\n",
        "\n",
        "A valid password is one which\n",
        "<ul>\n",
        "    <li> must contains one digit</li>\n",
        "    <li>must contains one special symbols [#@!?]</li>\n",
        "    <li>must contains one upper characters</li>\n",
        "    <li>must contains one lowercase characters</li>\n",
        "    <li>length at least 6 characters and maximum of 20</li>\t\n",
        "</ul>"
      ]
    },
    {
      "cell_type": "code",
      "metadata": {
        "id": "alqsjDR04wG9",
        "colab_type": "code",
        "outputId": "c12773d3-70d2-43c8-c155-01c08cadb174",
        "colab": {
          "base_uri": "https://localhost:8080/",
          "height": 67
        }
      },
      "source": [
        "def is_valid(p):\n",
        "    regex = re.compile(\"(?=.*\\d)(?=.*[a-z])(?=.*[A-Z])(?=.*[#@!?])[A-Za-z\\d!#@?]{6,20}\")\n",
        "    if re.match(regex, p):\n",
        "        return True\n",
        "    return False\n",
        "\n",
        "passwords = [\"Regex123\", \"Regex@123\", \"Rr@12\"]\n",
        "for p in passwords:\n",
        "    print(is_valid(p))"
      ],
      "execution_count": 56,
      "outputs": [
        {
          "output_type": "stream",
          "text": [
            "False\n",
            "True\n",
            "False\n"
          ],
          "name": "stdout"
        }
      ]
    },
    {
      "cell_type": "code",
      "metadata": {
        "id": "1fXgQ6En4wG_",
        "colab_type": "code",
        "colab": {}
      },
      "source": [
        ""
      ],
      "execution_count": 0,
      "outputs": []
    }
  ]
}