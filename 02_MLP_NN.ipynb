{
  "nbformat": 4,
  "nbformat_minor": 0,
  "metadata": {
    "colab": {
      "name": "02-MLP-NN.ipynb",
      "provenance": [],
      "collapsed_sections": []
    },
    "kernelspec": {
      "name": "python3",
      "display_name": "Python 3"
    }
  },
  "cells": [
    {
      "cell_type": "markdown",
      "metadata": {
        "id": "jmQwYuvXuM2X",
        "colab_type": "text"
      },
      "source": [
        "##Step1 : Import and getting the data\n",
        "\n",
        "\n",
        "1.   Define Parameters - Network and Hyper-parameters\n",
        "2.   TF Computation Graph\n",
        "3.   Multiplayer Perceptron\n",
        "4.   Weights, Bias (W,b)\n",
        "5.   Predicted Label\n",
        "6.   Cost & optimizer\n",
        "7.   Init Session\n",
        "8.   Run the session and model\n",
        "9.   Eval Accuracy\n",
        "\n",
        "\n",
        "\n",
        "\n"
      ]
    },
    {
      "cell_type": "code",
      "metadata": {
        "id": "SDDBL3x8wixu",
        "colab_type": "code",
        "colab": {
          "base_uri": "https://localhost:8080/",
          "height": 62
        },
        "outputId": "19e745c1-5d49-4406-9e53-3dfb58dac07d"
      },
      "source": [
        "import tensorflow as tf"
      ],
      "execution_count": 1,
      "outputs": [
        {
          "output_type": "display_data",
          "data": {
            "text/html": [
              "<p style=\"color: red;\">\n",
              "The default version of TensorFlow in Colab will soon switch to TensorFlow 2.x.<br>\n",
              "We recommend you <a href=\"https://www.tensorflow.org/guide/migrate\" target=\"_blank\">upgrade</a> now \n",
              "or ensure your notebook will continue to use TensorFlow 1.x via the <code>%tensorflow_version 1.x</code> magic:\n",
              "<a href=\"https://colab.research.google.com/notebooks/tensorflow_version.ipynb\" target=\"_blank\">more info</a>.</p>\n"
            ],
            "text/plain": [
              "<IPython.core.display.HTML object>"
            ]
          },
          "metadata": {
            "tags": []
          }
        }
      ]
    },
    {
      "cell_type": "code",
      "metadata": {
        "id": "1fajePvHwqKg",
        "colab_type": "code",
        "colab": {}
      },
      "source": [
        "from tensorflow.examples.tutorials.mnist import input_data"
      ],
      "execution_count": 0,
      "outputs": []
    },
    {
      "cell_type": "code",
      "metadata": {
        "id": "pDR7UZJDwvSr",
        "colab_type": "code",
        "colab": {
          "base_uri": "https://localhost:8080/",
          "height": 406
        },
        "outputId": "22fa6e7f-b4f9-4c1c-a127-d4b44e443597"
      },
      "source": [
        "mnist = input_data.read_data_sets(\"MNIST_data\",one_hot=True)"
      ],
      "execution_count": 3,
      "outputs": [
        {
          "output_type": "stream",
          "text": [
            "WARNING:tensorflow:From <ipython-input-3-3d8a9d232fa5>:1: read_data_sets (from tensorflow.contrib.learn.python.learn.datasets.mnist) is deprecated and will be removed in a future version.\n",
            "Instructions for updating:\n",
            "Please use alternatives such as official/mnist/dataset.py from tensorflow/models.\n",
            "WARNING:tensorflow:From /usr/local/lib/python3.6/dist-packages/tensorflow_core/contrib/learn/python/learn/datasets/mnist.py:260: maybe_download (from tensorflow.contrib.learn.python.learn.datasets.base) is deprecated and will be removed in a future version.\n",
            "Instructions for updating:\n",
            "Please write your own downloading logic.\n",
            "WARNING:tensorflow:From /usr/local/lib/python3.6/dist-packages/tensorflow_core/contrib/learn/python/learn/datasets/mnist.py:262: extract_images (from tensorflow.contrib.learn.python.learn.datasets.mnist) is deprecated and will be removed in a future version.\n",
            "Instructions for updating:\n",
            "Please use tf.data to implement this functionality.\n",
            "Extracting MNIST_data/train-images-idx3-ubyte.gz\n",
            "WARNING:tensorflow:From /usr/local/lib/python3.6/dist-packages/tensorflow_core/contrib/learn/python/learn/datasets/mnist.py:267: extract_labels (from tensorflow.contrib.learn.python.learn.datasets.mnist) is deprecated and will be removed in a future version.\n",
            "Instructions for updating:\n",
            "Please use tf.data to implement this functionality.\n",
            "Extracting MNIST_data/train-labels-idx1-ubyte.gz\n",
            "WARNING:tensorflow:From /usr/local/lib/python3.6/dist-packages/tensorflow_core/contrib/learn/python/learn/datasets/mnist.py:110: dense_to_one_hot (from tensorflow.contrib.learn.python.learn.datasets.mnist) is deprecated and will be removed in a future version.\n",
            "Instructions for updating:\n",
            "Please use tf.one_hot on tensors.\n",
            "Extracting MNIST_data/t10k-images-idx3-ubyte.gz\n",
            "Extracting MNIST_data/t10k-labels-idx1-ubyte.gz\n",
            "WARNING:tensorflow:From /usr/local/lib/python3.6/dist-packages/tensorflow_core/contrib/learn/python/learn/datasets/mnist.py:290: DataSet.__init__ (from tensorflow.contrib.learn.python.learn.datasets.mnist) is deprecated and will be removed in a future version.\n",
            "Instructions for updating:\n",
            "Please use alternatives such as official/mnist/dataset.py from tensorflow/models.\n"
          ],
          "name": "stdout"
        }
      ]
    },
    {
      "cell_type": "code",
      "metadata": {
        "id": "UBhXtyRAwyF4",
        "colab_type": "code",
        "colab": {}
      },
      "source": [
        "##Hyperparameters\n",
        "learning_rate = 0.0001\n",
        "training_epochs = 100\n",
        "batch_size = 128"
      ],
      "execution_count": 0,
      "outputs": []
    },
    {
      "cell_type": "code",
      "metadata": {
        "id": "J71JwJ4QxQg3",
        "colab_type": "code",
        "colab": {}
      },
      "source": [
        "#Network Parameters\n",
        "n_hidden_1 = 256\n",
        "n_hidden_2 = 256\n",
        "n_input = 784\n",
        "n_classes =10\n",
        "n_samples = mnist.train.num_examples\n"
      ],
      "execution_count": 0,
      "outputs": []
    },
    {
      "cell_type": "code",
      "metadata": {
        "id": "600pHwuHxz8Q",
        "colab_type": "code",
        "colab": {}
      },
      "source": [
        "#TF graph inputs/placeholders\n",
        "x=tf.placeholder(\"float\",[None, n_input])\n",
        "y=tf.placeholder(\"float\",[None, n_classes])"
      ],
      "execution_count": 0,
      "outputs": []
    },
    {
      "cell_type": "code",
      "metadata": {
        "id": "yjJ3x7GoyB4_",
        "colab_type": "code",
        "colab": {}
      },
      "source": [
        "#MLP\n",
        "def mlp(x, weights, biases):\n",
        "  layer_1 = tf.add(tf.matmul(x,weights['h1']), biases['b1'])\n",
        "  layer_1 = tf.nn.relu(layer_1)\n",
        "  \n",
        "  layer_2 = tf.add(tf.matmul(layer_1,weights['h2']), biases['b2'])\n",
        "  layer_2 = tf.nn.relu(layer_2)\n",
        "\n",
        "  #Final Output\n",
        "\n",
        "  out_layer = tf.add(tf.matmul(layer_2, weights['out']),biases['out'])\n",
        "  return out_layer\n"
      ],
      "execution_count": 0,
      "outputs": []
    },
    {
      "cell_type": "code",
      "metadata": {
        "id": "_r-3OdbTzFfj",
        "colab_type": "code",
        "colab": {}
      },
      "source": [
        "#Weights and biases\n",
        "weights={\n",
        "    'h1': tf.Variable(tf.random_normal([n_input,n_hidden_1])),\n",
        "    'h2': tf.Variable(tf.random_normal([n_hidden_1,n_hidden_2])),\n",
        "    'out': tf.Variable(tf.random_normal([n_hidden_2,n_classes]))\n",
        "}\n",
        "biases = {\n",
        "    'b1': tf.Variable(tf.random_normal([n_hidden_1])),\n",
        "    'b2': tf.Variable(tf.random_normal([n_hidden_2])),\n",
        "    'out': tf.Variable(tf.random_normal([n_classes]))\n",
        "}"
      ],
      "execution_count": 0,
      "outputs": []
    },
    {
      "cell_type": "code",
      "metadata": {
        "id": "ivl466_h0Po1",
        "colab_type": "code",
        "colab": {}
      },
      "source": [
        "## predicted label\n",
        "pred = mlp(x, weights, biases) #input, weight, biasses"
      ],
      "execution_count": 0,
      "outputs": []
    },
    {
      "cell_type": "code",
      "metadata": {
        "id": "QpvdhTGQ00BS",
        "colab_type": "code",
        "colab": {}
      },
      "source": [
        "#cost/optimizers\n",
        "cost=tf.reduce_mean(tf.nn.softmax_cross_entropy_with_logits_v2(labels=y,logits=pred))\n",
        "\n",
        "#optimizer\n",
        "optimizer=tf.train.AdamOptimizer(learning_rate=learning_rate).minimize(cost)"
      ],
      "execution_count": 0,
      "outputs": []
    },
    {
      "cell_type": "code",
      "metadata": {
        "id": "Ho-vA9qH12Of",
        "colab_type": "code",
        "colab": {}
      },
      "source": [
        "#initialize session\n",
        "init=tf.global_variables_initializer()"
      ],
      "execution_count": 0,
      "outputs": []
    },
    {
      "cell_type": "code",
      "metadata": {
        "id": "tjF1DSnq1-_d",
        "colab_type": "code",
        "colab": {
          "base_uri": "https://localhost:8080/",
          "height": 1000
        },
        "outputId": "bf5e6fe2-c8ea-43c0-b247-50994bafaaf3"
      },
      "source": [
        "sess=tf.InteractiveSession()\n",
        "\n",
        "sess.run(init)\n",
        "for epoch in range(training_epochs):\n",
        "  avg_cost=0.0\n",
        "  total_batch = int(n_samples/batch_size)\n",
        "\n",
        "  ##loop over all batches\n",
        "  for i in range(total_batch):\n",
        "    #grab the next batch\n",
        "    batch_x,batch_y = mnist.train.next_batch(batch_size)\n",
        "    ##feed in the dict to minimize & optimize loss\n",
        "    _, c=sess.run([optimizer,cost], feed_dict={x:batch_x, y:batch_y})\n",
        "\n",
        "    #compute avg loss\n",
        "    avg_cost += c / total_batch\n",
        "  print(\"Epoch:{} cost={: .4f}\".format(epoch+1,avg_cost))\n",
        "\n",
        "print(\"model has completed {} Epochs of Training\".format(training_epochs))    "
      ],
      "execution_count": 13,
      "outputs": [
        {
          "output_type": "stream",
          "text": [
            "Epoch:1 cost= 752.1722\n",
            "Epoch:2 cost= 273.5349\n",
            "Epoch:3 cost= 166.3954\n",
            "Epoch:4 cost= 123.3616\n",
            "Epoch:5 cost= 99.5399\n",
            "Epoch:6 cost= 84.2368\n",
            "Epoch:7 cost= 73.0838\n",
            "Epoch:8 cost= 64.4938\n",
            "Epoch:9 cost= 57.5760\n",
            "Epoch:10 cost= 52.5724\n",
            "Epoch:11 cost= 47.9729\n",
            "Epoch:12 cost= 44.1525\n",
            "Epoch:13 cost= 41.3546\n",
            "Epoch:14 cost= 37.8070\n",
            "Epoch:15 cost= 35.2627\n",
            "Epoch:16 cost= 33.4066\n",
            "Epoch:17 cost= 30.8761\n",
            "Epoch:18 cost= 28.9879\n",
            "Epoch:19 cost= 27.4786\n",
            "Epoch:20 cost= 26.0071\n",
            "Epoch:21 cost= 24.4457\n",
            "Epoch:22 cost= 23.0332\n",
            "Epoch:23 cost= 22.0238\n",
            "Epoch:24 cost= 20.8265\n",
            "Epoch:25 cost= 19.5576\n",
            "Epoch:26 cost= 18.7647\n",
            "Epoch:27 cost= 17.6838\n",
            "Epoch:28 cost= 16.9824\n",
            "Epoch:29 cost= 15.8569\n",
            "Epoch:30 cost= 15.3624\n",
            "Epoch:31 cost= 14.6585\n",
            "Epoch:32 cost= 13.9302\n",
            "Epoch:33 cost= 13.1348\n",
            "Epoch:34 cost= 12.6049\n",
            "Epoch:35 cost= 12.1224\n",
            "Epoch:36 cost= 11.3052\n",
            "Epoch:37 cost= 10.7751\n",
            "Epoch:38 cost= 10.6390\n",
            "Epoch:39 cost= 9.9813\n",
            "Epoch:40 cost= 9.5326\n",
            "Epoch:41 cost= 8.8621\n",
            "Epoch:42 cost= 8.7237\n",
            "Epoch:43 cost= 8.3149\n",
            "Epoch:44 cost= 7.7802\n",
            "Epoch:45 cost= 7.4466\n",
            "Epoch:46 cost= 7.1852\n",
            "Epoch:47 cost= 6.7923\n",
            "Epoch:48 cost= 6.6620\n",
            "Epoch:49 cost= 6.1408\n",
            "Epoch:50 cost= 5.8019\n",
            "Epoch:51 cost= 5.7365\n",
            "Epoch:52 cost= 5.2868\n",
            "Epoch:53 cost= 5.1697\n",
            "Epoch:54 cost= 4.9433\n",
            "Epoch:55 cost= 4.5892\n",
            "Epoch:56 cost= 4.4276\n",
            "Epoch:57 cost= 4.2814\n",
            "Epoch:58 cost= 3.9978\n",
            "Epoch:59 cost= 3.7260\n",
            "Epoch:60 cost= 3.6445\n",
            "Epoch:61 cost= 3.4573\n",
            "Epoch:62 cost= 3.3865\n",
            "Epoch:63 cost= 3.0457\n",
            "Epoch:64 cost= 2.9593\n",
            "Epoch:65 cost= 2.8362\n",
            "Epoch:66 cost= 2.5779\n",
            "Epoch:67 cost= 2.5130\n",
            "Epoch:68 cost= 2.3595\n",
            "Epoch:69 cost= 2.2790\n",
            "Epoch:70 cost= 2.1579\n",
            "Epoch:71 cost= 1.9302\n",
            "Epoch:72 cost= 1.9164\n",
            "Epoch:73 cost= 1.7574\n",
            "Epoch:74 cost= 1.6761\n",
            "Epoch:75 cost= 1.6899\n",
            "Epoch:76 cost= 1.4540\n",
            "Epoch:77 cost= 1.4326\n",
            "Epoch:78 cost= 1.3425\n",
            "Epoch:79 cost= 1.2154\n",
            "Epoch:80 cost= 1.1397\n",
            "Epoch:81 cost= 1.1003\n",
            "Epoch:82 cost= 1.0240\n",
            "Epoch:83 cost= 0.9579\n",
            "Epoch:84 cost= 0.8995\n",
            "Epoch:85 cost= 0.8296\n",
            "Epoch:86 cost= 0.7256\n",
            "Epoch:87 cost= 0.7642\n",
            "Epoch:88 cost= 0.6239\n",
            "Epoch:89 cost= 0.6210\n",
            "Epoch:90 cost= 0.5454\n",
            "Epoch:91 cost= 0.5237\n",
            "Epoch:92 cost= 0.4695\n",
            "Epoch:93 cost= 0.4509\n",
            "Epoch:94 cost= 0.3613\n",
            "Epoch:95 cost= 0.3673\n",
            "Epoch:96 cost= 0.3427\n",
            "Epoch:97 cost= 0.3111\n",
            "Epoch:98 cost= 0.2703\n",
            "Epoch:99 cost= 0.2554\n",
            "Epoch:100 cost= 0.2055\n",
            "model has completed 100 Epochs of Training\n"
          ],
          "name": "stdout"
        }
      ]
    },
    {
      "cell_type": "code",
      "metadata": {
        "id": "4D9IoTq94TgM",
        "colab_type": "code",
        "colab": {}
      },
      "source": [
        "#model testing and evaluation\n",
        "correct_predictions = tf.equal(tf.argmax(pred,1), tf.argmax(y,1))"
      ],
      "execution_count": 0,
      "outputs": []
    },
    {
      "cell_type": "code",
      "metadata": {
        "id": "vUwXBAUz5ptH",
        "colab_type": "code",
        "colab": {
          "base_uri": "https://localhost:8080/",
          "height": 34
        },
        "outputId": "e22bbffa-b24b-440a-dccf-f5d2c346ed2a"
      },
      "source": [
        "print(correct_predictions[0])"
      ],
      "execution_count": 15,
      "outputs": [
        {
          "output_type": "stream",
          "text": [
            "Tensor(\"strided_slice:0\", shape=(), dtype=bool)\n"
          ],
          "name": "stdout"
        }
      ]
    },
    {
      "cell_type": "code",
      "metadata": {
        "id": "ee3dsKyP5yZt",
        "colab_type": "code",
        "colab": {}
      },
      "source": [
        "correct_predictions= tf.cast(correct_predictions, \"float\")"
      ],
      "execution_count": 0,
      "outputs": []
    },
    {
      "cell_type": "code",
      "metadata": {
        "id": "pVspKDHu6HoC",
        "colab_type": "code",
        "colab": {
          "base_uri": "https://localhost:8080/",
          "height": 34
        },
        "outputId": "454529e1-3191-4d9c-8b65-fc0941c9e07e"
      },
      "source": [
        "accuracy= tf.reduce_mean(correct_predictions)\n",
        "print(\"Accuracy: \", accuracy.eval({x:mnist.test.images, y:mnist.test.labels}))"
      ],
      "execution_count": 21,
      "outputs": [
        {
          "output_type": "stream",
          "text": [
            "Accuracy:  0.9284\n"
          ],
          "name": "stdout"
        }
      ]
    }
  ]
}