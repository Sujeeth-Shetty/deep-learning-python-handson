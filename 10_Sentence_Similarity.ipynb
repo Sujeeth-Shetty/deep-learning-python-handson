{
  "nbformat": 4,
  "nbformat_minor": 0,
  "metadata": {
    "kernelspec": {
      "display_name": "Python 3",
      "language": "python",
      "name": "python3"
    },
    "language_info": {
      "codemirror_mode": {
        "name": "ipython",
        "version": 3
      },
      "file_extension": ".py",
      "mimetype": "text/x-python",
      "name": "python",
      "nbconvert_exporter": "python",
      "pygments_lexer": "ipython3",
      "version": "3.6.9"
    },
    "colab": {
      "name": "Sentence_Similarity.ipynb",
      "provenance": [],
      "collapsed_sections": [],
      "toc_visible": true
    }
  },
  "cells": [
    {
      "cell_type": "code",
      "metadata": {
        "id": "spLDhsInWo7J",
        "colab_type": "code",
        "colab": {}
      },
      "source": [
        "import pandas as pd"
      ],
      "execution_count": 0,
      "outputs": []
    },
    {
      "cell_type": "code",
      "metadata": {
        "id": "LGP7kVe-Wo7O",
        "colab_type": "code",
        "colab": {
          "base_uri": "https://localhost:8080/",
          "height": 154
        },
        "outputId": "524ba2ee-81c2-407b-bd12-83549ef652fa"
      },
      "source": [
        "docs = list(pd.read_csv('yelp.csv')['text'])\n",
        "\n",
        "# Print the first review from t\n",
        "print(docs[0])"
      ],
      "execution_count": 3,
      "outputs": [
        {
          "output_type": "stream",
          "text": [
            "My wife took me here on my birthday for breakfast and it was excellent.  The weather was perfect which made sitting outside overlooking their grounds an absolute pleasure.  Our waitress was excellent and our food arrived quickly on the semi-busy Saturday morning.  It looked like the place fills up pretty quickly so the earlier you get here the better.\n",
            "\n",
            "Do yourself a favor and get their Bloody Mary.  It was phenomenal and simply the best I've ever had.  I'm pretty sure they only use ingredients from their garden and blend them fresh when you order it.  It was amazing.\n",
            "\n",
            "While EVERYTHING on the menu looks excellent, I had the white truffle scrambled eggs vegetable skillet and it was tasty and delicious.  It came with 2 pieces of their griddled bread with was amazing and it absolutely made the meal complete.  It was the best \"toast\" I've ever had.\n",
            "\n",
            "Anyway, I can't wait to go back!\n"
          ],
          "name": "stdout"
        }
      ]
    },
    {
      "cell_type": "markdown",
      "metadata": {
        "id": "wTPnWyL2Wo7R",
        "colab_type": "text"
      },
      "source": [
        "# Context-free sentence similarity detection: tf-idf"
      ]
    },
    {
      "cell_type": "markdown",
      "metadata": {
        "id": "edlLNwcEWo7V",
        "colab_type": "text"
      },
      "source": [
        "tf-idf stands for: Term Frequency - Inverse Document Frequency\n",
        "\n",
        "It is a metric to determine how similar one term is to the terms found in a specific document from the set of avaliable documents. It is calculated via the following equation:\n",
        "\n",
        "**tfidf(t, d, D) = tf(t, d) * idf(t, D)**\n",
        "\n",
        "where:\n",
        "    \n",
        "| Variable | Meaning                                                    |\n",
        "| -------- | ---------------------------------------------------------- |\n",
        "| t        | The term to find                                           |\n",
        "| d        | The document we are referring to find the term's frequency |\n",
        "| D        | Set of all documents                                       |\n",
        "| tf()     | Function to calculate the term frequency                   |\n",
        "| idf()    | Function to calcualte the inverse document frequency       |"
      ]
    },
    {
      "cell_type": "markdown",
      "metadata": {
        "id": "I5zrIqK0Wo7W",
        "colab_type": "text"
      },
      "source": [
        "## Calculating term frequency: tf(t, d)\n",
        "\n",
        "Tem Frequency refers to how often a specific term appears in a specific document. The simpliest method is by counting the number of times the term appears in the document. Let this raw count be denoted as $f_{t,d}$. By default, `gensim.models.TfidfModel` calculates the term frequency weighting using this approach. Below is basic pseudocode to represent how $f_{t,d}$ could possibly be implemented:\n",
        "\n",
        "```python\n",
        "def raw_count(t, d):\n",
        "    count = 0\n",
        "    for term in d:\n",
        "        if t == term:\n",
        "            count += 1\n",
        "    return count\n",
        "````\n",
        "\n",
        "However, the document length could have an impact on the bias. By dividing $f_{t,d}$ by the most frequent term in the document, it provides a more normalized frequency values across serveral documents. To balance small documents, we can provide an offest to account for their size. Below is one implementation of this augmented term frequency function:\n",
        "\n",
        "$$ 0.5 + \\frac{f_{t,d}}{\\max\\limits_{t' \\in d}(f_{t',d})} $$\n",
        "\n",
        "`gensim.models.TfidfModel` has the ability to change its term frequency weightings. See the following url for the class documentation:\n",
        "\n",
        "> https://radimrehurek.com/gensim/models/tfidfmodel.html"
      ]
    },
    {
      "cell_type": "markdown",
      "metadata": {
        "id": "eJwZOpojWo7X",
        "colab_type": "text"
      },
      "source": [
        "## Calculating Inverse Document Frequency: idf(t, D)\n",
        "\n",
        "Inverse Document Frequency is a huerisitc that measures how much information the term provides found in all given documents. One possible way to define inverse document frequency is the following:\n",
        "\n",
        "$$ \\log \\frac{|D|}{|\\{d | d \\in D, t \\in d \\}|} $$\n",
        "\n",
        "where $|D|$ is the number of documents and $|\\{d | d \\in D, t \\in d\\}|$ is the number of documents that the term appears in.\n",
        "\n",
        "Examing this function, we can notice the inverse relationship between idf and the number of occurrence of the document. As there is less times the term appears, the higher the idf hueristic gets.\n",
        "\n",
        "By default, `gensim.models.TfidfModel` uses a function similar to the one above to calculate the inverse document frequency. Just like with term frequency, the class has the ability to change its inverse document frequency weightings.  to See the following url for the class documentation:\n",
        "\n",
        "> https://radimrehurek.com/gensim/models/tfidfmodel.html"
      ]
    },
    {
      "cell_type": "code",
      "metadata": {
        "id": "dxZDZqZpWo7Y",
        "colab_type": "code",
        "colab": {}
      },
      "source": [
        "from gensim.models import TfidfModel\n",
        "from gensim.corpora import Dictionary\n",
        "from gensim.utils import simple_preprocess\n",
        "from gensim.similarities import MatrixSimilarity"
      ],
      "execution_count": 0,
      "outputs": []
    },
    {
      "cell_type": "code",
      "metadata": {
        "id": "9tk6SjxZWo7h",
        "colab_type": "code",
        "colab": {}
      },
      "source": [
        "#Tokenize words in each document\n",
        "docs_tokens=[simple_preprocess(doc) for doc in docs]\n",
        "#Create a dictionary - assign indices to the words in the documents\n",
        "dictionary = Dictionary(docs_tokens)\n",
        "corpus= [dictionary.doc2bow(d) for d in docs_tokens]\n"
      ],
      "execution_count": 0,
      "outputs": []
    },
    {
      "cell_type": "code",
      "metadata": {
        "id": "6pDL69toWo7o",
        "colab_type": "code",
        "colab": {}
      },
      "source": [
        "tfidf = TfidfModel(corpus)"
      ],
      "execution_count": 0,
      "outputs": []
    },
    {
      "cell_type": "code",
      "metadata": {
        "id": "dPwrY3x2Wo7t",
        "colab_type": "code",
        "colab": {
          "base_uri": "https://localhost:8080/",
          "height": 70
        },
        "outputId": "c006866d-f573-4afa-9660-d4b5c72d0128"
      },
      "source": [
        "index= MatrixSimilarity(tfidf[corpus])"
      ],
      "execution_count": 9,
      "outputs": [
        {
          "output_type": "stream",
          "text": [
            "/usr/local/lib/python3.6/dist-packages/gensim/matutils.py:737: FutureWarning: Conversion of the second argument of issubdtype from `int` to `np.signedinteger` is deprecated. In future, it will be treated as `np.int64 == np.dtype(int).type`.\n",
            "  if np.issubdtype(vec.dtype, np.int):\n"
          ],
          "name": "stderr"
        }
      ]
    },
    {
      "cell_type": "code",
      "metadata": {
        "id": "le3nSKoBWo7y",
        "colab_type": "code",
        "colab": {}
      },
      "source": [
        "#doc_test = \"The food was terrible. The service was unprofessional\"\n",
        "doc_test = \"I loved this place. The food was great. The staff was professional\"\n",
        "tokens= simple_preprocess(doc_test)\n",
        "bow= dictionary.doc2bow(tokens)\n",
        "sims = index[tfidf[bow]]"
      ],
      "execution_count": 0,
      "outputs": []
    },
    {
      "cell_type": "code",
      "metadata": {
        "id": "6rNC1Si6XGd6",
        "colab_type": "code",
        "colab": {
          "base_uri": "https://localhost:8080/",
          "height": 34
        },
        "outputId": "b26a2f7b-1881-45ed-dfcc-97a31f6e4e61"
      },
      "source": [
        "sims[0] #0.5 is similarity score and lies bw 0-1"
      ],
      "execution_count": 12,
      "outputs": [
        {
          "output_type": "execute_result",
          "data": {
            "text/plain": [
              "(2240, 0.5049278)"
            ]
          },
          "metadata": {
            "tags": []
          },
          "execution_count": 12
        }
      ]
    },
    {
      "cell_type": "code",
      "metadata": {
        "id": "sxJLXzkZWo74",
        "colab_type": "code",
        "colab": {
          "base_uri": "https://localhost:8080/",
          "height": 423
        },
        "outputId": "e57b6e72-a1ba-4945-8500-b51576035408"
      },
      "source": [
        "sims= sorted(enumerate(sims), key=lambda item: -item[1])\n",
        "for i,s in enumerate(sims[:10]):\n",
        "  print(docs[s[0]]+'\\n') "
      ],
      "execution_count": 11,
      "outputs": [
        {
          "output_type": "stream",
          "text": [
            "We loved this place.\n",
            "\n",
            "These guys know their stuff.  Professional staff and great location.\n",
            "\n",
            "Loved it. Food was great, service was great. Not easy to find, but worth the search!!!\n",
            "\n",
            "My daughter and I really love it here.  I always walk in without an appointment and I never have to wait more than a few minutes.  The staff is very friendly, talented and professional.  Highly recommended!\n",
            "\n",
            "I loved it. The salad bar is not so great but everything else is excellent!\n",
            "\n",
            "Loved this place!!!! Was searching for a great authentic BBQ place, and this is it!!!!!\n",
            "\n",
            "Dr Norton and his staff are friendly and professional. They have made my 3 children feel relaxed and comfortable. I highly recommend this office.\n",
            "\n",
            "This place is great!\n",
            "\n",
            "very wonderful and romantic place to take your loved one :)\n",
            "\n",
            "Sanctuary you've been replaced.  Willow Stream Spa is my new fav spa spot.  Loved. Loved. the service.\n",
            "Robe got slightly damp from use, helpful attendant appears and gives me a new one.  Loved the waterfall treatment.  Loved private rooftop pool.  Loved the attendant walking around giving us sun bathers bottles of cold water.  Loved the fitness classes, the facility.\n",
            "All this for $50 during AZ Spa Week.  \n",
            "The facility and service is so f-a-b-u-l-o-u-s here that I would come here anytime and think every penny I spent was worth it!\n",
            "\n"
          ],
          "name": "stdout"
        }
      ]
    },
    {
      "cell_type": "markdown",
      "metadata": {
        "id": "gBw6OHvfWo78",
        "colab_type": "text"
      },
      "source": [
        "# Context-sensitive sentence similarity detection: word2vec\n",
        "\n",
        "2 possible methodologies to create the word representation:\n",
        "\n",
        "- continuous skip-gram\n",
        "    - Given the middle word, predict the surrounding words.\n",
        "- continuous bag-of-words\n",
        "    - Given the surrounding words, predict the middle word.\n",
        "    \n",
        "In either of the methods listed above, cosine similarity is used to measure sentence similarity."
      ]
    },
    {
      "cell_type": "markdown",
      "metadata": {
        "id": "M-D5sIXKWo79",
        "colab_type": "text"
      },
      "source": [
        "## Cosine Similarity\n",
        "\n",
        "To determine the similarity between two documents are similar, we can manipulate the Euclidian Dot Product Formula to generate the following equation for vectors A & B:\n",
        "\n",
        "$$ similarity = abs(\\cos(\\theta)) = abs(\\frac{A \\bullet B}{||A||~||B||})  $$\n",
        "\n",
        "By examining this equation, parallel vectors would have maximum similarity and perpendicular vectors would have 0 similarity between them."
      ]
    },
    {
      "cell_type": "code",
      "metadata": {
        "id": "jzoJNfirWo7-",
        "colab_type": "code",
        "colab": {}
      },
      "source": [
        "from gensim.models import Word2Vec\n",
        "from gensim.models.doc2vec import Doc2Vec, TaggedDocument"
      ],
      "execution_count": 0,
      "outputs": []
    },
    {
      "cell_type": "code",
      "metadata": {
        "id": "oLf9xZ6LWo8C",
        "colab_type": "code",
        "colab": {}
      },
      "source": [
        "model = Word2Vec(docs_tokens, min_count=1)"
      ],
      "execution_count": 0,
      "outputs": []
    },
    {
      "cell_type": "code",
      "metadata": {
        "scrolled": true,
        "id": "JinKTcCkWo8H",
        "colab_type": "code",
        "colab": {
          "base_uri": "https://localhost:8080/",
          "height": 238
        },
        "outputId": "54ee1b3a-8abd-4e11-8924-2ce829590083"
      },
      "source": [
        "model.wv.most_similar('terrible')"
      ],
      "execution_count": 16,
      "outputs": [
        {
          "output_type": "stream",
          "text": [
            "/usr/local/lib/python3.6/dist-packages/gensim/matutils.py:737: FutureWarning: Conversion of the second argument of issubdtype from `int` to `np.signedinteger` is deprecated. In future, it will be treated as `np.int64 == np.dtype(int).type`.\n",
            "  if np.issubdtype(vec.dtype, np.int):\n"
          ],
          "name": "stderr"
        },
        {
          "output_type": "execute_result",
          "data": {
            "text/plain": [
              "[('horrible', 0.9212086796760559),\n",
              " ('awful', 0.912564754486084),\n",
              " ('poor', 0.8719444274902344),\n",
              " ('slow', 0.8551472425460815),\n",
              " ('spectacular', 0.8402367830276489),\n",
              " ('impeccable', 0.8288964033126831),\n",
              " ('considering', 0.8242211937904358),\n",
              " ('fine', 0.81952303647995),\n",
              " ('exceptional', 0.807769775390625),\n",
              " ('alright', 0.8072448372840881)]"
            ]
          },
          "metadata": {
            "tags": []
          },
          "execution_count": 16
        }
      ]
    },
    {
      "cell_type": "code",
      "metadata": {
        "id": "CfxMMvUvWo8K",
        "colab_type": "code",
        "colab": {
          "base_uri": "https://localhost:8080/",
          "height": 238
        },
        "outputId": "ac960cbd-7bed-43d9-9933-60fe12a0b5f4"
      },
      "source": [
        "model.wv.most_similar('amazing')"
      ],
      "execution_count": 17,
      "outputs": [
        {
          "output_type": "stream",
          "text": [
            "/usr/local/lib/python3.6/dist-packages/gensim/matutils.py:737: FutureWarning: Conversion of the second argument of issubdtype from `int` to `np.signedinteger` is deprecated. In future, it will be treated as `np.int64 == np.dtype(int).type`.\n",
            "  if np.issubdtype(vec.dtype, np.int):\n"
          ],
          "name": "stderr"
        },
        {
          "output_type": "execute_result",
          "data": {
            "text/plain": [
              "[('awesome', 0.9043673276901245),\n",
              " ('fantastic', 0.8726267218589783),\n",
              " ('excellent', 0.8648855090141296),\n",
              " ('delicious', 0.8558555245399475),\n",
              " ('wonderful', 0.8297096490859985),\n",
              " ('outstanding', 0.8182392120361328),\n",
              " ('incredible', 0.7742373943328857),\n",
              " ('fabulous', 0.7706663012504578),\n",
              " ('good', 0.7490236163139343),\n",
              " ('superb', 0.7307642698287964)]"
            ]
          },
          "metadata": {
            "tags": []
          },
          "execution_count": 17
        }
      ]
    },
    {
      "cell_type": "code",
      "metadata": {
        "id": "JGHNe0hVWo8M",
        "colab_type": "code",
        "colab": {}
      },
      "source": [
        "tagged_data=[TaggedDocument(words=d, tags=[str(i)]) for i,d in enumerate(docs_tokens)]"
      ],
      "execution_count": 0,
      "outputs": []
    },
    {
      "cell_type": "code",
      "metadata": {
        "id": "7LHFQ3ZAWo8O",
        "colab_type": "code",
        "colab": {
          "base_uri": "https://localhost:8080/",
          "height": 185
        },
        "outputId": "b34390ac-5897-48ff-dee9-90a8a6a28d97"
      },
      "source": [
        "max_epocs = 10\n",
        "model = Doc2Vec(vector_size=20, alpha=0.025, min_alpha=1, min_count=1, dim=1)\n",
        "model.build_vocab(tagged_data)\n",
        "\n",
        "for epoch in range(max_epocs):\n",
        "  print(epoch)\n",
        "  model.train(tagged_data, total_examples=model.corpus_count, epochs=model.epochs)"
      ],
      "execution_count": 20,
      "outputs": [
        {
          "output_type": "stream",
          "text": [
            "0\n",
            "1\n",
            "2\n",
            "3\n",
            "4\n",
            "5\n",
            "6\n",
            "7\n",
            "8\n",
            "9\n"
          ],
          "name": "stdout"
        }
      ]
    },
    {
      "cell_type": "code",
      "metadata": {
        "id": "5vBfgjZEWo8Q",
        "colab_type": "code",
        "colab": {
          "base_uri": "https://localhost:8080/",
          "height": 70
        },
        "outputId": "c5978e30-cf98-4a87-e60f-2b8c1d809d65"
      },
      "source": [
        "test_data = simple_preprocess(\"I loved the food\".lower())\n",
        "v = model.infer_vector(test_data)\n",
        "\n",
        "sims = model.docvecs.most_similar([v])"
      ],
      "execution_count": 21,
      "outputs": [
        {
          "output_type": "stream",
          "text": [
            "/usr/local/lib/python3.6/dist-packages/gensim/matutils.py:737: FutureWarning: Conversion of the second argument of issubdtype from `int` to `np.signedinteger` is deprecated. In future, it will be treated as `np.int64 == np.dtype(int).type`.\n",
            "  if np.issubdtype(vec.dtype, np.int):\n"
          ],
          "name": "stderr"
        }
      ]
    },
    {
      "cell_type": "code",
      "metadata": {
        "id": "OLEk3gwTWo8S",
        "colab_type": "code",
        "colab": {
          "base_uri": "https://localhost:8080/",
          "height": 1000
        },
        "outputId": "413773a0-7b97-470f-cd97-24093d80f7af"
      },
      "source": [
        "for s in sims:\n",
        "  print(docs[int(s[0])])"
      ],
      "execution_count": 22,
      "outputs": [
        {
          "output_type": "stream",
          "text": [
            "Great little place in a great little neighborhood. Food was great, service good and friendly and sitting amongst the rose bushes and garden made one feel as if we were having a nice relaxing Sunday breakfast in our backyard. Love the place.\n",
            "Lee's is the best privately owned ice cream parlor in Scottsdale! Located in Old Town Scottsdale in the heart of some prime dining locations, Lee's is a great night cap in the form of ice cream, a superb place to bring a date or all in all just a wonderful atmosphere to enjoy some ice cream con alcohol. \n",
            "\n",
            "Let's start with the aesthetics; Lee's offers a very clean, small, cozy environment.  A few table and chair sets dot the inside and a couple more to match on the outside. Lee has some awesome glass vases on the wall that add a modern touch. She has a few large clocks with different time zones so you know what time it is on the east coast while you eat? I dunno the clocks were kind of a head scratcher.\n",
            "\n",
            "The Service is spectacular! Lee is the only help I've ever received there, so I am not sure if she works alone or has help. She is always timely and prompt to greet and serve you and automatically starts you off with TWO samples of which ever flavors you would like. All the young ones like myself be prepared to show ID, although you would have to eat a lot of ice cream to get loaded, Lee doesn't skimp on the booze either. Lee is usually a bit on the quiet side so you gotta listen up and be as patient with her as she is with you. The lady is running the joint by herself! \n",
            "\n",
            "The Product is what makes Lee's so good! Her ice cream flavors are inventive and wonderful. There is usually new options as well a few solid customer favorites too choose from. As pre-mentioned Lee does pack a fair amount of liquor in her ice cream so some of the flavors have a stronger alcohol flavor than others. The Jack Daniel's chocolate swirl is my personal favorite and has the perfect amount of bourbon to chocolate ratio to make a unique, delectable treat. Lee does offer non-alcoholic flavors (at a discounted price, too!) for those opt to take there alcohol and ice cream separate. The cookie dough flavor may be the best ice cream I have tried with or without booze.\n",
            "I dined in Sol this past week and was amazed. I am in the industry and have absolutely fell in love with this place. The food is not only original but good an healthy. I will say this though if you are looking for refried beans and mush on your plate this is not the mexican food for you. It reminded me of time i have spent down the coast of mexico, very wonderful. I can see them still working out a few errors but they are very quick to fix any mistake. the service i had was absolutely amazing, it was nice to see someone like the tall good looking gentlemen i had wait on me. he was funny and kept my table laughing and very informative overall, i really had a sense during my meal he wanted nothing but the best for my table. definitely somewhere i will be back too for sure, especially since im craving that taco vampiro again.\n",
            "This review is for locals...the Hyatt isn't just a beautiful spot to stay it, it's also a perfect spot to just sit and enjoy the day! I've done this several times, many times for dinner and drinks afterward on the patio. Most recently, I decided to set up shop and do some work from one of the comfy chairs on the outdoor patio which allowed me to enjoy the gorgeous Arizona weather and still get some work done. They do an excellent job of making the hotel amenities comfortable and welcoming. \n",
            "\n",
            "For hotel guests, if you are planning to stay here, be sure to look into staying in one of the rooms that sit on the man made lake. They have great patios right on the water so when you wake up, you could have breakfast on the lake! It doesn't get much better than that.\n",
            "Love the drive up waitstaff on skates experience! They have happy hour specials with deals on drinks. I recommend the Cherry Limeade, so good, like a Shirley temple with a kick of lemonade added in.\n",
            "The pizza's OK, not anything to write home about.  I sat on the outdoor patio, which is on the main street, so while entertaining to watch all the people go by (and there's a wide variety), if you're table's right along the outside edge of the patio (which I wasn't), you may end up interacting with the transients coming by.  So, I got to observe everyone going by without having to interact with them, which was just fine by me, because I do like to people watch.\n",
            "I love Scottsdale Child Care & Learning Centers. My daughter started going there when she was 10 months old. The teachers are wonderful. Not only are they nurturing and kind they are also very interested in each child. \n",
            "\n",
            "My Daughter  has been attending for 6 months now and has graduated to room 2 for toddlers. She knows over 30 words and I attribute much of that to Scottsdale Child Care. She has loved all her teachers and welcomes with open arms each morning when I drop her off. \n",
            "I would recommend this center to any parent, especially if you are nervous about leaving your loved one for the first time.\n",
            "This Chipotle Rocks!  \n",
            "Today, I express my joy\n",
            "In the haiku form!\n",
            "\n",
            "Perfect fast food joint;\n",
            "Fresh, delicious, quick and kind.\n",
            "The price is right, too!\n",
            "\n",
            "Burritos galore;\n",
            "In a tortilla or bowl.\n",
            "But wait, there is more!\n",
            "\n",
            "Three steak tacos, please!\n",
            "Or grilled veggie fajitas?\n",
            "Oh sweet perfection.\n",
            "\n",
            "A simple menu,\n",
            "Yet so many decisions.\n",
            "How can you go wrong?\n",
            "\n",
            "Answer:  You cannot!  \n",
            "Order now, you won't regret,\n",
            "This Chipotle Rocks!\n",
            "Vaguely remembered this place from Yelp when we were looking for a lunch spot after a visit to the Acxupuncturist up the street. We pulled into the lot and by the looks of the outside, there was a bit hesitancy to go in. So, thank you to my friend's smartphone for allowing us to read the yelp reviews and allow us to take a chance on this place. I am happy to say our first visit was a good one. \n",
            "\n",
            "Everyone has said already, it is homey and maybe a bit dated in its decor. However, I don't care for ambiance and classy settings, I care about decent food and friendly service.\n",
            "\n",
            "MMR has both. I had the Hot Turkey lunch special for Thursdays and I have to say  it was huge for a lunch plate and the price was so reasonable. Maybe I am old school, but when you bring me hot bread and butter right after I order, you have already won me over. Then the Turkey Plate came and it was really good, moist and flavorful. The potatoes are not mashed, they are smashed-there are actually potato chunks in there. I was not thrilled with the stuffing because IMO it had too much sage (to the point of overpowering) in it and that was distracting me from what otherwise would have been a very good stuffing. There was also  MORE  BREAD given to me with my meal in the form of a roll. That was good because I needed it to dip in the copious amounts of gravy on the plate. \n",
            "\n",
            "Mia was our server and she was really great. Very attentive, helpful and actually seemed to enjoy serving us. Rare these days. This staff has it together. \n",
            " \n",
            "We were stuffed and decided to opt-out on dessert and take an APPLE  pie to-go. The pie was still warm when she brought us the box and it traveled well for 3 hours all the way to Marana. My friends boyfriend is  the pie lover and he had two slices after dinner that night and I can say we all loved it. I ate a slice for breakfast the next day. Excellent, excellent  pie. \n",
            "\n",
            "Our two lunches, two beverages and a pie to go was $35, considering the pie was about 1/3 of that, not bad at all. \n",
            "\n",
            "We go to the acupuncturist this Tuesday and I plan on getting more yumminess from MMR.\n",
            "Their rolls are super inventive....and they stay open later than most Sushi Places in the Valley (2am).  \n",
            "\n",
            "Their Happy Hour is insane! Ex: 99 cent beers on Tuesday!\n",
            "\n",
            "I've never had a disappointing meal here, and I am pretty hard to please when it comes to sushi.\n",
            "\n",
            "Recommendations:\n",
            "Signature Roll\n",
            "Squid Salad\n",
            "Yellowtail Collarbone\n",
            "Drinks, Drinks...drinks.\n",
            "\n",
            "They have a little karaoke room, and full bar you can make use of as well.\n",
            "\n",
            "1 Thing: When it's busy, be prepared to order everything at once...or you will be waiting.\n"
          ],
          "name": "stdout"
        }
      ]
    },
    {
      "cell_type": "code",
      "metadata": {
        "id": "sH5GkLHiWo8V",
        "colab_type": "code",
        "colab": {}
      },
      "source": [
        "from sklearn.manifold import TSNE\n",
        "import numpy as np\n",
        "import matplotlib.pyplot as plt"
      ],
      "execution_count": 0,
      "outputs": []
    },
    {
      "cell_type": "code",
      "metadata": {
        "id": "HDWgHWiFWo8X",
        "colab_type": "code",
        "colab": {
          "base_uri": "https://localhost:8080/",
          "height": 70
        },
        "outputId": "0bdee65c-8281-49af-e7f7-ec214711f256"
      },
      "source": [
        "word_list = ['the', 'professional', 'best', 'good', 'bad', 'amazing', 'awful', 'awesome', 'food', 'service']\n",
        "X=[]\n",
        "for w in word_list:\n",
        "  sims= model.wv.most_similar(w)\n",
        "  for s in sims:\n",
        "    X.append(model[s[0]])\n",
        "X=np.array(X)    "
      ],
      "execution_count": 25,
      "outputs": [
        {
          "output_type": "stream",
          "text": [
            "/usr/local/lib/python3.6/dist-packages/gensim/matutils.py:737: FutureWarning: Conversion of the second argument of issubdtype from `int` to `np.signedinteger` is deprecated. In future, it will be treated as `np.int64 == np.dtype(int).type`.\n",
            "  if np.issubdtype(vec.dtype, np.int):\n"
          ],
          "name": "stderr"
        }
      ]
    },
    {
      "cell_type": "code",
      "metadata": {
        "id": "51T26-2SWo8Z",
        "colab_type": "code",
        "colab": {}
      },
      "source": [
        "X_embedded= TSNE(n_components=2).fit_transform(X)"
      ],
      "execution_count": 0,
      "outputs": []
    },
    {
      "cell_type": "code",
      "metadata": {
        "id": "acJa9UOTWo8d",
        "colab_type": "code",
        "colab": {
          "base_uri": "https://localhost:8080/",
          "height": 265
        },
        "outputId": "6cb45797-367a-4817-94e3-1ae57a87d76a"
      },
      "source": [
        "fig = plt.figure()\n",
        "ax = fig.add_subplot(111)\n",
        "colors = ['r', 'g', 'b', 'magenta', 'cyan', 'brown', 'black', 'orange', 'purple', 'yellow']\n",
        "for i in range(10):\n",
        "    pts = X_embedded[10*i:10*i+10]\n",
        "    ax.scatter(pts[:,0], pts[:,1], c=colors[i], cmap='viridis')\n",
        "plt.show()"
      ],
      "execution_count": 33,
      "outputs": [
        {
          "output_type": "display_data",
          "data": {
            "image/png": "[encoded data removed]",
            "text/plain": [
              "<Figure size 432x288 with 1 Axes>"
            ]
          },
          "metadata": {
            "tags": []
          }
        }
      ]
    }
  ]
}