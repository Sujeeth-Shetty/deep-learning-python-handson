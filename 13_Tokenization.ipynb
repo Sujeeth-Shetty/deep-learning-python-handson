{
  "nbformat": 4,
  "nbformat_minor": 0,
  "metadata": {
    "kernelspec": {
      "display_name": "Python 3",
      "language": "python",
      "name": "python3"
    },
    "language_info": {
      "codemirror_mode": {
        "name": "ipython",
        "version": 3
      },
      "file_extension": ".py",
      "mimetype": "text/x-python",
      "name": "python",
      "nbconvert_exporter": "python",
      "pygments_lexer": "ipython3",
      "version": "3.6.9"
    },
    "colab": {
      "name": "02_Tokenization.ipynb",
      "provenance": [],
      "collapsed_sections": []
    }
  },
  "cells": [
    {
      "cell_type": "markdown",
      "metadata": {
        "id": "HZZ9OqVjSUhE",
        "colab_type": "text"
      },
      "source": [
        "# Tokenization\n",
        "The first step in creating a `Doc` object is to break down the incoming text into component pieces or \"tokens\"."
      ]
    },
    {
      "cell_type": "code",
      "metadata": {
        "id": "U-t-82JFSUhG",
        "colab_type": "code",
        "colab": {}
      },
      "source": [
        "# Import spaCy and load the language library\n",
        "import spacy\n",
        "nlp = spacy.load('en_core_web_sm') #ther are large and medium"
      ],
      "execution_count": 0,
      "outputs": []
    },
    {
      "cell_type": "code",
      "metadata": {
        "id": "NiPc6vmMSUhJ",
        "colab_type": "code",
        "colab": {}
      },
      "source": [
        "# Create a Doc object and explore tokens\n",
        "mystring = \"We're moving to L.A. Hello how are you. Thanks.!\"\n",
        "doc = nlp(mystring)\n",
        "for token in doc:\n",
        "  print(token.text, end=\"|\")"
      ],
      "execution_count": 0,
      "outputs": []
    },
    {
      "cell_type": "markdown",
      "metadata": {
        "id": "2MQM4_CASUhQ",
        "colab_type": "text"
      },
      "source": [
        "![tokenization](https://drive.google.com/uc?id=1nK2q_htgfg3384gRw25FF-ZTOdcIzdak)"
      ]
    },
    {
      "cell_type": "markdown",
      "metadata": {
        "id": "5PwZAEf5SUhS",
        "colab_type": "text"
      },
      "source": [
        "-  **Prefix**:\tCharacter(s) at the beginning &#9656; `$ ( “ ¿`\n",
        "-  **Suffix**:\tCharacter(s) at the end &#9656; `km ) , . ! ”`\n",
        "-  **Infix**:\tCharacter(s) in between &#9656; `- -- / ...`\n",
        "-  **Exception**: Special-case rule to split a string into several tokens or prevent a token from being split when punctuation rules are applied &#9656; `St. U.S.`"
      ]
    },
    {
      "cell_type": "markdown",
      "metadata": {
        "id": "DubThZ3ISUhT",
        "colab_type": "text"
      },
      "source": [
        "Notice that tokens are pieces of the original text. That is, we don't see any conversion to word stems or lemmas (base forms of words) and we haven't seen anything about organizations/places/money etc. Tokens are the basic building blocks of a Doc object - everything that helps us understand the meaning of the text is derived from tokens and their relationship to one another."
      ]
    },
    {
      "cell_type": "markdown",
      "metadata": {
        "id": "HEgr-ZlRSUhU",
        "colab_type": "text"
      },
      "source": [
        "## Prefixes, Suffixes and Infixes\n",
        "spaCy will isolate punctuation that does *not* form an integral part of a word. Quotation marks, commas, and punctuation at the end of a sentence will be assigned their own token. However, punctuation that exists as part of an email address, website or numerical value will be kept as part of the token."
      ]
    },
    {
      "cell_type": "code",
      "metadata": {
        "id": "d68_tnIjSUhV",
        "colab_type": "code",
        "colab": {}
      },
      "source": [
        "doc2 = nlp(u\"We're here to help! Send snail-mail, email support@oursite.com or visit us at http://www.oursite.com!\")\n",
        "for token in doc2:\n",
        "  print(token, end=\"|\")"
      ],
      "execution_count": 0,
      "outputs": []
    },
    {
      "cell_type": "markdown",
      "metadata": {
        "id": "YoeyXJ13SUhY",
        "colab_type": "text"
      },
      "source": [
        "<font color=green>Note that the exclamation points, comma, and the hyphen in 'snail-mail' are assigned their own tokens, yet both the email address and website are preserved.</font>"
      ]
    },
    {
      "cell_type": "code",
      "metadata": {
        "id": "0T_CxK8lSUhZ",
        "colab_type": "code",
        "colab": {}
      },
      "source": [
        "doc3 = nlp(u'A 5km NYC cab ride costs $10.30')\n",
        "for token in doc3:\n",
        "  print(token, end=\"|\")"
      ],
      "execution_count": 0,
      "outputs": []
    },
    {
      "cell_type": "markdown",
      "metadata": {
        "id": "C5SfuOVqSUhf",
        "colab_type": "text"
      },
      "source": [
        "<font color=green>Here the distance unit and dollar sign are assigned their own tokens, yet the dollar amount is preserved.</font>"
      ]
    },
    {
      "cell_type": "markdown",
      "metadata": {
        "id": "iscdDFg5SUhg",
        "colab_type": "text"
      },
      "source": [
        "## Exceptions\n",
        "Punctuation that exists as part of a known abbreviation will be kept as part of the token."
      ]
    },
    {
      "cell_type": "code",
      "metadata": {
        "id": "DLaa6sArSUhi",
        "colab_type": "code",
        "colab": {}
      },
      "source": [
        "doc4 = nlp(u\"Let's visit St. Louis in the U.S. next year.\")\n",
        "print(doc4)"
      ],
      "execution_count": 0,
      "outputs": []
    },
    {
      "cell_type": "markdown",
      "metadata": {
        "id": "tPOf7GY3SUhn",
        "colab_type": "text"
      },
      "source": [
        "<font color=green>Here the abbreviations for \"Saint\" and \"United States\" are both preserved.</font>"
      ]
    },
    {
      "cell_type": "markdown",
      "metadata": {
        "id": "Oj8qnFHOSUho",
        "colab_type": "text"
      },
      "source": [
        "## Counting Tokens\n",
        "`Doc` objects have a set number of tokens:"
      ]
    },
    {
      "cell_type": "code",
      "metadata": {
        "id": "Mgv_O-WKSUhp",
        "colab_type": "code",
        "colab": {}
      },
      "source": [
        "len(doc4)"
      ],
      "execution_count": 0,
      "outputs": []
    },
    {
      "cell_type": "markdown",
      "metadata": {
        "id": "GhjNA2E7SUhv",
        "colab_type": "text"
      },
      "source": [
        "## Counting Vocab Entries\n",
        "`Vocab` objects contain a full library of items!"
      ]
    },
    {
      "cell_type": "code",
      "metadata": {
        "id": "HCoed1DISUhx",
        "colab_type": "code",
        "colab": {}
      },
      "source": [
        "len(doc.vocab)"
      ],
      "execution_count": 0,
      "outputs": []
    },
    {
      "cell_type": "markdown",
      "metadata": {
        "id": "rBkFMDHmSUh1",
        "colab_type": "text"
      },
      "source": [
        "<font color=green>NOTE: This number changes based on the language library loaded at the start, and any new lexemes introduced to the `vocab` when the `Doc` was created.</font>"
      ]
    },
    {
      "cell_type": "markdown",
      "metadata": {
        "id": "55JdA1zjSUh2",
        "colab_type": "text"
      },
      "source": [
        "## Tokens can be retrieved by index position and slice\n",
        "`Doc` objects can be thought of as lists of `token` objects. As such, individual tokens can be retrieved by index position, and spans of tokens can be retrieved through slicing:"
      ]
    },
    {
      "cell_type": "code",
      "metadata": {
        "id": "eTFQzIalSUh2",
        "colab_type": "code",
        "colab": {}
      },
      "source": [
        "doc5 = nlp(u'It is better to give than to receive.')\n",
        "doc5[2]"
      ],
      "execution_count": 0,
      "outputs": []
    },
    {
      "cell_type": "code",
      "metadata": {
        "id": "Cdc-4g5FSUh5",
        "colab_type": "code",
        "colab": {}
      },
      "source": [
        "# Retrieve three tokens from the middle:\n",
        "doc5[2:5]"
      ],
      "execution_count": 0,
      "outputs": []
    },
    {
      "cell_type": "code",
      "metadata": {
        "id": "g62_LzroSUh8",
        "colab_type": "code",
        "colab": {}
      },
      "source": [
        "# Retrieve the last four tokens:\n",
        "doc5[-1:]"
      ],
      "execution_count": 0,
      "outputs": []
    },
    {
      "cell_type": "markdown",
      "metadata": {
        "id": "QQuoNM0XSUiC",
        "colab_type": "text"
      },
      "source": [
        "## Tokens cannot be reassigned\n",
        "Although `Doc` objects can be considered lists of tokens, they do *not* support item reassignment:"
      ]
    },
    {
      "cell_type": "code",
      "metadata": {
        "id": "ZgBtJUNfSUiE",
        "colab_type": "code",
        "colab": {}
      },
      "source": [
        "doc6 = nlp(u'My dinner was horrible.')\n",
        "doc7 = nlp(u'Your dinner was delicious.')"
      ],
      "execution_count": 0,
      "outputs": []
    },
    {
      "cell_type": "code",
      "metadata": {
        "id": "49f4wiYMSUiG",
        "colab_type": "code",
        "colab": {}
      },
      "source": [
        "# Try to change \"My dinner was horrible\" to \"My dinner was delicious\"\n",
        "doc6[3]= doc7[3]"
      ],
      "execution_count": 0,
      "outputs": []
    },
    {
      "cell_type": "markdown",
      "metadata": {
        "collapsed": true,
        "id": "lIe1_FeqSUiJ",
        "colab_type": "text"
      },
      "source": [
        "___\n",
        "# Named Entities\n",
        "Going a step beyond tokens, *named entities* add another layer of context. The language model recognizes that certain words are organizational names while others are locations, and still other combinations relate to money, dates, etc. Named entities are accessible through the `ents` property of a `Doc` object."
      ]
    },
    {
      "cell_type": "code",
      "metadata": {
        "id": "YmSkEfY3SUiJ",
        "colab_type": "code",
        "outputId": "48ac2e01-497d-47c9-9d85-197370558aa1",
        "colab": {
          "base_uri": "https://localhost:8080/",
          "height": 34
        }
      },
      "source": [
        "doc8 = nlp(u'Apple is a fruit')\n",
        "\n",
        "for ent in doc8.ents:\n",
        "  print(ent.text+\" \"+ent.label_+\" \"+str(spacy.explain(ent.label_)))"
      ],
      "execution_count": 58,
      "outputs": [
        {
          "output_type": "stream",
          "text": [
            "Apple ORG Companies, agencies, institutions, etc.\n"
          ],
          "name": "stdout"
        }
      ]
    },
    {
      "cell_type": "markdown",
      "metadata": {
        "id": "LvJijhlLSUiM",
        "colab_type": "text"
      },
      "source": [
        "<font color=green>Note how two tokens combine to form the entity `Hong Kong`, and three tokens combine to form the monetary entity:  `$6 million`</font>"
      ]
    },
    {
      "cell_type": "code",
      "metadata": {
        "id": "C3N4YkClSUiN",
        "colab_type": "code",
        "colab": {}
      },
      "source": [
        "len(ent)"
      ],
      "execution_count": 0,
      "outputs": []
    },
    {
      "cell_type": "markdown",
      "metadata": {
        "id": "tMrzpcFzSUiT",
        "colab_type": "text"
      },
      "source": [
        "Named Entity Recognition (NER) is an important machine learning tool applied to Natural Language Processing.<br>We'll do a lot more with it in an upcoming section. For more info on **named entities** visit https://spacy.io/usage/linguistic-features#named-entities"
      ]
    },
    {
      "cell_type": "markdown",
      "metadata": {
        "id": "VSDmt6ibSUiU",
        "colab_type": "text"
      },
      "source": [
        "---\n",
        "# Noun Chunks\n",
        "Similar to `Doc.ents`, `Doc.noun_chunks` are another object property. *Noun chunks* are \"base noun phrases\" – flat phrases that have a noun as their head. You can think of noun chunks as a noun plus the words describing the noun – for example, in [Sheb Wooley's 1958 song](https://en.wikipedia.org/wiki/The_Purple_People_Eater), a *\"one-eyed, one-horned, flying, purple people-eater\"* would be one long noun chunk."
      ]
    },
    {
      "cell_type": "code",
      "metadata": {
        "id": "b72StY05SUiV",
        "colab_type": "code",
        "colab": {}
      },
      "source": [
        "doc9 = nlp(u\"Autonomous cars shift insurance liability toward manufacturers.\")\n",
        "for chunk in doc9.noun_chunks:\n",
        "  print(chunk.text)"
      ],
      "execution_count": 0,
      "outputs": []
    },
    {
      "cell_type": "code",
      "metadata": {
        "id": "eMUdV1bRSUiY",
        "colab_type": "code",
        "colab": {}
      },
      "source": [
        "doc10 = nlp(u\"Red cars do not carry higher insurance rates.\")\n",
        "for chunk in doc10.noun_chunks:\n",
        "  print(chunk.text)"
      ],
      "execution_count": 0,
      "outputs": []
    },
    {
      "cell_type": "code",
      "metadata": {
        "id": "hQW6hSBSSUih",
        "colab_type": "code",
        "colab": {}
      },
      "source": [
        "doc11 = nlp(u\"He was a one-eyed, one-horned, flying, purple people-eater.\")\n",
        "for chunk in doc11.noun_chunks:\n",
        "  print(chunk.text)"
      ],
      "execution_count": 0,
      "outputs": []
    },
    {
      "cell_type": "markdown",
      "metadata": {
        "id": "BQEbO-S1SUil",
        "colab_type": "text"
      },
      "source": [
        "We'll look at additional noun_chunks components besides `.text` in an upcoming section.<br>For more info on **noun_chunks** visit https://spacy.io/usage/linguistic-features#noun-chunks"
      ]
    },
    {
      "cell_type": "markdown",
      "metadata": {
        "id": "3DS9h3PsSUin",
        "colab_type": "text"
      },
      "source": [
        "___\n",
        "# Built-in Visualizers\n",
        "\n",
        "spaCy includes a built-in visualization tool called **displaCy**. displaCy is able to detect whether you're working in a Jupyter notebook, and will return markup that can be rendered in a cell right away. When you export your notebook, the visualizations will be included as HTML.\n",
        "\n",
        "For more info visit https://spacy.io/usage/visualizers"
      ]
    },
    {
      "cell_type": "markdown",
      "metadata": {
        "id": "tydIP4-JSUin",
        "colab_type": "text"
      },
      "source": [
        "## Visualizing the dependency parse\n",
        "Run the cell below to import displacy and display the dependency graphic"
      ]
    },
    {
      "cell_type": "code",
      "metadata": {
        "id": "XJ4fqqf-SUio",
        "colab_type": "code",
        "colab": {}
      },
      "source": [
        "from spacy import displacy\n",
        "\n",
        "doc = nlp(u'Apple is going to build a U.K. factory for $6 million.')\n",
        "displacy.render(doc,style='dep', jupyter=True, options={'distancee':1100})"
      ],
      "execution_count": 0,
      "outputs": []
    },
    {
      "cell_type": "markdown",
      "metadata": {
        "id": "bfuI5kehSUit",
        "colab_type": "text"
      },
      "source": [
        "The optional `'distance'` argument sets the distance between tokens. If the distance is made too small, text that appears beneath short arrows may become too compressed to read."
      ]
    },
    {
      "cell_type": "markdown",
      "metadata": {
        "id": "Hf2fytRISUiu",
        "colab_type": "text"
      },
      "source": [
        "## Visualizing the entity recognizer"
      ]
    },
    {
      "cell_type": "code",
      "metadata": {
        "id": "GHX9yd4VSUiy",
        "colab_type": "code",
        "outputId": "295dfa59-c65d-4dc0-dbf0-4e1ff7d748bf",
        "colab": {
          "base_uri": "https://localhost:8080/",
          "height": 51
        }
      },
      "source": [
        "doc = nlp(u'Over the last quarter Apple sold nearly 20 thousand iPods for a profit of $6 million.')\n",
        "displacy.render(doc, style='ent', jupyter=True)"
      ],
      "execution_count": 53,
      "outputs": [
        {
          "output_type": "display_data",
          "data": {
            "text/html": [
              "<div class=\"entities\" style=\"line-height: 2.5; direction: ltr\">Over \n",
              "<mark class=\"entity\" style=\"background: #bfe1d9; padding: 0.45em 0.6em; margin: 0 0.25em; line-height: 1; border-radius: 0.35em; box-decoration-break: clone; -webkit-box-decoration-break: clone\">\n",
              "    the last quarter\n",
              "    <span style=\"font-size: 0.8em; font-weight: bold; line-height: 1; border-radius: 0.35em; text-transform: uppercase; vertical-align: middle; margin-left: 0.5rem\">DATE</span>\n",
              "</mark>\n",
              " \n",
              "<mark class=\"entity\" style=\"background: #7aecec; padding: 0.45em 0.6em; margin: 0 0.25em; line-height: 1; border-radius: 0.35em; box-decoration-break: clone; -webkit-box-decoration-break: clone\">\n",
              "    Apple\n",
              "    <span style=\"font-size: 0.8em; font-weight: bold; line-height: 1; border-radius: 0.35em; text-transform: uppercase; vertical-align: middle; margin-left: 0.5rem\">ORG</span>\n",
              "</mark>\n",
              " sold \n",
              "<mark class=\"entity\" style=\"background: #e4e7d2; padding: 0.45em 0.6em; margin: 0 0.25em; line-height: 1; border-radius: 0.35em; box-decoration-break: clone; -webkit-box-decoration-break: clone\">\n",
              "    nearly 20 thousand\n",
              "    <span style=\"font-size: 0.8em; font-weight: bold; line-height: 1; border-radius: 0.35em; text-transform: uppercase; vertical-align: middle; margin-left: 0.5rem\">CARDINAL</span>\n",
              "</mark>\n",
              " iPods for a profit of \n",
              "<mark class=\"entity\" style=\"background: #e4e7d2; padding: 0.45em 0.6em; margin: 0 0.25em; line-height: 1; border-radius: 0.35em; box-decoration-break: clone; -webkit-box-decoration-break: clone\">\n",
              "    $6 million\n",
              "    <span style=\"font-size: 0.8em; font-weight: bold; line-height: 1; border-radius: 0.35em; text-transform: uppercase; vertical-align: middle; margin-left: 0.5rem\">MONEY</span>\n",
              "</mark>\n",
              ".</div>"
            ],
            "text/plain": [
              "<IPython.core.display.HTML object>"
            ]
          },
          "metadata": {
            "tags": []
          }
        }
      ]
    },
    {
      "cell_type": "markdown",
      "metadata": {
        "id": "cGQXi14ySUi3",
        "colab_type": "text"
      },
      "source": [
        "___\n",
        "## Creating Visualizations Outside of Jupyter\n",
        "If you're using another Python IDE or writing a script, you can choose to have spaCy serve up html separately:"
      ]
    },
    {
      "cell_type": "code",
      "metadata": {
        "id": "OBnTiTK6SUi3",
        "colab_type": "code",
        "outputId": "8b84a87a-fd65-4293-c4d5-534c6e878a53",
        "colab": {
          "base_uri": "https://localhost:8080/",
          "height": 154
        }
      },
      "source": [
        "doc = nlp(u'This is a sentence.')\n",
        "displacy.server(doc, style='ent')"
      ],
      "execution_count": 56,
      "outputs": [
        {
          "output_type": "stream",
          "text": [
            "/usr/lib/python3.6/runpy.py:193: UserWarning: [W006] No entities to visualize found in Doc object. If this is surprising to you, make sure the Doc was processed using a model that supports named entity recognition, and check the `doc.ents` property manually if necessary.\n",
            "  \"__main__\", mod_spec)\n"
          ],
          "name": "stderr"
        },
        {
          "output_type": "stream",
          "text": [
            "\n",
            "Using the 'ent' visualizer\n",
            "Serving on http://0.0.0.0:5000 ...\n",
            "\n",
            "Shutting down server on port 5000.\n"
          ],
          "name": "stdout"
        }
      ]
    },
    {
      "cell_type": "markdown",
      "metadata": {
        "id": "96dCQJ2wSUi5",
        "colab_type": "text"
      },
      "source": [
        "<font color=blue>**After running the cell above, click the link below to view the dependency parse**:</font>\n",
        "\n",
        "http://127.0.0.1:5000\n",
        "<br><br>\n",
        "<font color=red>**To shut down the server and return to jupyter**, interrupt the kernel either through the **Kernel** menu above, by hitting the black square on the toolbar, or by typing the keyboard shortcut `Esc`, `I`, `I`</font>"
      ]
    },
    {
      "cell_type": "markdown",
      "metadata": {
        "id": "QZTl1j-RSUi6",
        "colab_type": "text"
      },
      "source": [
        "Great! Now you should have an understanding of how tokenization divides text up into individual elements, how named entities provide context, and how certain tools help to visualize grammar rules and entity labels.\n",
        "## Next up: Stemming"
      ]
    }
  ]
}