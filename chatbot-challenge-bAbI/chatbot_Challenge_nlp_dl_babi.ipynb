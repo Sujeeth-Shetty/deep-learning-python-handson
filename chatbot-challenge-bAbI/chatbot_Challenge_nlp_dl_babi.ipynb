{
  "nbformat": 4,
  "nbformat_minor": 0,
  "metadata": {
    "kernelspec": {
      "name": "python3",
      "display_name": "Python 3"
    },
    "language_info": {
      "codemirror_mode": {
        "name": "ipython",
        "version": 3
      },
      "file_extension": ".py",
      "mimetype": "text/x-python",
      "name": "python",
      "nbconvert_exporter": "python",
      "pygments_lexer": "ipython3",
      "version": "3.6.5"
    },
    "colab": {
      "name": "chatbot_Challenge_nlp_dl_babi.ipynb",
      "provenance": [],
      "toc_visible": true
    },
    "accelerator": "GPU"
  },
  "cells": [
    {
      "cell_type": "markdown",
      "metadata": {
        "id": "DYM-vH9YpYBL",
        "colab_type": "text"
      },
      "source": [
        "# Deep Learning for NLP - Creating a chatbot"
      ]
    },
    {
      "cell_type": "code",
      "metadata": {
        "id": "CZiJXDlgpYCB",
        "colab_type": "code",
        "colab": {}
      },
      "source": [
        "#Library Imports\n",
        "import pickle\n",
        "import numpy as np"
      ],
      "execution_count": 0,
      "outputs": []
    },
    {
      "cell_type": "code",
      "metadata": {
        "id": "HRdURGTJpYCG",
        "colab_type": "code",
        "colab": {}
      },
      "source": [
        "#retrieve training data\n",
        "with open('train_qa.txt', 'rb') as f:\n",
        "    train_data = pickle.load(f)"
      ],
      "execution_count": 0,
      "outputs": []
    },
    {
      "cell_type": "code",
      "metadata": {
        "id": "JV9yvejupYCJ",
        "colab_type": "code",
        "colab": {}
      },
      "source": [
        "#retrieve test data\n",
        "with open('test_qa.txt', 'rb') as f:\n",
        "    test_data = pickle.load(f)"
      ],
      "execution_count": 0,
      "outputs": []
    },
    {
      "cell_type": "code",
      "metadata": {
        "id": "12GCEVh7pYCL",
        "colab_type": "code",
        "colab": {
          "base_uri": "https://localhost:8080/",
          "height": 34
        },
        "outputId": "aa3bc90a-a800-4bcc-e591-bc90d408a803"
      },
      "source": [
        "#Number of training instances\n",
        "len(train_data)"
      ],
      "execution_count": 4,
      "outputs": [
        {
          "output_type": "execute_result",
          "data": {
            "text/plain": [
              "10000"
            ]
          },
          "metadata": {
            "tags": []
          },
          "execution_count": 4
        }
      ]
    },
    {
      "cell_type": "code",
      "metadata": {
        "id": "98MVObnZpYCO",
        "colab_type": "code",
        "colab": {
          "base_uri": "https://localhost:8080/",
          "height": 34
        },
        "outputId": "0de60082-cb53-4552-89b6-021e2d7c82de"
      },
      "source": [
        "#Number of test instances\n",
        "len(test_data)"
      ],
      "execution_count": 5,
      "outputs": [
        {
          "output_type": "execute_result",
          "data": {
            "text/plain": [
              "1000"
            ]
          },
          "metadata": {
            "tags": []
          },
          "execution_count": 5
        }
      ]
    },
    {
      "cell_type": "code",
      "metadata": {
        "id": "ALy4y3FJpYCQ",
        "colab_type": "code",
        "colab": {
          "base_uri": "https://localhost:8080/",
          "height": 269
        },
        "outputId": "3d9ddcaf-8572-4a77-f6cd-bb369bf0ef64"
      },
      "source": [
        "#Example of one of the instances\n",
        "train_data[10]"
      ],
      "execution_count": 6,
      "outputs": [
        {
          "output_type": "execute_result",
          "data": {
            "text/plain": [
              "(['Sandra',\n",
              "  'went',\n",
              "  'back',\n",
              "  'to',\n",
              "  'the',\n",
              "  'hallway',\n",
              "  '.',\n",
              "  'Sandra',\n",
              "  'moved',\n",
              "  'to',\n",
              "  'the',\n",
              "  'office',\n",
              "  '.'],\n",
              " ['Is', 'Sandra', 'in', 'the', 'office', '?'],\n",
              " 'yes')"
            ]
          },
          "metadata": {
            "tags": []
          },
          "execution_count": 6
        }
      ]
    },
    {
      "cell_type": "code",
      "metadata": {
        "id": "ItxBUGedpYCT",
        "colab_type": "code",
        "colab": {
          "base_uri": "https://localhost:8080/",
          "height": 34
        },
        "outputId": "73959e20-de69-43ea-e601-07c0988f62e3"
      },
      "source": [
        "' '.join(train_data[10][0])"
      ],
      "execution_count": 7,
      "outputs": [
        {
          "output_type": "execute_result",
          "data": {
            "text/plain": [
              "'Sandra went back to the hallway . Sandra moved to the office .'"
            ]
          },
          "metadata": {
            "tags": []
          },
          "execution_count": 7
        }
      ]
    },
    {
      "cell_type": "code",
      "metadata": {
        "id": "vhpm729ApYCV",
        "colab_type": "code",
        "colab": {
          "base_uri": "https://localhost:8080/",
          "height": 34
        },
        "outputId": "0fe3c6c0-b7be-4dfa-9968-130a997bef81"
      },
      "source": [
        "' '.join(train_data[10][1])"
      ],
      "execution_count": 8,
      "outputs": [
        {
          "output_type": "execute_result",
          "data": {
            "text/plain": [
              "'Is Sandra in the office ?'"
            ]
          },
          "metadata": {
            "tags": []
          },
          "execution_count": 8
        }
      ]
    },
    {
      "cell_type": "code",
      "metadata": {
        "id": "chSUSrm0pYCX",
        "colab_type": "code",
        "colab": {
          "base_uri": "https://localhost:8080/",
          "height": 34
        },
        "outputId": "fd379ac5-dde7-4549-95c1-e7479c92932c"
      },
      "source": [
        "train_data[10][2]"
      ],
      "execution_count": 9,
      "outputs": [
        {
          "output_type": "execute_result",
          "data": {
            "text/plain": [
              "'yes'"
            ]
          },
          "metadata": {
            "tags": []
          },
          "execution_count": 9
        }
      ]
    },
    {
      "cell_type": "code",
      "metadata": {
        "id": "71zjaeSppYCZ",
        "colab_type": "code",
        "colab": {}
      },
      "source": [
        "#First we need to create a vocabulary with our data\n",
        "#For this we will use the training data only to - On the video it uses both\n",
        "#train and test \n",
        "#Might have to use training and test later, as the dataset has very\n",
        "#few words"
      ],
      "execution_count": 0,
      "outputs": []
    },
    {
      "cell_type": "code",
      "metadata": {
        "id": "OaygEpjUpYCb",
        "colab_type": "code",
        "colab": {}
      },
      "source": [
        "#First we will build a set of all the words in the dataset:\n",
        "vocab = set()\n",
        "for story, question, answer in train_data:\n",
        "    vocab = vocab.union(set(story)) #Set returns unique words in the sentence\n",
        "                                    #Union returns the unique common elements from a two sets\n",
        "    vocab = vocab.union(set(question))"
      ],
      "execution_count": 0,
      "outputs": []
    },
    {
      "cell_type": "code",
      "metadata": {
        "id": "vSG3SvB_pYCd",
        "colab_type": "code",
        "colab": {}
      },
      "source": [
        "vocab.add('no')\n",
        "vocab.add('yes')"
      ],
      "execution_count": 0,
      "outputs": []
    },
    {
      "cell_type": "code",
      "metadata": {
        "scrolled": true,
        "id": "e5MP9ptWpYCf",
        "colab_type": "code",
        "colab": {
          "base_uri": "https://localhost:8080/",
          "height": 638
        },
        "outputId": "1bd2791d-b013-40f5-950f-b634fdbf34fb"
      },
      "source": [
        "vocab"
      ],
      "execution_count": 13,
      "outputs": [
        {
          "output_type": "execute_result",
          "data": {
            "text/plain": [
              "{'.',\n",
              " '?',\n",
              " 'Daniel',\n",
              " 'Is',\n",
              " 'John',\n",
              " 'Mary',\n",
              " 'Sandra',\n",
              " 'apple',\n",
              " 'back',\n",
              " 'bathroom',\n",
              " 'bedroom',\n",
              " 'discarded',\n",
              " 'down',\n",
              " 'dropped',\n",
              " 'football',\n",
              " 'garden',\n",
              " 'got',\n",
              " 'grabbed',\n",
              " 'hallway',\n",
              " 'in',\n",
              " 'journeyed',\n",
              " 'kitchen',\n",
              " 'left',\n",
              " 'milk',\n",
              " 'moved',\n",
              " 'no',\n",
              " 'office',\n",
              " 'picked',\n",
              " 'put',\n",
              " 'the',\n",
              " 'there',\n",
              " 'to',\n",
              " 'took',\n",
              " 'travelled',\n",
              " 'up',\n",
              " 'went',\n",
              " 'yes'}"
            ]
          },
          "metadata": {
            "tags": []
          },
          "execution_count": 13
        }
      ]
    },
    {
      "cell_type": "code",
      "metadata": {
        "id": "pa6yzYl9pYCh",
        "colab_type": "code",
        "colab": {}
      },
      "source": [
        "#Calculate len and add 1 for Keras placeholder - Placeholders are used to feed in the data to the network. \n",
        "#They need a data type, and have optional shape arguements.\n",
        "#They will be empty at first, and then the data will get fed into the placeholder\n",
        "vocab_len = len(vocab) + 1"
      ],
      "execution_count": 0,
      "outputs": []
    },
    {
      "cell_type": "code",
      "metadata": {
        "id": "rYJ7j6GzpYCj",
        "colab_type": "code",
        "colab": {
          "base_uri": "https://localhost:8080/",
          "height": 34
        },
        "outputId": "e3cbdaa7-e7f3-4630-dd94-4b7bdf6c69c7"
      },
      "source": [
        "vocab_len"
      ],
      "execution_count": 15,
      "outputs": [
        {
          "output_type": "execute_result",
          "data": {
            "text/plain": [
              "38"
            ]
          },
          "metadata": {
            "tags": []
          },
          "execution_count": 15
        }
      ]
    },
    {
      "cell_type": "code",
      "metadata": {
        "id": "sP5Fj933pYCl",
        "colab_type": "code",
        "colab": {}
      },
      "source": [
        "#Now we are going to calculate the longest story and the longest question\n",
        "#We need this for the Keras pad sequences. \n",
        "#Keras training layers expect all of the input to have the same length, so \n",
        "#we need to pad \n",
        "all_data = test_data + train_data"
      ],
      "execution_count": 0,
      "outputs": []
    },
    {
      "cell_type": "code",
      "metadata": {
        "id": "suy_1XAjpYCo",
        "colab_type": "code",
        "colab": {}
      },
      "source": [
        "all_story_lens = [len(data[0]) for data in all_data]"
      ],
      "execution_count": 0,
      "outputs": []
    },
    {
      "cell_type": "code",
      "metadata": {
        "id": "xNuVeMWxpYCp",
        "colab_type": "code",
        "colab": {}
      },
      "source": [
        "max_story_len = (max(all_story_lens))"
      ],
      "execution_count": 0,
      "outputs": []
    },
    {
      "cell_type": "code",
      "metadata": {
        "id": "hSJxzEFhpYCr",
        "colab_type": "code",
        "colab": {}
      },
      "source": [
        "max_question_len = max([len(data[1]) for data in all_data])"
      ],
      "execution_count": 0,
      "outputs": []
    },
    {
      "cell_type": "markdown",
      "metadata": {
        "id": "sPsghmK_pYCt",
        "colab_type": "text"
      },
      "source": [
        "## Vectorizing the data"
      ]
    },
    {
      "cell_type": "markdown",
      "metadata": {
        "id": "68DHDmh9pYCu",
        "colab_type": "text"
      },
      "source": [
        "First, we will go through a manual process of how to vectorize the data, and then we will create a function that does this automatically for us. "
      ]
    },
    {
      "cell_type": "code",
      "metadata": {
        "id": "ymm6Kn7jpYCv",
        "colab_type": "code",
        "colab": {
          "base_uri": "https://localhost:8080/",
          "height": 79
        },
        "outputId": "2102f768-8ddb-4674-e5f7-f4fbf9736f93"
      },
      "source": [
        "from keras.preprocessing.sequence import pad_sequences\n",
        "from keras.preprocessing.text import Tokenizer"
      ],
      "execution_count": 20,
      "outputs": [
        {
          "output_type": "stream",
          "text": [
            "Using TensorFlow backend.\n"
          ],
          "name": "stderr"
        },
        {
          "output_type": "display_data",
          "data": {
            "text/html": [
              "<p style=\"color: red;\">\n",
              "The default version of TensorFlow in Colab will soon switch to TensorFlow 2.x.<br>\n",
              "We recommend you <a href=\"https://www.tensorflow.org/guide/migrate\" target=\"_blank\">upgrade</a> now \n",
              "or ensure your notebook will continue to use TensorFlow 1.x via the <code>%tensorflow_version 1.x</code> magic:\n",
              "<a href=\"https://colab.research.google.com/notebooks/tensorflow_version.ipynb\" target=\"_blank\">more info</a>.</p>\n"
            ],
            "text/plain": [
              "<IPython.core.display.HTML object>"
            ]
          },
          "metadata": {
            "tags": []
          }
        }
      ]
    },
    {
      "cell_type": "code",
      "metadata": {
        "id": "JYflS34bpYC0",
        "colab_type": "code",
        "colab": {}
      },
      "source": [
        "#Create an instance of the tokenizer object:\n",
        "tokenizer = Tokenizer(filters = [])\n",
        "tokenizer.fit_on_texts(vocab)"
      ],
      "execution_count": 0,
      "outputs": []
    },
    {
      "cell_type": "code",
      "metadata": {
        "id": "-7C6Wg51pYC4",
        "colab_type": "code",
        "colab": {
          "base_uri": "https://localhost:8080/",
          "height": 638
        },
        "outputId": "aa92a6de-cf83-4848-e015-22cfb7e591b9"
      },
      "source": [
        "#Dictionary that maps every word in our vocab to an index\n",
        "# It has been automatically lowercased\n",
        "#This tokenizer can give different indexes for different words depending on when we run it\n",
        "tokenizer.word_index"
      ],
      "execution_count": 22,
      "outputs": [
        {
          "output_type": "execute_result",
          "data": {
            "text/plain": [
              "{'.': 2,\n",
              " '?': 5,\n",
              " 'apple': 24,\n",
              " 'back': 20,\n",
              " 'bathroom': 30,\n",
              " 'bedroom': 18,\n",
              " 'daniel': 33,\n",
              " 'discarded': 26,\n",
              " 'down': 31,\n",
              " 'dropped': 16,\n",
              " 'football': 14,\n",
              " 'garden': 19,\n",
              " 'got': 4,\n",
              " 'grabbed': 29,\n",
              " 'hallway': 10,\n",
              " 'in': 8,\n",
              " 'is': 37,\n",
              " 'john': 28,\n",
              " 'journeyed': 23,\n",
              " 'kitchen': 7,\n",
              " 'left': 21,\n",
              " 'mary': 13,\n",
              " 'milk': 32,\n",
              " 'moved': 15,\n",
              " 'no': 17,\n",
              " 'office': 1,\n",
              " 'picked': 11,\n",
              " 'put': 22,\n",
              " 'sandra': 35,\n",
              " 'the': 27,\n",
              " 'there': 6,\n",
              " 'to': 36,\n",
              " 'took': 12,\n",
              " 'travelled': 34,\n",
              " 'up': 9,\n",
              " 'went': 3,\n",
              " 'yes': 25}"
            ]
          },
          "metadata": {
            "tags": []
          },
          "execution_count": 22
        }
      ]
    },
    {
      "cell_type": "code",
      "metadata": {
        "id": "zYnkZVTgpYC7",
        "colab_type": "code",
        "colab": {}
      },
      "source": [
        "#Tokenize the stories, questions and answers:\n",
        "train_story_text = []\n",
        "train_question_text = []\n",
        "train_answers = []"
      ],
      "execution_count": 0,
      "outputs": []
    },
    {
      "cell_type": "code",
      "metadata": {
        "id": "GZV-RZAdpYC8",
        "colab_type": "code",
        "colab": {}
      },
      "source": [
        "#Separating each of the elements\n",
        "for story,question,answer in train_data:\n",
        "    train_story_text.append(story)\n",
        "    train_question_text.append(question) \n",
        "    train_answers.append(answer)\n",
        "    "
      ],
      "execution_count": 0,
      "outputs": []
    },
    {
      "cell_type": "code",
      "metadata": {
        "id": "aMpKvOWtpYC-",
        "colab_type": "code",
        "colab": {}
      },
      "source": [
        "#Coverting the text into the indexes \n",
        "train_story_seq = tokenizer.texts_to_sequences(train_story_text)"
      ],
      "execution_count": 0,
      "outputs": []
    },
    {
      "cell_type": "code",
      "metadata": {
        "id": "YROqIY5jpYDA",
        "colab_type": "code",
        "colab": {}
      },
      "source": [
        "#Create a function for vectorizing the stories, questions and answers:\n",
        "def vectorize_stories(data,word_index = tokenizer.word_index, max_story_len = max_story_len, max_question_len = max_question_len):\n",
        "    #vectorized stories:\n",
        "    X = []\n",
        "    #vectorized questions:\n",
        "    Xq = []\n",
        "    #vectorized answers:\n",
        "    Y = []\n",
        "    \n",
        "    for story, question, answer in data:\n",
        "        #Getting indexes for each word in the story\n",
        "        x = [word_index[word.lower()] for word in story]\n",
        "        #Getting indexes for each word in the story\n",
        "        xq = [word_index[word.lower()] for word in question]\n",
        "        #For the answers\n",
        "        y = np.zeros(len(word_index) + 1) #Index 0 Reserved when padding the sequences\n",
        "        y[word_index[answer]] = 1\n",
        "        \n",
        "        X.append(x)\n",
        "        Xq.append(xq)\n",
        "        Y.append(y)\n",
        "        \n",
        "    #Now we have to pad these sequences:\n",
        "    return(pad_sequences(X,maxlen=max_story_len), pad_sequences(Xq, maxlen=max_question_len), np.array(Y))\n",
        "        "
      ],
      "execution_count": 0,
      "outputs": []
    },
    {
      "cell_type": "code",
      "metadata": {
        "id": "UCQFAzSgpYDC",
        "colab_type": "code",
        "colab": {}
      },
      "source": [
        "inputs_train, questions_train, answers_train = vectorize_stories(train_data)"
      ],
      "execution_count": 0,
      "outputs": []
    },
    {
      "cell_type": "code",
      "metadata": {
        "id": "W_NgEuzlpYDE",
        "colab_type": "code",
        "colab": {}
      },
      "source": [
        "inputs_test, questions_test, answers_test = vectorize_stories(test_data)"
      ],
      "execution_count": 0,
      "outputs": []
    },
    {
      "cell_type": "code",
      "metadata": {
        "id": "AgFVfwZ_pYDG",
        "colab_type": "code",
        "colab": {
          "base_uri": "https://localhost:8080/",
          "height": 185
        },
        "outputId": "4d263d55-f458-4521-9b0b-73286c2bfc0c"
      },
      "source": [
        "inputs_train[0]"
      ],
      "execution_count": 29,
      "outputs": [
        {
          "output_type": "execute_result",
          "data": {
            "text/plain": [
              "array([ 0,  0,  0,  0,  0,  0,  0,  0,  0,  0,  0,  0,  0,  0,  0,  0,  0,\n",
              "        0,  0,  0,  0,  0,  0,  0,  0,  0,  0,  0,  0,  0,  0,  0,  0,  0,\n",
              "        0,  0,  0,  0,  0,  0,  0,  0,  0,  0,  0,  0,  0,  0,  0,  0,  0,\n",
              "        0,  0,  0,  0,  0,  0,  0,  0,  0,  0,  0,  0,  0,  0,  0,  0,  0,\n",
              "        0,  0,  0,  0,  0,  0,  0,  0,  0,  0,  0,  0,  0,  0,  0,  0,  0,\n",
              "        0,  0,  0,  0,  0,  0,  0,  0,  0,  0,  0,  0,  0,  0,  0,  0,  0,\n",
              "        0,  0,  0,  0,  0,  0,  0,  0,  0,  0,  0,  0,  0,  0,  0,  0,  0,\n",
              "        0,  0,  0,  0,  0,  0,  0,  0,  0,  0,  0,  0,  0,  0,  0,  0,  0,\n",
              "        0,  0,  0,  0,  0,  0,  0,  0, 13, 15, 36, 27, 30,  2, 35, 23, 36,\n",
              "       27, 18,  2], dtype=int32)"
            ]
          },
          "metadata": {
            "tags": []
          },
          "execution_count": 29
        }
      ]
    },
    {
      "cell_type": "code",
      "metadata": {
        "id": "TRR3xX2EpYDI",
        "colab_type": "code",
        "colab": {
          "base_uri": "https://localhost:8080/",
          "height": 218
        },
        "outputId": "94bb031f-5c4b-4baf-874c-107bda66a907"
      },
      "source": [
        "train_story_text[0]"
      ],
      "execution_count": 30,
      "outputs": [
        {
          "output_type": "execute_result",
          "data": {
            "text/plain": [
              "['Mary',\n",
              " 'moved',\n",
              " 'to',\n",
              " 'the',\n",
              " 'bathroom',\n",
              " '.',\n",
              " 'Sandra',\n",
              " 'journeyed',\n",
              " 'to',\n",
              " 'the',\n",
              " 'bedroom',\n",
              " '.']"
            ]
          },
          "metadata": {
            "tags": []
          },
          "execution_count": 30
        }
      ]
    },
    {
      "cell_type": "code",
      "metadata": {
        "id": "yqtnhdVMpYDK",
        "colab_type": "code",
        "colab": {
          "base_uri": "https://localhost:8080/",
          "height": 34
        },
        "outputId": "cc2c365a-2c57-4ea4-cc3d-ee1c0536bb94"
      },
      "source": [
        "train_story_seq[0]"
      ],
      "execution_count": 31,
      "outputs": [
        {
          "output_type": "execute_result",
          "data": {
            "text/plain": [
              "[13, 15, 36, 27, 30, 2, 35, 23, 36, 27, 18, 2]"
            ]
          },
          "metadata": {
            "tags": []
          },
          "execution_count": 31
        }
      ]
    },
    {
      "cell_type": "markdown",
      "metadata": {
        "id": "o9KIWUoKpYDN",
        "colab_type": "text"
      },
      "source": [
        "## Building the Network"
      ]
    },
    {
      "cell_type": "code",
      "metadata": {
        "id": "t5_jfOlGpYDO",
        "colab_type": "code",
        "colab": {}
      },
      "source": [
        "#Imports\n",
        "from keras.models import Sequential, Model\n",
        "from keras.layers.embeddings import Embedding\n",
        "from keras.layers import Input, Activation, Dense, Permute, Dropout, add, dot, concatenate, LSTM"
      ],
      "execution_count": 0,
      "outputs": []
    },
    {
      "cell_type": "code",
      "metadata": {
        "id": "0GhIkdBOpYDQ",
        "colab_type": "code",
        "colab": {
          "base_uri": "https://localhost:8080/",
          "height": 104
        },
        "outputId": "4728b33e-a962-4627-c6ca-c2fdd7b9f608"
      },
      "source": [
        "# We need to create the placeholders \n",
        "#The Input function is used to create a keras tensor\n",
        "#PLACEHOLDER shape = (max_story_len,batch_size)\n",
        "#These are our placeholder for the inputs, ready to recieve batches of the stories and the questions\n",
        "input_sequence = Input((max_story_len,)) #As we dont know batch size yet\n",
        "question = Input((max_question_len,))"
      ],
      "execution_count": 33,
      "outputs": [
        {
          "output_type": "stream",
          "text": [
            "WARNING:tensorflow:From /usr/local/lib/python3.6/dist-packages/keras/backend/tensorflow_backend.py:66: The name tf.get_default_graph is deprecated. Please use tf.compat.v1.get_default_graph instead.\n",
            "\n",
            "WARNING:tensorflow:From /usr/local/lib/python3.6/dist-packages/keras/backend/tensorflow_backend.py:541: The name tf.placeholder is deprecated. Please use tf.compat.v1.placeholder instead.\n",
            "\n"
          ],
          "name": "stdout"
        }
      ]
    },
    {
      "cell_type": "code",
      "metadata": {
        "id": "9VYbp2lopYDS",
        "colab_type": "code",
        "colab": {
          "base_uri": "https://localhost:8080/",
          "height": 154
        },
        "outputId": "bc1005c2-d12b-4da2-820d-2ea3b0555992"
      },
      "source": [
        "#Create input encoder M:\n",
        "input_encoder_m = Sequential()\n",
        "input_encoder_m.add(Embedding(input_dim=vocab_len,output_dim = 64)) #From paper\n",
        "input_encoder_m.add(Dropout(0.3))\n",
        "\n",
        "#Outputs: (Samples, story_maxlen,embedding_dim) -- Gives a list of the lenght of the samples where each item has the\n",
        "#lenght of the max story lenght and every word is embedded in the embbeding dimension"
      ],
      "execution_count": 34,
      "outputs": [
        {
          "output_type": "stream",
          "text": [
            "WARNING:tensorflow:From /usr/local/lib/python3.6/dist-packages/keras/backend/tensorflow_backend.py:4432: The name tf.random_uniform is deprecated. Please use tf.random.uniform instead.\n",
            "\n",
            "WARNING:tensorflow:From /usr/local/lib/python3.6/dist-packages/keras/backend/tensorflow_backend.py:148: The name tf.placeholder_with_default is deprecated. Please use tf.compat.v1.placeholder_with_default instead.\n",
            "\n",
            "WARNING:tensorflow:From /usr/local/lib/python3.6/dist-packages/keras/backend/tensorflow_backend.py:3733: calling dropout (from tensorflow.python.ops.nn_ops) with keep_prob is deprecated and will be removed in a future version.\n",
            "Instructions for updating:\n",
            "Please use `rate` instead of `keep_prob`. Rate should be set to `rate = 1 - keep_prob`.\n"
          ],
          "name": "stdout"
        }
      ]
    },
    {
      "cell_type": "code",
      "metadata": {
        "id": "QP39JeJapYDT",
        "colab_type": "code",
        "colab": {}
      },
      "source": [
        "#Create input encoder C:\n",
        "input_encoder_c = Sequential()\n",
        "input_encoder_c.add(Embedding(input_dim=vocab_len,output_dim = max_question_len)) #From paper\n",
        "input_encoder_c.add(Dropout(0.3))\n",
        "\n",
        "#Outputs: (samples, story_maxlen, max_question_len)"
      ],
      "execution_count": 0,
      "outputs": []
    },
    {
      "cell_type": "code",
      "metadata": {
        "id": "mqr5Y51PpYDV",
        "colab_type": "code",
        "colab": {}
      },
      "source": [
        "#Create question encoder:\n",
        "question_encoder = Sequential()\n",
        "question_encoder.add(Embedding(input_dim=vocab_len,output_dim = 64,input_length=max_question_len)) #From paper\n",
        "question_encoder.add(Dropout(0.3))\n",
        "\n",
        "#Outputs: (samples, question_maxlen, embedding_dim)"
      ],
      "execution_count": 0,
      "outputs": []
    },
    {
      "cell_type": "code",
      "metadata": {
        "id": "rOYiUFQJpYDW",
        "colab_type": "code",
        "colab": {}
      },
      "source": [
        "#Now lets encode the sequences, passing the placeholders into our encoders:\n",
        "input_encoded_m = input_encoder_m(input_sequence)\n",
        "input_encoded_c = input_encoder_c(input_sequence)\n",
        "question_encoded = question_encoder(question)"
      ],
      "execution_count": 0,
      "outputs": []
    },
    {
      "cell_type": "code",
      "metadata": {
        "id": "avomnTp1pYDZ",
        "colab_type": "code",
        "colab": {}
      },
      "source": [
        "#Use dot product to compute similarity between input encoded m and question \n",
        "#Like in the paper:\n",
        "match = dot([input_encoded_m,question_encoded], axes = (2,2))\n",
        "match = Activation('softmax')(match)"
      ],
      "execution_count": 0,
      "outputs": []
    },
    {
      "cell_type": "code",
      "metadata": {
        "id": "sap8j9p1pYDc",
        "colab_type": "code",
        "colab": {}
      },
      "source": [
        "#For the response we want to add this match with the ouput of input_encoded_c\n",
        "response = add([match,input_encoded_c])\n",
        "response = Permute((2,1))(response) #Permute Layer: permutes dimensions of input"
      ],
      "execution_count": 0,
      "outputs": []
    },
    {
      "cell_type": "code",
      "metadata": {
        "id": "zF10i18upYDf",
        "colab_type": "code",
        "colab": {}
      },
      "source": [
        "#Once we have the response we can concatenate it with the question encoded:\n",
        "answer = concatenate([response, question_encoded])"
      ],
      "execution_count": 0,
      "outputs": []
    },
    {
      "cell_type": "code",
      "metadata": {
        "id": "3S8UE8FvpYDg",
        "colab_type": "code",
        "colab": {
          "base_uri": "https://localhost:8080/",
          "height": 34
        },
        "outputId": "c874d4f8-a65d-4699-b955-6b813d3cc0f7"
      },
      "source": [
        "answer"
      ],
      "execution_count": 41,
      "outputs": [
        {
          "output_type": "execute_result",
          "data": {
            "text/plain": [
              "<tf.Tensor 'concatenate_1/concat:0' shape=(?, 6, 220) dtype=float32>"
            ]
          },
          "metadata": {
            "tags": []
          },
          "execution_count": 41
        }
      ]
    },
    {
      "cell_type": "code",
      "metadata": {
        "id": "UosPiZWHpYDi",
        "colab_type": "code",
        "colab": {}
      },
      "source": [
        "# Reduce the answer tensor with a RNN (LSTM)\n",
        "answer = LSTM(32)(answer)"
      ],
      "execution_count": 0,
      "outputs": []
    },
    {
      "cell_type": "code",
      "metadata": {
        "id": "hgU_pCVUpYDj",
        "colab_type": "code",
        "colab": {}
      },
      "source": [
        "#Regularization with dropout:\n",
        "answer = Dropout(0.5)(answer)\n",
        "#Output layer:\n",
        "answer = Dense(vocab_len)(answer) #Output shape: (Samples, Vocab_size) #Yes or no and all 0s"
      ],
      "execution_count": 0,
      "outputs": []
    },
    {
      "cell_type": "code",
      "metadata": {
        "id": "8ivU7nqgpYDm",
        "colab_type": "code",
        "colab": {}
      },
      "source": [
        "#Now we need to output a probability distribution for the vocab, using softmax:\n",
        "answer = Activation('softmax')(answer)"
      ],
      "execution_count": 0,
      "outputs": []
    },
    {
      "cell_type": "code",
      "metadata": {
        "id": "RzTsZtRapYDn",
        "colab_type": "code",
        "colab": {}
      },
      "source": [
        "#Now we build the final model:\n",
        "model = Model([input_sequence,question], answer)"
      ],
      "execution_count": 0,
      "outputs": []
    },
    {
      "cell_type": "code",
      "metadata": {
        "id": "NLHm3DB9pYDr",
        "colab_type": "code",
        "colab": {
          "base_uri": "https://localhost:8080/",
          "height": 104
        },
        "outputId": "b195c500-0701-4e7e-ed52-a40683153b1d"
      },
      "source": [
        "model.compile(optimizer='rmsprop', loss = 'categorical_crossentropy', metrics = ['accuracy'])\n",
        "#Categorical instead of binary cross entropy as because of the way we are training\n",
        "#we could actually see any of the words from the vocab as output\n",
        "#however, we should only see yes or no"
      ],
      "execution_count": 46,
      "outputs": [
        {
          "output_type": "stream",
          "text": [
            "WARNING:tensorflow:From /usr/local/lib/python3.6/dist-packages/keras/optimizers.py:793: The name tf.train.Optimizer is deprecated. Please use tf.compat.v1.train.Optimizer instead.\n",
            "\n",
            "WARNING:tensorflow:From /usr/local/lib/python3.6/dist-packages/keras/backend/tensorflow_backend.py:3576: The name tf.log is deprecated. Please use tf.math.log instead.\n",
            "\n"
          ],
          "name": "stdout"
        }
      ]
    },
    {
      "cell_type": "code",
      "metadata": {
        "id": "FtckYp9qpYDu",
        "colab_type": "code",
        "colab": {
          "base_uri": "https://localhost:8080/",
          "height": 672
        },
        "outputId": "9176898d-cd8a-4616-d690-bdf2122453d1"
      },
      "source": [
        "model.summary()"
      ],
      "execution_count": 47,
      "outputs": [
        {
          "output_type": "stream",
          "text": [
            "Model: \"model_1\"\n",
            "__________________________________________________________________________________________________\n",
            "Layer (type)                    Output Shape         Param #     Connected to                     \n",
            "==================================================================================================\n",
            "input_1 (InputLayer)            (None, 156)          0                                            \n",
            "__________________________________________________________________________________________________\n",
            "input_2 (InputLayer)            (None, 6)            0                                            \n",
            "__________________________________________________________________________________________________\n",
            "sequential_1 (Sequential)       multiple             2432        input_1[0][0]                    \n",
            "__________________________________________________________________________________________________\n",
            "sequential_3 (Sequential)       (None, 6, 64)        2432        input_2[0][0]                    \n",
            "__________________________________________________________________________________________________\n",
            "dot_1 (Dot)                     (None, 156, 6)       0           sequential_1[1][0]               \n",
            "                                                                 sequential_3[1][0]               \n",
            "__________________________________________________________________________________________________\n",
            "activation_1 (Activation)       (None, 156, 6)       0           dot_1[0][0]                      \n",
            "__________________________________________________________________________________________________\n",
            "sequential_2 (Sequential)       multiple             228         input_1[0][0]                    \n",
            "__________________________________________________________________________________________________\n",
            "add_1 (Add)                     (None, 156, 6)       0           activation_1[0][0]               \n",
            "                                                                 sequential_2[1][0]               \n",
            "__________________________________________________________________________________________________\n",
            "permute_1 (Permute)             (None, 6, 156)       0           add_1[0][0]                      \n",
            "__________________________________________________________________________________________________\n",
            "concatenate_1 (Concatenate)     (None, 6, 220)       0           permute_1[0][0]                  \n",
            "                                                                 sequential_3[1][0]               \n",
            "__________________________________________________________________________________________________\n",
            "lstm_1 (LSTM)                   (None, 32)           32384       concatenate_1[0][0]              \n",
            "__________________________________________________________________________________________________\n",
            "dropout_4 (Dropout)             (None, 32)           0           lstm_1[0][0]                     \n",
            "__________________________________________________________________________________________________\n",
            "dense_1 (Dense)                 (None, 38)           1254        dropout_4[0][0]                  \n",
            "__________________________________________________________________________________________________\n",
            "activation_2 (Activation)       (None, 38)           0           dense_1[0][0]                    \n",
            "==================================================================================================\n",
            "Total params: 38,730\n",
            "Trainable params: 38,730\n",
            "Non-trainable params: 0\n",
            "__________________________________________________________________________________________________\n"
          ],
          "name": "stdout"
        }
      ]
    },
    {
      "cell_type": "markdown",
      "metadata": {
        "id": "QUVMf0gzpYDx",
        "colab_type": "text"
      },
      "source": [
        "## Training and testing the model"
      ]
    },
    {
      "cell_type": "code",
      "metadata": {
        "id": "KZSHh7xWpYDy",
        "colab_type": "code",
        "colab": {
          "base_uri": "https://localhost:8080/",
          "height": 1000
        },
        "outputId": "39f3e551-63c7-4884-94c2-fa87d94ea6be"
      },
      "source": [
        "epochs = 100\n",
        "batch_size=32\n",
        "history = model.fit([inputs_train,questions_train],answers_train, batch_size = batch_size, epochs = epochs, validation_data = ([inputs_test,questions_test],answers_test))"
      ],
      "execution_count": 49,
      "outputs": [
        {
          "output_type": "stream",
          "text": [
            "Train on 10000 samples, validate on 1000 samples\n",
            "Epoch 1/100\n",
            "10000/10000 [==============================] - 5s 494us/step - loss: 0.1542 - acc: 0.9418 - val_loss: 0.5475 - val_acc: 0.8300\n",
            "Epoch 2/100\n",
            "10000/10000 [==============================] - 5s 497us/step - loss: 0.1532 - acc: 0.9414 - val_loss: 0.6073 - val_acc: 0.8350\n",
            "Epoch 3/100\n",
            "10000/10000 [==============================] - 5s 504us/step - loss: 0.1462 - acc: 0.9416 - val_loss: 0.6207 - val_acc: 0.8290\n",
            "Epoch 4/100\n",
            "10000/10000 [==============================] - 5s 505us/step - loss: 0.1661 - acc: 0.9411 - val_loss: 0.5781 - val_acc: 0.8260\n",
            "Epoch 5/100\n",
            "10000/10000 [==============================] - 5s 500us/step - loss: 0.1512 - acc: 0.9401 - val_loss: 0.5976 - val_acc: 0.8320\n",
            "Epoch 6/100\n",
            "10000/10000 [==============================] - 5s 500us/step - loss: 0.1461 - acc: 0.9427 - val_loss: 0.6262 - val_acc: 0.8180\n",
            "Epoch 7/100\n",
            "10000/10000 [==============================] - 5s 493us/step - loss: 0.1472 - acc: 0.9410 - val_loss: 0.6666 - val_acc: 0.8340\n",
            "Epoch 8/100\n",
            "10000/10000 [==============================] - 5s 494us/step - loss: 0.1574 - acc: 0.9407 - val_loss: 0.6100 - val_acc: 0.8240\n",
            "Epoch 9/100\n",
            "10000/10000 [==============================] - 5s 494us/step - loss: 0.1409 - acc: 0.9452 - val_loss: 0.6328 - val_acc: 0.8300\n",
            "Epoch 10/100\n",
            "10000/10000 [==============================] - 5s 492us/step - loss: 0.1479 - acc: 0.9433 - val_loss: 0.6076 - val_acc: 0.8220\n",
            "Epoch 11/100\n",
            "10000/10000 [==============================] - 5s 493us/step - loss: 0.1507 - acc: 0.9416 - val_loss: 0.5887 - val_acc: 0.8360\n",
            "Epoch 12/100\n",
            "10000/10000 [==============================] - 5s 498us/step - loss: 0.1490 - acc: 0.9418 - val_loss: 0.6269 - val_acc: 0.8240\n",
            "Epoch 13/100\n",
            "10000/10000 [==============================] - 5s 497us/step - loss: 0.1469 - acc: 0.9421 - val_loss: 0.6318 - val_acc: 0.8350\n",
            "Epoch 14/100\n",
            "10000/10000 [==============================] - 5s 494us/step - loss: 0.1464 - acc: 0.9439 - val_loss: 0.6352 - val_acc: 0.8370\n",
            "Epoch 15/100\n",
            "10000/10000 [==============================] - 5s 490us/step - loss: 0.1585 - acc: 0.9386 - val_loss: 0.5694 - val_acc: 0.8290\n",
            "Epoch 16/100\n",
            "10000/10000 [==============================] - 5s 488us/step - loss: 0.1480 - acc: 0.9453 - val_loss: 0.6397 - val_acc: 0.8250\n",
            "Epoch 17/100\n",
            "10000/10000 [==============================] - 5s 489us/step - loss: 0.1479 - acc: 0.9450 - val_loss: 0.6059 - val_acc: 0.8350\n",
            "Epoch 18/100\n",
            "10000/10000 [==============================] - 5s 500us/step - loss: 0.1368 - acc: 0.9470 - val_loss: 0.6334 - val_acc: 0.8330\n",
            "Epoch 19/100\n",
            "10000/10000 [==============================] - 5s 492us/step - loss: 0.1470 - acc: 0.9449 - val_loss: 0.6205 - val_acc: 0.8280\n",
            "Epoch 20/100\n",
            "10000/10000 [==============================] - 5s 490us/step - loss: 0.1519 - acc: 0.9430 - val_loss: 0.5666 - val_acc: 0.8380\n",
            "Epoch 21/100\n",
            "10000/10000 [==============================] - 5s 496us/step - loss: 0.1435 - acc: 0.9456 - val_loss: 0.6227 - val_acc: 0.8270\n",
            "Epoch 22/100\n",
            "10000/10000 [==============================] - 5s 490us/step - loss: 0.1370 - acc: 0.9471 - val_loss: 0.6356 - val_acc: 0.8310\n",
            "Epoch 23/100\n",
            "10000/10000 [==============================] - 5s 491us/step - loss: 0.1454 - acc: 0.9447 - val_loss: 0.6592 - val_acc: 0.8300\n",
            "Epoch 24/100\n",
            "10000/10000 [==============================] - 5s 492us/step - loss: 0.1488 - acc: 0.9436 - val_loss: 0.5955 - val_acc: 0.8130\n",
            "Epoch 25/100\n",
            "10000/10000 [==============================] - 5s 502us/step - loss: 0.1435 - acc: 0.9447 - val_loss: 0.6193 - val_acc: 0.8210\n",
            "Epoch 26/100\n",
            "10000/10000 [==============================] - 5s 494us/step - loss: 0.1387 - acc: 0.9468 - val_loss: 0.6476 - val_acc: 0.8310\n",
            "Epoch 27/100\n",
            "10000/10000 [==============================] - 5s 492us/step - loss: 0.1465 - acc: 0.9423 - val_loss: 0.6294 - val_acc: 0.8250\n",
            "Epoch 28/100\n",
            "10000/10000 [==============================] - 5s 488us/step - loss: 0.1420 - acc: 0.9474 - val_loss: 0.6467 - val_acc: 0.8320\n",
            "Epoch 29/100\n",
            "10000/10000 [==============================] - 5s 491us/step - loss: 0.1420 - acc: 0.9463 - val_loss: 0.6016 - val_acc: 0.8390\n",
            "Epoch 30/100\n",
            "10000/10000 [==============================] - 5s 488us/step - loss: 0.1399 - acc: 0.9462 - val_loss: 0.5859 - val_acc: 0.8320\n",
            "Epoch 31/100\n",
            "10000/10000 [==============================] - 5s 506us/step - loss: 0.1420 - acc: 0.9454 - val_loss: 0.6523 - val_acc: 0.8350\n",
            "Epoch 32/100\n",
            "10000/10000 [==============================] - 5s 500us/step - loss: 0.1411 - acc: 0.9465 - val_loss: 0.6265 - val_acc: 0.8350\n",
            "Epoch 33/100\n",
            "10000/10000 [==============================] - 5s 493us/step - loss: 0.1387 - acc: 0.9464 - val_loss: 0.6437 - val_acc: 0.8340\n",
            "Epoch 34/100\n",
            "10000/10000 [==============================] - 5s 492us/step - loss: 0.1415 - acc: 0.9438 - val_loss: 0.6396 - val_acc: 0.8260\n",
            "Epoch 35/100\n",
            "10000/10000 [==============================] - 5s 494us/step - loss: 0.1395 - acc: 0.9466 - val_loss: 0.6527 - val_acc: 0.8290\n",
            "Epoch 36/100\n",
            "10000/10000 [==============================] - 5s 490us/step - loss: 0.1428 - acc: 0.9461 - val_loss: 0.6842 - val_acc: 0.8180\n",
            "Epoch 37/100\n",
            "10000/10000 [==============================] - 5s 494us/step - loss: 0.1490 - acc: 0.9466 - val_loss: 0.5792 - val_acc: 0.8320\n",
            "Epoch 38/100\n",
            "10000/10000 [==============================] - 5s 496us/step - loss: 0.1385 - acc: 0.9469 - val_loss: 0.5979 - val_acc: 0.8330\n",
            "Epoch 39/100\n",
            "10000/10000 [==============================] - 5s 488us/step - loss: 0.1449 - acc: 0.9445 - val_loss: 0.6163 - val_acc: 0.8160\n",
            "Epoch 40/100\n",
            "10000/10000 [==============================] - 5s 492us/step - loss: 0.1426 - acc: 0.9458 - val_loss: 0.6648 - val_acc: 0.8330\n",
            "Epoch 41/100\n",
            "10000/10000 [==============================] - 5s 489us/step - loss: 0.1433 - acc: 0.9470 - val_loss: 0.6896 - val_acc: 0.8340\n",
            "Epoch 42/100\n",
            "10000/10000 [==============================] - 5s 493us/step - loss: 0.1341 - acc: 0.9485 - val_loss: 0.6542 - val_acc: 0.8300\n",
            "Epoch 43/100\n",
            "10000/10000 [==============================] - 5s 490us/step - loss: 0.1377 - acc: 0.9467 - val_loss: 0.6607 - val_acc: 0.8280\n",
            "Epoch 44/100\n",
            "10000/10000 [==============================] - 5s 501us/step - loss: 0.1472 - acc: 0.9463 - val_loss: 0.6539 - val_acc: 0.8300\n",
            "Epoch 45/100\n",
            "10000/10000 [==============================] - 5s 490us/step - loss: 0.1373 - acc: 0.9457 - val_loss: 0.6707 - val_acc: 0.8290\n",
            "Epoch 46/100\n",
            "10000/10000 [==============================] - 5s 485us/step - loss: 0.1389 - acc: 0.9483 - val_loss: 0.6613 - val_acc: 0.8210\n",
            "Epoch 47/100\n",
            "10000/10000 [==============================] - 5s 488us/step - loss: 0.1311 - acc: 0.9503 - val_loss: 0.7074 - val_acc: 0.8170\n",
            "Epoch 48/100\n",
            "10000/10000 [==============================] - 5s 497us/step - loss: 0.1464 - acc: 0.9441 - val_loss: 0.7104 - val_acc: 0.8160\n",
            "Epoch 49/100\n",
            "10000/10000 [==============================] - 5s 510us/step - loss: 0.1440 - acc: 0.9449 - val_loss: 0.6873 - val_acc: 0.8310\n",
            "Epoch 50/100\n",
            "10000/10000 [==============================] - 5s 505us/step - loss: 0.1428 - acc: 0.9456 - val_loss: 0.7088 - val_acc: 0.8130\n",
            "Epoch 51/100\n",
            "10000/10000 [==============================] - 5s 491us/step - loss: 0.1444 - acc: 0.9430 - val_loss: 0.6276 - val_acc: 0.8330\n",
            "Epoch 52/100\n",
            "10000/10000 [==============================] - 5s 489us/step - loss: 0.1397 - acc: 0.9481 - val_loss: 0.6703 - val_acc: 0.8380\n",
            "Epoch 53/100\n",
            "10000/10000 [==============================] - 5s 489us/step - loss: 0.1321 - acc: 0.9525 - val_loss: 0.6528 - val_acc: 0.8280\n",
            "Epoch 54/100\n",
            "10000/10000 [==============================] - 5s 489us/step - loss: 0.1390 - acc: 0.9480 - val_loss: 0.6854 - val_acc: 0.8210\n",
            "Epoch 55/100\n",
            "10000/10000 [==============================] - 5s 489us/step - loss: 0.1353 - acc: 0.9469 - val_loss: 0.6895 - val_acc: 0.8190\n",
            "Epoch 56/100\n",
            "10000/10000 [==============================] - 5s 498us/step - loss: 0.1405 - acc: 0.9483 - val_loss: 0.6279 - val_acc: 0.8100\n",
            "Epoch 57/100\n",
            "10000/10000 [==============================] - 5s 508us/step - loss: 0.1325 - acc: 0.9521 - val_loss: 0.7405 - val_acc: 0.8260\n",
            "Epoch 58/100\n",
            "10000/10000 [==============================] - 5s 495us/step - loss: 0.1426 - acc: 0.9463 - val_loss: 0.6388 - val_acc: 0.8150\n",
            "Epoch 59/100\n",
            "10000/10000 [==============================] - 5s 492us/step - loss: 0.1354 - acc: 0.9504 - val_loss: 0.7005 - val_acc: 0.8310\n",
            "Epoch 60/100\n",
            "10000/10000 [==============================] - 5s 492us/step - loss: 0.1305 - acc: 0.9514 - val_loss: 0.6413 - val_acc: 0.8240\n",
            "Epoch 61/100\n",
            "10000/10000 [==============================] - 5s 496us/step - loss: 0.1374 - acc: 0.9494 - val_loss: 0.6882 - val_acc: 0.8200\n",
            "Epoch 62/100\n",
            "10000/10000 [==============================] - 5s 493us/step - loss: 0.1343 - acc: 0.9519 - val_loss: 0.7020 - val_acc: 0.8300\n",
            "Epoch 63/100\n",
            "10000/10000 [==============================] - 5s 495us/step - loss: 0.1367 - acc: 0.9483 - val_loss: 0.7142 - val_acc: 0.8180\n",
            "Epoch 64/100\n",
            "10000/10000 [==============================] - 5s 489us/step - loss: 0.1397 - acc: 0.9473 - val_loss: 0.6935 - val_acc: 0.8280\n",
            "Epoch 65/100\n",
            "10000/10000 [==============================] - 5s 498us/step - loss: 0.1280 - acc: 0.9534 - val_loss: 0.7018 - val_acc: 0.8400\n",
            "Epoch 66/100\n",
            "10000/10000 [==============================] - 5s 494us/step - loss: 0.1353 - acc: 0.9481 - val_loss: 0.6903 - val_acc: 0.8270\n",
            "Epoch 67/100\n",
            "10000/10000 [==============================] - 5s 491us/step - loss: 0.1364 - acc: 0.9496 - val_loss: 0.7429 - val_acc: 0.8310\n",
            "Epoch 68/100\n",
            "10000/10000 [==============================] - 5s 495us/step - loss: 0.1254 - acc: 0.9545 - val_loss: 0.8086 - val_acc: 0.8320\n",
            "Epoch 69/100\n",
            "10000/10000 [==============================] - 5s 498us/step - loss: 0.1321 - acc: 0.9497 - val_loss: 0.6472 - val_acc: 0.8430\n",
            "Epoch 70/100\n",
            "10000/10000 [==============================] - 5s 499us/step - loss: 0.1360 - acc: 0.9489 - val_loss: 0.6490 - val_acc: 0.8270\n",
            "Epoch 71/100\n",
            "10000/10000 [==============================] - 5s 487us/step - loss: 0.1310 - acc: 0.9529 - val_loss: 0.7174 - val_acc: 0.8260\n",
            "Epoch 72/100\n",
            "10000/10000 [==============================] - 5s 487us/step - loss: 0.1386 - acc: 0.9456 - val_loss: 0.6346 - val_acc: 0.8210\n",
            "Epoch 73/100\n",
            "10000/10000 [==============================] - 5s 495us/step - loss: 0.1454 - acc: 0.9479 - val_loss: 0.6079 - val_acc: 0.8240\n",
            "Epoch 74/100\n",
            "10000/10000 [==============================] - 5s 500us/step - loss: 0.1332 - acc: 0.9501 - val_loss: 0.6976 - val_acc: 0.8350\n",
            "Epoch 75/100\n",
            "10000/10000 [==============================] - 5s 497us/step - loss: 0.1255 - acc: 0.9510 - val_loss: 0.7466 - val_acc: 0.8250\n",
            "Epoch 76/100\n",
            "10000/10000 [==============================] - 5s 496us/step - loss: 0.1287 - acc: 0.9519 - val_loss: 0.6824 - val_acc: 0.8290\n",
            "Epoch 77/100\n",
            "10000/10000 [==============================] - 5s 490us/step - loss: 0.1270 - acc: 0.9541 - val_loss: 0.6821 - val_acc: 0.8310\n",
            "Epoch 78/100\n",
            "10000/10000 [==============================] - 5s 495us/step - loss: 0.1230 - acc: 0.9557 - val_loss: 0.6939 - val_acc: 0.8300\n",
            "Epoch 79/100\n",
            "10000/10000 [==============================] - 5s 495us/step - loss: 0.1176 - acc: 0.9556 - val_loss: 0.7125 - val_acc: 0.8270\n",
            "Epoch 80/100\n",
            "10000/10000 [==============================] - 5s 495us/step - loss: 0.1415 - acc: 0.9477 - val_loss: 0.6839 - val_acc: 0.8360\n",
            "Epoch 81/100\n",
            "10000/10000 [==============================] - 5s 492us/step - loss: 0.1283 - acc: 0.9517 - val_loss: 0.7034 - val_acc: 0.8420\n",
            "Epoch 82/100\n",
            "10000/10000 [==============================] - 5s 501us/step - loss: 0.1268 - acc: 0.9517 - val_loss: 0.7125 - val_acc: 0.8330\n",
            "Epoch 83/100\n",
            "10000/10000 [==============================] - 5s 493us/step - loss: 0.1258 - acc: 0.9526 - val_loss: 0.6421 - val_acc: 0.8250\n",
            "Epoch 84/100\n",
            "10000/10000 [==============================] - 5s 486us/step - loss: 0.1259 - acc: 0.9517 - val_loss: 0.7105 - val_acc: 0.8330\n",
            "Epoch 85/100\n",
            "10000/10000 [==============================] - 5s 491us/step - loss: 0.1241 - acc: 0.9545 - val_loss: 0.6861 - val_acc: 0.8270\n",
            "Epoch 86/100\n",
            "10000/10000 [==============================] - 5s 493us/step - loss: 0.1283 - acc: 0.9538 - val_loss: 0.6387 - val_acc: 0.8310\n",
            "Epoch 87/100\n",
            "10000/10000 [==============================] - 5s 492us/step - loss: 0.1265 - acc: 0.9516 - val_loss: 0.7191 - val_acc: 0.8400\n",
            "Epoch 88/100\n",
            "10000/10000 [==============================] - 5s 494us/step - loss: 0.1246 - acc: 0.9530 - val_loss: 0.6775 - val_acc: 0.8330\n",
            "Epoch 89/100\n",
            "10000/10000 [==============================] - 5s 494us/step - loss: 0.1336 - acc: 0.9515 - val_loss: 0.6277 - val_acc: 0.8210\n",
            "Epoch 90/100\n",
            "10000/10000 [==============================] - 5s 494us/step - loss: 0.1276 - acc: 0.9519 - val_loss: 0.6789 - val_acc: 0.8260\n",
            "Epoch 91/100\n",
            "10000/10000 [==============================] - 5s 492us/step - loss: 0.1257 - acc: 0.9534 - val_loss: 0.6849 - val_acc: 0.8260\n",
            "Epoch 92/100\n",
            "10000/10000 [==============================] - 5s 493us/step - loss: 0.1233 - acc: 0.9538 - val_loss: 0.6764 - val_acc: 0.8330\n",
            "Epoch 93/100\n",
            "10000/10000 [==============================] - 5s 492us/step - loss: 0.1237 - acc: 0.9558 - val_loss: 0.6602 - val_acc: 0.8300\n",
            "Epoch 94/100\n",
            "10000/10000 [==============================] - 5s 496us/step - loss: 0.1301 - acc: 0.9528 - val_loss: 0.6933 - val_acc: 0.8240\n",
            "Epoch 95/100\n",
            "10000/10000 [==============================] - 5s 499us/step - loss: 0.1199 - acc: 0.9540 - val_loss: 0.6773 - val_acc: 0.8350\n",
            "Epoch 96/100\n",
            "10000/10000 [==============================] - 5s 494us/step - loss: 0.1308 - acc: 0.9507 - val_loss: 0.7061 - val_acc: 0.8400\n",
            "Epoch 97/100\n",
            "10000/10000 [==============================] - 5s 490us/step - loss: 0.1309 - acc: 0.9528 - val_loss: 0.6731 - val_acc: 0.8380\n",
            "Epoch 98/100\n",
            "10000/10000 [==============================] - 5s 492us/step - loss: 0.1206 - acc: 0.9560 - val_loss: 0.6542 - val_acc: 0.8260\n",
            "Epoch 99/100\n",
            "10000/10000 [==============================] - 5s 495us/step - loss: 0.1202 - acc: 0.9553 - val_loss: 0.7812 - val_acc: 0.8290\n",
            "Epoch 100/100\n",
            "10000/10000 [==============================] - 5s 494us/step - loss: 0.1231 - acc: 0.9527 - val_loss: 0.6800 - val_acc: 0.8390\n"
          ],
          "name": "stdout"
        }
      ]
    },
    {
      "cell_type": "code",
      "metadata": {
        "id": "4KwR9lW8pYD2",
        "colab_type": "code",
        "colab": {}
      },
      "source": [
        "filename = 'babi_chatbot_100_epochs.h5'\n",
        "model.save(filename)"
      ],
      "execution_count": 0,
      "outputs": []
    },
    {
      "cell_type": "code",
      "metadata": {
        "id": "dcTxaCN9pYD5",
        "colab_type": "code",
        "colab": {
          "base_uri": "https://localhost:8080/",
          "height": 747
        },
        "outputId": "f394555c-46b3-4004-a053-631ccff5bde4"
      },
      "source": [
        "#Lets plot the increase of accuracy as we increase the number of training epochs\n",
        "#We can see that without any training the acc is about 50%, random guessing\n",
        "import matplotlib.pyplot as plt\n",
        "%matplotlib inline\n",
        "print(history.history.keys())\n",
        "# summarize history for accuracy\n",
        "plt.figure(figsize=(12,12))\n",
        "plt.plot(history.history['acc'])\n",
        "plt.plot(history.history['val_acc'])\n",
        "plt.title('model accuracy')\n",
        "plt.ylabel('accuracy')\n",
        "plt.xlabel('epoch')\n",
        "plt.legend(['train', 'test'], loc='upper left')\n",
        "plt.show()"
      ],
      "execution_count": 52,
      "outputs": [
        {
          "output_type": "stream",
          "text": [
            "dict_keys(['val_loss', 'val_acc', 'loss', 'acc'])\n"
          ],
          "name": "stdout"
        },
        {
          "output_type": "display_data",
          "data": {
            "image/png": "[encoded data removed]",
            "text/plain": [
              "<Figure size 864x864 with 1 Axes>"
            ]
          },
          "metadata": {
            "tags": []
          }
        }
      ]
    },
    {
      "cell_type": "code",
      "metadata": {
        "id": "oAT3yBX3pYD8",
        "colab_type": "code",
        "colab": {}
      },
      "source": [
        "#To load a model that we have already trained and saved:\n",
        "model.load_weights('babi_chatbot_100_epochs.h5')"
      ],
      "execution_count": 0,
      "outputs": []
    },
    {
      "cell_type": "code",
      "metadata": {
        "id": "KRT0l8N7pYD_",
        "colab_type": "code",
        "colab": {}
      },
      "source": [
        "#Lets check out the predictions on the test set:\n",
        "#These are just probabilities for every single word on the vocab\n",
        "pred_results = model.predict(([inputs_test,questions_test]))"
      ],
      "execution_count": 0,
      "outputs": []
    },
    {
      "cell_type": "code",
      "metadata": {
        "id": "7HArXsHPpYEB",
        "colab_type": "code",
        "colab": {
          "base_uri": "https://localhost:8080/",
          "height": 252
        },
        "outputId": "89815f4b-e312-4ec9-e1f5-c73fb1dc354c"
      },
      "source": [
        "#First test data point\n",
        "test_data[0]"
      ],
      "execution_count": 56,
      "outputs": [
        {
          "output_type": "execute_result",
          "data": {
            "text/plain": [
              "(['Mary',\n",
              "  'got',\n",
              "  'the',\n",
              "  'milk',\n",
              "  'there',\n",
              "  '.',\n",
              "  'John',\n",
              "  'moved',\n",
              "  'to',\n",
              "  'the',\n",
              "  'bedroom',\n",
              "  '.'],\n",
              " ['Is', 'John', 'in', 'the', 'kitchen', '?'],\n",
              " 'no')"
            ]
          },
          "metadata": {
            "tags": []
          },
          "execution_count": 56
        }
      ]
    },
    {
      "cell_type": "code",
      "metadata": {
        "id": "vTbEGy-4pYED",
        "colab_type": "code",
        "colab": {
          "base_uri": "https://localhost:8080/",
          "height": 185
        },
        "outputId": "ab14d33e-ea5f-4afd-b523-41a4b16ed917"
      },
      "source": [
        "#These are the probabilities for the vocab words using the 1st sentence\n",
        "pred_results[0]"
      ],
      "execution_count": 57,
      "outputs": [
        {
          "output_type": "execute_result",
          "data": {
            "text/plain": [
              "array([1.1328588e-15, 1.2018896e-15, 1.1673357e-15, 1.2232640e-15,\n",
              "       1.1669751e-15, 1.0534539e-15, 1.1862072e-15, 1.0640031e-15,\n",
              "       1.0211595e-15, 1.2291250e-15, 1.0454553e-15, 9.8956053e-16,\n",
              "       9.8351282e-16, 1.1794391e-15, 9.6677005e-16, 1.1039008e-15,\n",
              "       1.3224368e-15, 9.9999988e-01, 1.3320667e-15, 1.0951932e-15,\n",
              "       1.2167160e-15, 1.2899264e-15, 9.7442321e-16, 1.1015957e-15,\n",
              "       1.2587866e-15, 9.5938965e-08, 1.0964138e-15, 1.0948257e-15,\n",
              "       1.1106253e-15, 1.3004848e-15, 1.2423759e-15, 1.1828770e-15,\n",
              "       1.0806226e-15, 1.2093954e-15, 1.1766080e-15, 1.1644138e-15,\n",
              "       1.1690872e-15, 1.2673002e-15], dtype=float32)"
            ]
          },
          "metadata": {
            "tags": []
          },
          "execution_count": 57
        }
      ]
    },
    {
      "cell_type": "code",
      "metadata": {
        "id": "MKZ8w4WEpYEF",
        "colab_type": "code",
        "colab": {}
      },
      "source": [
        "val_max = np.argmax(pred_results[0])"
      ],
      "execution_count": 0,
      "outputs": []
    },
    {
      "cell_type": "code",
      "metadata": {
        "id": "UFhvg5kspYEH",
        "colab_type": "code",
        "colab": {
          "base_uri": "https://localhost:8080/",
          "height": 34
        },
        "outputId": "30d00889-3c48-4c33-ffe9-2ea322813412"
      },
      "source": [
        "for key,val in tokenizer.word_index.items():\n",
        "    if val == val_max:\n",
        "        k = key\n",
        "print(k)"
      ],
      "execution_count": 59,
      "outputs": [
        {
          "output_type": "stream",
          "text": [
            "no\n"
          ],
          "name": "stdout"
        }
      ]
    },
    {
      "cell_type": "code",
      "metadata": {
        "id": "FZzIV4DfpYEI",
        "colab_type": "code",
        "colab": {
          "base_uri": "https://localhost:8080/",
          "height": 34
        },
        "outputId": "5ba53fce-4e5a-4e30-a5ea-42c7a22e37f6"
      },
      "source": [
        "#See probability:\n",
        "pred_results[0][val_max]"
      ],
      "execution_count": 60,
      "outputs": [
        {
          "output_type": "execute_result",
          "data": {
            "text/plain": [
              "0.9999999"
            ]
          },
          "metadata": {
            "tags": []
          },
          "execution_count": 60
        }
      ]
    },
    {
      "cell_type": "code",
      "metadata": {
        "id": "7iqZTE7CpYEK",
        "colab_type": "code",
        "colab": {
          "base_uri": "https://localhost:8080/",
          "height": 638
        },
        "outputId": "be7777f0-c811-4592-f3a9-692db6462b32"
      },
      "source": [
        "#Now, we can make our own questions using the vocabulary we have\n",
        "vocab"
      ],
      "execution_count": 61,
      "outputs": [
        {
          "output_type": "execute_result",
          "data": {
            "text/plain": [
              "{'.',\n",
              " '?',\n",
              " 'Daniel',\n",
              " 'Is',\n",
              " 'John',\n",
              " 'Mary',\n",
              " 'Sandra',\n",
              " 'apple',\n",
              " 'back',\n",
              " 'bathroom',\n",
              " 'bedroom',\n",
              " 'discarded',\n",
              " 'down',\n",
              " 'dropped',\n",
              " 'football',\n",
              " 'garden',\n",
              " 'got',\n",
              " 'grabbed',\n",
              " 'hallway',\n",
              " 'in',\n",
              " 'journeyed',\n",
              " 'kitchen',\n",
              " 'left',\n",
              " 'milk',\n",
              " 'moved',\n",
              " 'no',\n",
              " 'office',\n",
              " 'picked',\n",
              " 'put',\n",
              " 'the',\n",
              " 'there',\n",
              " 'to',\n",
              " 'took',\n",
              " 'travelled',\n",
              " 'up',\n",
              " 'went',\n",
              " 'yes'}"
            ]
          },
          "metadata": {
            "tags": []
          },
          "execution_count": 61
        }
      ]
    },
    {
      "cell_type": "code",
      "metadata": {
        "id": "09HhkmZjpYEM",
        "colab_type": "code",
        "colab": {}
      },
      "source": [
        "my_story = 'Sandra picked up the milk . Mary travelled left . '"
      ],
      "execution_count": 0,
      "outputs": []
    },
    {
      "cell_type": "code",
      "metadata": {
        "id": "MKeXDte6pYEN",
        "colab_type": "code",
        "colab": {
          "base_uri": "https://localhost:8080/",
          "height": 185
        },
        "outputId": "5b3f9bf8-3e48-4092-fb4b-ac63bebe3d73"
      },
      "source": [
        "my_story.split()"
      ],
      "execution_count": 63,
      "outputs": [
        {
          "output_type": "execute_result",
          "data": {
            "text/plain": [
              "['Sandra',\n",
              " 'picked',\n",
              " 'up',\n",
              " 'the',\n",
              " 'milk',\n",
              " '.',\n",
              " 'Mary',\n",
              " 'travelled',\n",
              " 'left',\n",
              " '.']"
            ]
          },
          "metadata": {
            "tags": []
          },
          "execution_count": 63
        }
      ]
    },
    {
      "cell_type": "code",
      "metadata": {
        "id": "BEZRbQCWpYEQ",
        "colab_type": "code",
        "colab": {}
      },
      "source": [
        "my_question = 'Sandra got the milk ?'"
      ],
      "execution_count": 0,
      "outputs": []
    },
    {
      "cell_type": "code",
      "metadata": {
        "id": "ODhAqvp7pYET",
        "colab_type": "code",
        "colab": {
          "base_uri": "https://localhost:8080/",
          "height": 34
        },
        "outputId": "fa46ea4a-29ed-4ad6-fb88-180626ef8187"
      },
      "source": [
        "my_question.split()"
      ],
      "execution_count": 65,
      "outputs": [
        {
          "output_type": "execute_result",
          "data": {
            "text/plain": [
              "['Sandra', 'got', 'the', 'milk', '?']"
            ]
          },
          "metadata": {
            "tags": []
          },
          "execution_count": 65
        }
      ]
    },
    {
      "cell_type": "code",
      "metadata": {
        "id": "qixE-2GhpYEU",
        "colab_type": "code",
        "colab": {}
      },
      "source": [
        "#Put the data in the same format as before\n",
        "my_data = [(my_story.split(), my_question.split(),'yes')]"
      ],
      "execution_count": 0,
      "outputs": []
    },
    {
      "cell_type": "code",
      "metadata": {
        "id": "8mI0jTX0pYEX",
        "colab_type": "code",
        "colab": {}
      },
      "source": [
        "#Vectorize this data\n",
        "my_story, my_ques, my_ans = vectorize_stories(my_data)"
      ],
      "execution_count": 0,
      "outputs": []
    },
    {
      "cell_type": "code",
      "metadata": {
        "id": "9gegNn-4pYEa",
        "colab_type": "code",
        "colab": {}
      },
      "source": [
        "#Make the prediction\n",
        "pred_results = model.predict(([my_story,my_ques]))"
      ],
      "execution_count": 0,
      "outputs": []
    },
    {
      "cell_type": "code",
      "metadata": {
        "id": "uTOWCcVrpYEc",
        "colab_type": "code",
        "colab": {}
      },
      "source": [
        "val_max = np.argmax(pred_results[0])"
      ],
      "execution_count": 0,
      "outputs": []
    },
    {
      "cell_type": "code",
      "metadata": {
        "id": "P7eoxM0zpYEe",
        "colab_type": "code",
        "colab": {
          "base_uri": "https://localhost:8080/",
          "height": 34
        },
        "outputId": "56b031c0-d219-4acb-c242-43f875ce4006"
      },
      "source": [
        "#Correct prediction!\n",
        "for key,val in tokenizer.word_index.items():\n",
        "    if val == val_max:\n",
        "        k = key\n",
        "print(k)"
      ],
      "execution_count": 70,
      "outputs": [
        {
          "output_type": "stream",
          "text": [
            "yes\n"
          ],
          "name": "stdout"
        }
      ]
    },
    {
      "cell_type": "code",
      "metadata": {
        "id": "E44Uwm5upYEi",
        "colab_type": "code",
        "colab": {
          "base_uri": "https://localhost:8080/",
          "height": 34
        },
        "outputId": "dd715808-0628-4cf9-86aa-15e8bbbaf8ad"
      },
      "source": [
        "#Confidence\n",
        "pred_results[0][val_max]"
      ],
      "execution_count": 71,
      "outputs": [
        {
          "output_type": "execute_result",
          "data": {
            "text/plain": [
              "0.835029"
            ]
          },
          "metadata": {
            "tags": []
          },
          "execution_count": 71
        }
      ]
    }
  ]
}