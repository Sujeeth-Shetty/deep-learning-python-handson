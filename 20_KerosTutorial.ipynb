{
  "nbformat": 4,
  "nbformat_minor": 0,
  "metadata": {
    "colab": {
      "name": "KerosTutorial.ipynb",
      "provenance": [],
      "collapsed_sections": []
    },
    "kernelspec": {
      "name": "python3",
      "display_name": "Python 3"
    }
  },
  "cells": [
    {
      "cell_type": "code",
      "metadata": {
        "id": "qru5BWRG20Za",
        "colab_type": "code",
        "colab": {
          "base_uri": "https://localhost:8080/",
          "height": 79
        },
        "outputId": "ba910843-56ba-422c-b246-36df62addca2"
      },
      "source": [
        "import keras"
      ],
      "execution_count": 1,
      "outputs": [
        {
          "output_type": "stream",
          "text": [
            "Using TensorFlow backend.\n"
          ],
          "name": "stderr"
        },
        {
          "output_type": "display_data",
          "data": {
            "text/html": [
              "<p style=\"color: red;\">\n",
              "The default version of TensorFlow in Colab will soon switch to TensorFlow 2.x.<br>\n",
              "We recommend you <a href=\"https://www.tensorflow.org/guide/migrate\" target=\"_blank\">upgrade</a> now \n",
              "or ensure your notebook will continue to use TensorFlow 1.x via the <code>%tensorflow_version 1.x</code> magic:\n",
              "<a href=\"https://colab.research.google.com/notebooks/tensorflow_version.ipynb\" target=\"_blank\">more info</a>.</p>\n"
            ],
            "text/plain": [
              "<IPython.core.display.HTML object>"
            ]
          },
          "metadata": {
            "tags": []
          }
        }
      ]
    },
    {
      "cell_type": "code",
      "metadata": {
        "id": "VAZxWYSY3rpI",
        "colab_type": "code",
        "colab": {
          "base_uri": "https://localhost:8080/",
          "height": 34
        },
        "outputId": "4fdfff02-a8c9-43cf-eed8-e2e70116f84d"
      },
      "source": [
        "keras.__version__\n"
      ],
      "execution_count": 2,
      "outputs": [
        {
          "output_type": "execute_result",
          "data": {
            "text/plain": [
              "'2.2.5'"
            ]
          },
          "metadata": {
            "tags": []
          },
          "execution_count": 2
        }
      ]
    },
    {
      "cell_type": "code",
      "metadata": {
        "id": "Gkkh_QuE3wph",
        "colab_type": "code",
        "colab": {}
      },
      "source": [
        "from keras.datasets import mnist"
      ],
      "execution_count": 0,
      "outputs": []
    },
    {
      "cell_type": "code",
      "metadata": {
        "id": "kr4zsxaH4K_S",
        "colab_type": "code",
        "colab": {}
      },
      "source": [
        "(train_images, train_labels), (test_images, test_labels) = mnist.load_data()"
      ],
      "execution_count": 0,
      "outputs": []
    },
    {
      "cell_type": "code",
      "metadata": {
        "id": "70ggSRT54OKn",
        "colab_type": "code",
        "colab": {
          "base_uri": "https://localhost:8080/",
          "height": 34
        },
        "outputId": "474acb47-74f9-46e5-d925-4b3bcacf721c"
      },
      "source": [
        "train_images.shape"
      ],
      "execution_count": 5,
      "outputs": [
        {
          "output_type": "execute_result",
          "data": {
            "text/plain": [
              "(60000, 28, 28)"
            ]
          },
          "metadata": {
            "tags": []
          },
          "execution_count": 5
        }
      ]
    },
    {
      "cell_type": "code",
      "metadata": {
        "id": "VpxB4ExK4iUR",
        "colab_type": "code",
        "colab": {
          "base_uri": "https://localhost:8080/",
          "height": 34
        },
        "outputId": "0493b2f7-a6b9-410b-8555-fd843350fcac"
      },
      "source": [
        "len(train_labels)"
      ],
      "execution_count": 6,
      "outputs": [
        {
          "output_type": "execute_result",
          "data": {
            "text/plain": [
              "60000"
            ]
          },
          "metadata": {
            "tags": []
          },
          "execution_count": 6
        }
      ]
    },
    {
      "cell_type": "code",
      "metadata": {
        "id": "T7UnWvvg4qCh",
        "colab_type": "code",
        "colab": {
          "base_uri": "https://localhost:8080/",
          "height": 34
        },
        "outputId": "eea7898f-8912-407f-ddc2-7971b8208a67"
      },
      "source": [
        "train_labels"
      ],
      "execution_count": 7,
      "outputs": [
        {
          "output_type": "execute_result",
          "data": {
            "text/plain": [
              "array([5, 0, 4, ..., 5, 6, 8], dtype=uint8)"
            ]
          },
          "metadata": {
            "tags": []
          },
          "execution_count": 7
        }
      ]
    },
    {
      "cell_type": "code",
      "metadata": {
        "id": "CaEVHk0m46iG",
        "colab_type": "code",
        "colab": {
          "base_uri": "https://localhost:8080/",
          "height": 34
        },
        "outputId": "1e1ffd64-46ce-4cfb-98a7-a1d35f4e7f35"
      },
      "source": [
        "test_images.shape"
      ],
      "execution_count": 8,
      "outputs": [
        {
          "output_type": "execute_result",
          "data": {
            "text/plain": [
              "(10000, 28, 28)"
            ]
          },
          "metadata": {
            "tags": []
          },
          "execution_count": 8
        }
      ]
    },
    {
      "cell_type": "code",
      "metadata": {
        "id": "B7nKOQV347K0",
        "colab_type": "code",
        "colab": {
          "base_uri": "https://localhost:8080/",
          "height": 34
        },
        "outputId": "07a6da8c-c2af-43ef-db27-fd7667394419"
      },
      "source": [
        "len(test_labels)"
      ],
      "execution_count": 9,
      "outputs": [
        {
          "output_type": "execute_result",
          "data": {
            "text/plain": [
              "10000"
            ]
          },
          "metadata": {
            "tags": []
          },
          "execution_count": 9
        }
      ]
    },
    {
      "cell_type": "code",
      "metadata": {
        "id": "Hg9dkfNp4_gH",
        "colab_type": "code",
        "colab": {}
      },
      "source": [
        "from keras import models\n",
        "from keras import layers"
      ],
      "execution_count": 0,
      "outputs": []
    },
    {
      "cell_type": "code",
      "metadata": {
        "id": "pNfeesBm5GKl",
        "colab_type": "code",
        "colab": {
          "base_uri": "https://localhost:8080/",
          "height": 138
        },
        "outputId": "c722a098-3a8f-4b3f-bccc-413f680dab29"
      },
      "source": [
        "#build the network\n",
        "network = models.Sequential()\n",
        "network.add(layers.Dense(512, activation='relu', input_shape=(28*28,)))\n",
        "network.add(layers.Dense(10,activation='softmax'))"
      ],
      "execution_count": 11,
      "outputs": [
        {
          "output_type": "stream",
          "text": [
            "WARNING:tensorflow:From /usr/local/lib/python3.6/dist-packages/keras/backend/tensorflow_backend.py:66: The name tf.get_default_graph is deprecated. Please use tf.compat.v1.get_default_graph instead.\n",
            "\n",
            "WARNING:tensorflow:From /usr/local/lib/python3.6/dist-packages/keras/backend/tensorflow_backend.py:541: The name tf.placeholder is deprecated. Please use tf.compat.v1.placeholder instead.\n",
            "\n",
            "WARNING:tensorflow:From /usr/local/lib/python3.6/dist-packages/keras/backend/tensorflow_backend.py:4432: The name tf.random_uniform is deprecated. Please use tf.random.uniform instead.\n",
            "\n"
          ],
          "name": "stdout"
        }
      ]
    },
    {
      "cell_type": "code",
      "metadata": {
        "id": "nqmIsk_95ctY",
        "colab_type": "code",
        "colab": {
          "base_uri": "https://localhost:8080/",
          "height": 84
        },
        "outputId": "f9040607-d331-4c77-efe2-8b936a183a09"
      },
      "source": [
        "#compile\n",
        "network.compile(optimizer='rmsprop', loss='categorical_crossentropy', metrics = ['accuracy'])"
      ],
      "execution_count": 12,
      "outputs": [
        {
          "output_type": "stream",
          "text": [
            "WARNING:tensorflow:From /usr/local/lib/python3.6/dist-packages/keras/optimizers.py:793: The name tf.train.Optimizer is deprecated. Please use tf.compat.v1.train.Optimizer instead.\n",
            "\n",
            "WARNING:tensorflow:From /usr/local/lib/python3.6/dist-packages/keras/backend/tensorflow_backend.py:3576: The name tf.log is deprecated. Please use tf.math.log instead.\n",
            "\n"
          ],
          "name": "stdout"
        }
      ]
    },
    {
      "cell_type": "code",
      "metadata": {
        "id": "PZG-8T_l5z71",
        "colab_type": "code",
        "colab": {}
      },
      "source": [
        "#reshape and rescale\n",
        "train_images= train_images.reshape(60000,784)\n",
        "train_images= train_images.astype('float32')/255\n",
        "\n",
        "test_images=test_images.reshape(10000,784)\n",
        "test_images=test_images.astype('float32')/255"
      ],
      "execution_count": 0,
      "outputs": []
    },
    {
      "cell_type": "code",
      "metadata": {
        "id": "BKe_Gfup6PNT",
        "colab_type": "code",
        "colab": {}
      },
      "source": [
        "from keras.utils import to_categorical"
      ],
      "execution_count": 0,
      "outputs": []
    },
    {
      "cell_type": "code",
      "metadata": {
        "id": "orRt_QJ46T6h",
        "colab_type": "code",
        "colab": {}
      },
      "source": [
        "train_labels= to_categorical(train_labels)\n",
        "test_labels=to_categorical(test_labels)"
      ],
      "execution_count": 0,
      "outputs": []
    },
    {
      "cell_type": "code",
      "metadata": {
        "id": "PduteXgQ6gSP",
        "colab_type": "code",
        "colab": {
          "base_uri": "https://localhost:8080/",
          "height": 1000
        },
        "outputId": "02c12390-c963-4ba0-bff9-cd04da9505d0"
      },
      "source": [
        "#fit the model\n",
        "network.fit(train_images, train_labels, epochs=100, batch_size=256, verbose=1)"
      ],
      "execution_count": 16,
      "outputs": [
        {
          "output_type": "stream",
          "text": [
            "WARNING:tensorflow:From /usr/local/lib/python3.6/dist-packages/tensorflow_core/python/ops/math_grad.py:1424: where (from tensorflow.python.ops.array_ops) is deprecated and will be removed in a future version.\n",
            "Instructions for updating:\n",
            "Use tf.where in 2.0, which has the same broadcast rule as np.where\n",
            "WARNING:tensorflow:From /usr/local/lib/python3.6/dist-packages/keras/backend/tensorflow_backend.py:1033: The name tf.assign_add is deprecated. Please use tf.compat.v1.assign_add instead.\n",
            "\n",
            "WARNING:tensorflow:From /usr/local/lib/python3.6/dist-packages/keras/backend/tensorflow_backend.py:1020: The name tf.assign is deprecated. Please use tf.compat.v1.assign instead.\n",
            "\n",
            "WARNING:tensorflow:From /usr/local/lib/python3.6/dist-packages/keras/backend/tensorflow_backend.py:3005: The name tf.Session is deprecated. Please use tf.compat.v1.Session instead.\n",
            "\n",
            "Epoch 1/100\n",
            "WARNING:tensorflow:From /usr/local/lib/python3.6/dist-packages/keras/backend/tensorflow_backend.py:190: The name tf.get_default_session is deprecated. Please use tf.compat.v1.get_default_session instead.\n",
            "\n",
            "WARNING:tensorflow:From /usr/local/lib/python3.6/dist-packages/keras/backend/tensorflow_backend.py:197: The name tf.ConfigProto is deprecated. Please use tf.compat.v1.ConfigProto instead.\n",
            "\n",
            "WARNING:tensorflow:From /usr/local/lib/python3.6/dist-packages/keras/backend/tensorflow_backend.py:207: The name tf.global_variables is deprecated. Please use tf.compat.v1.global_variables instead.\n",
            "\n",
            "WARNING:tensorflow:From /usr/local/lib/python3.6/dist-packages/keras/backend/tensorflow_backend.py:216: The name tf.is_variable_initialized is deprecated. Please use tf.compat.v1.is_variable_initialized instead.\n",
            "\n",
            "WARNING:tensorflow:From /usr/local/lib/python3.6/dist-packages/keras/backend/tensorflow_backend.py:223: The name tf.variables_initializer is deprecated. Please use tf.compat.v1.variables_initializer instead.\n",
            "\n",
            "60000/60000 [==============================] - 4s 65us/step - loss: 0.3079 - acc: 0.9123\n",
            "Epoch 2/100\n",
            "60000/60000 [==============================] - 3s 57us/step - loss: 0.1300 - acc: 0.9614\n",
            "Epoch 3/100\n",
            "60000/60000 [==============================] - 3s 57us/step - loss: 0.0867 - acc: 0.9746\n",
            "Epoch 4/100\n",
            "60000/60000 [==============================] - 4s 59us/step - loss: 0.0627 - acc: 0.9816\n",
            "Epoch 5/100\n",
            "60000/60000 [==============================] - 3s 58us/step - loss: 0.0483 - acc: 0.9855\n",
            "Epoch 6/100\n",
            "60000/60000 [==============================] - 3s 56us/step - loss: 0.0374 - acc: 0.9890\n",
            "Epoch 7/100\n",
            "60000/60000 [==============================] - 3s 58us/step - loss: 0.0288 - acc: 0.9919\n",
            "Epoch 8/100\n",
            "60000/60000 [==============================] - 4s 59us/step - loss: 0.0233 - acc: 0.9933\n",
            "Epoch 9/100\n",
            "60000/60000 [==============================] - 3s 58us/step - loss: 0.0178 - acc: 0.9951\n",
            "Epoch 10/100\n",
            "60000/60000 [==============================] - 3s 58us/step - loss: 0.0140 - acc: 0.9965\n",
            "Epoch 11/100\n",
            "60000/60000 [==============================] - 4s 60us/step - loss: 0.0110 - acc: 0.9974\n",
            "Epoch 12/100\n",
            "60000/60000 [==============================] - 3s 58us/step - loss: 0.0089 - acc: 0.9977\n",
            "Epoch 13/100\n",
            "60000/60000 [==============================] - 3s 58us/step - loss: 0.0068 - acc: 0.9986\n",
            "Epoch 14/100\n",
            "60000/60000 [==============================] - 4s 59us/step - loss: 0.0057 - acc: 0.9988\n",
            "Epoch 15/100\n",
            "60000/60000 [==============================] - 3s 57us/step - loss: 0.0045 - acc: 0.9990\n",
            "Epoch 16/100\n",
            "60000/60000 [==============================] - 3s 57us/step - loss: 0.0037 - acc: 0.9992\n",
            "Epoch 17/100\n",
            "60000/60000 [==============================] - 4s 59us/step - loss: 0.0028 - acc: 0.9995\n",
            "Epoch 18/100\n",
            "60000/60000 [==============================] - 4s 59us/step - loss: 0.0022 - acc: 0.9996\n",
            "Epoch 19/100\n",
            "60000/60000 [==============================] - 3s 58us/step - loss: 0.0019 - acc: 0.9996\n",
            "Epoch 20/100\n",
            "60000/60000 [==============================] - 4s 59us/step - loss: 0.0019 - acc: 0.9996\n",
            "Epoch 21/100\n",
            "60000/60000 [==============================] - 3s 57us/step - loss: 0.0013 - acc: 0.9998\n",
            "Epoch 22/100\n",
            "60000/60000 [==============================] - 4s 58us/step - loss: 0.0013 - acc: 0.9998\n",
            "Epoch 23/100\n",
            "60000/60000 [==============================] - 4s 60us/step - loss: 8.3074e-04 - acc: 0.9999\n",
            "Epoch 24/100\n",
            "60000/60000 [==============================] - 4s 60us/step - loss: 8.3776e-04 - acc: 0.9999\n",
            "Epoch 25/100\n",
            "60000/60000 [==============================] - 4s 61us/step - loss: 7.5446e-04 - acc: 0.9999\n",
            "Epoch 26/100\n",
            "60000/60000 [==============================] - 4s 59us/step - loss: 6.8185e-04 - acc: 0.9999\n",
            "Epoch 27/100\n",
            "60000/60000 [==============================] - 3s 58us/step - loss: 7.3197e-04 - acc: 0.9999\n",
            "Epoch 28/100\n",
            "60000/60000 [==============================] - 4s 60us/step - loss: 6.0696e-04 - acc: 0.9999\n",
            "Epoch 29/100\n",
            "60000/60000 [==============================] - 4s 60us/step - loss: 5.6163e-04 - acc: 0.9999\n",
            "Epoch 30/100\n",
            "60000/60000 [==============================] - 4s 60us/step - loss: 4.7119e-04 - acc: 1.0000\n",
            "Epoch 31/100\n",
            "60000/60000 [==============================] - 4s 61us/step - loss: 6.0806e-04 - acc: 0.9999\n",
            "Epoch 32/100\n",
            "60000/60000 [==============================] - 4s 59us/step - loss: 4.0951e-04 - acc: 1.0000\n",
            "Epoch 33/100\n",
            "60000/60000 [==============================] - 4s 61us/step - loss: 4.3225e-04 - acc: 1.0000\n",
            "Epoch 34/100\n",
            "60000/60000 [==============================] - 4s 60us/step - loss: 4.6850e-04 - acc: 0.9999\n",
            "Epoch 35/100\n",
            "60000/60000 [==============================] - 4s 60us/step - loss: 4.2427e-04 - acc: 1.0000\n",
            "Epoch 36/100\n",
            "60000/60000 [==============================] - 4s 59us/step - loss: 3.1722e-04 - acc: 1.0000\n",
            "Epoch 37/100\n",
            "60000/60000 [==============================] - 4s 59us/step - loss: 3.4822e-04 - acc: 1.0000\n",
            "Epoch 38/100\n",
            "60000/60000 [==============================] - 3s 58us/step - loss: 3.6429e-04 - acc: 1.0000\n",
            "Epoch 39/100\n",
            "60000/60000 [==============================] - 3s 58us/step - loss: 3.0357e-04 - acc: 1.0000\n",
            "Epoch 40/100\n",
            "60000/60000 [==============================] - 3s 58us/step - loss: 2.8791e-04 - acc: 1.0000\n",
            "Epoch 41/100\n",
            "60000/60000 [==============================] - 4s 60us/step - loss: 3.2736e-04 - acc: 1.0000\n",
            "Epoch 42/100\n",
            "60000/60000 [==============================] - 4s 60us/step - loss: 2.9316e-04 - acc: 1.0000\n",
            "Epoch 43/100\n",
            "60000/60000 [==============================] - 4s 60us/step - loss: 2.8403e-04 - acc: 1.0000\n",
            "Epoch 44/100\n",
            "60000/60000 [==============================] - 3s 58us/step - loss: 3.6939e-04 - acc: 1.0000\n",
            "Epoch 45/100\n",
            "60000/60000 [==============================] - 4s 59us/step - loss: 2.8035e-04 - acc: 1.0000\n",
            "Epoch 46/100\n",
            "60000/60000 [==============================] - 4s 60us/step - loss: 2.7463e-04 - acc: 1.0000\n",
            "Epoch 47/100\n",
            "60000/60000 [==============================] - 4s 60us/step - loss: 2.7045e-04 - acc: 1.0000\n",
            "Epoch 48/100\n",
            "60000/60000 [==============================] - 4s 59us/step - loss: 2.7462e-04 - acc: 1.0000\n",
            "Epoch 49/100\n",
            "60000/60000 [==============================] - 4s 59us/step - loss: 2.6905e-04 - acc: 1.0000\n",
            "Epoch 50/100\n",
            "60000/60000 [==============================] - 4s 60us/step - loss: 2.6898e-04 - acc: 1.0000\n",
            "Epoch 51/100\n",
            "60000/60000 [==============================] - 4s 60us/step - loss: 2.6883e-04 - acc: 1.0000\n",
            "Epoch 52/100\n",
            "60000/60000 [==============================] - 4s 59us/step - loss: 2.6881e-04 - acc: 1.0000\n",
            "Epoch 53/100\n",
            "60000/60000 [==============================] - 4s 58us/step - loss: 2.6880e-04 - acc: 1.0000\n",
            "Epoch 54/100\n",
            "60000/60000 [==============================] - 4s 59us/step - loss: 2.6880e-04 - acc: 1.0000\n",
            "Epoch 55/100\n",
            "60000/60000 [==============================] - 4s 59us/step - loss: 2.6879e-04 - acc: 1.0000\n",
            "Epoch 56/100\n",
            "60000/60000 [==============================] - 4s 60us/step - loss: 2.6879e-04 - acc: 1.0000\n",
            "Epoch 57/100\n",
            "60000/60000 [==============================] - 4s 59us/step - loss: 2.6879e-04 - acc: 1.0000\n",
            "Epoch 58/100\n",
            "60000/60000 [==============================] - 4s 61us/step - loss: 2.6878e-04 - acc: 1.0000\n",
            "Epoch 59/100\n",
            "60000/60000 [==============================] - 4s 63us/step - loss: 2.6878e-04 - acc: 1.0000\n",
            "Epoch 60/100\n",
            "60000/60000 [==============================] - 4s 62us/step - loss: 2.6878e-04 - acc: 1.0000\n",
            "Epoch 61/100\n",
            "60000/60000 [==============================] - 4s 59us/step - loss: 2.6878e-04 - acc: 1.0000\n",
            "Epoch 62/100\n",
            "60000/60000 [==============================] - 3s 58us/step - loss: 2.6878e-04 - acc: 1.0000\n",
            "Epoch 63/100\n",
            "60000/60000 [==============================] - 4s 59us/step - loss: 2.6877e-04 - acc: 1.0000\n",
            "Epoch 64/100\n",
            "60000/60000 [==============================] - 4s 59us/step - loss: 2.6877e-04 - acc: 1.0000\n",
            "Epoch 65/100\n",
            "60000/60000 [==============================] - 4s 60us/step - loss: 2.6877e-04 - acc: 1.0000\n",
            "Epoch 66/100\n",
            "60000/60000 [==============================] - 4s 60us/step - loss: 2.6877e-04 - acc: 1.0000\n",
            "Epoch 67/100\n",
            "60000/60000 [==============================] - 4s 60us/step - loss: 2.6877e-04 - acc: 1.0000\n",
            "Epoch 68/100\n",
            "60000/60000 [==============================] - 4s 61us/step - loss: 2.6877e-04 - acc: 1.0000\n",
            "Epoch 69/100\n",
            "60000/60000 [==============================] - 4s 60us/step - loss: 2.6877e-04 - acc: 1.0000\n",
            "Epoch 70/100\n",
            "60000/60000 [==============================] - 4s 60us/step - loss: 2.6877e-04 - acc: 1.0000\n",
            "Epoch 71/100\n",
            "60000/60000 [==============================] - 4s 60us/step - loss: 2.6877e-04 - acc: 1.0000\n",
            "Epoch 72/100\n",
            "60000/60000 [==============================] - 4s 60us/step - loss: 2.6877e-04 - acc: 1.0000\n",
            "Epoch 73/100\n",
            "60000/60000 [==============================] - 4s 60us/step - loss: 2.6877e-04 - acc: 1.0000\n",
            "Epoch 74/100\n",
            "60000/60000 [==============================] - 4s 60us/step - loss: 2.6877e-04 - acc: 1.0000\n",
            "Epoch 75/100\n",
            "60000/60000 [==============================] - 4s 60us/step - loss: 2.6877e-04 - acc: 1.0000\n",
            "Epoch 76/100\n",
            "60000/60000 [==============================] - 3s 57us/step - loss: 2.6877e-04 - acc: 1.0000\n",
            "Epoch 77/100\n",
            "60000/60000 [==============================] - 4s 60us/step - loss: 2.6876e-04 - acc: 1.0000\n",
            "Epoch 78/100\n",
            "60000/60000 [==============================] - 4s 59us/step - loss: 2.6876e-04 - acc: 1.0000\n",
            "Epoch 79/100\n",
            "60000/60000 [==============================] - 4s 61us/step - loss: 2.6876e-04 - acc: 1.0000\n",
            "Epoch 80/100\n",
            "60000/60000 [==============================] - 4s 61us/step - loss: 2.6876e-04 - acc: 1.0000\n",
            "Epoch 81/100\n",
            "60000/60000 [==============================] - 4s 61us/step - loss: 2.6876e-04 - acc: 1.0000\n",
            "Epoch 82/100\n",
            "60000/60000 [==============================] - 4s 60us/step - loss: 2.6876e-04 - acc: 1.0000\n",
            "Epoch 83/100\n",
            "60000/60000 [==============================] - 4s 61us/step - loss: 2.6876e-04 - acc: 1.0000\n",
            "Epoch 84/100\n",
            "60000/60000 [==============================] - 4s 61us/step - loss: 2.6876e-04 - acc: 1.0000\n",
            "Epoch 85/100\n",
            "60000/60000 [==============================] - 4s 59us/step - loss: 2.6876e-04 - acc: 1.0000\n",
            "Epoch 86/100\n",
            "60000/60000 [==============================] - 4s 60us/step - loss: 2.6876e-04 - acc: 1.0000\n",
            "Epoch 87/100\n",
            "60000/60000 [==============================] - 4s 60us/step - loss: 2.6876e-04 - acc: 1.0000\n",
            "Epoch 88/100\n",
            "60000/60000 [==============================] - 4s 60us/step - loss: 2.6876e-04 - acc: 1.0000\n",
            "Epoch 89/100\n",
            "60000/60000 [==============================] - 4s 63us/step - loss: 2.6876e-04 - acc: 1.0000\n",
            "Epoch 90/100\n",
            "60000/60000 [==============================] - 4s 63us/step - loss: 2.6876e-04 - acc: 1.0000\n",
            "Epoch 91/100\n",
            "60000/60000 [==============================] - 4s 62us/step - loss: 2.6876e-04 - acc: 1.0000\n",
            "Epoch 92/100\n",
            "60000/60000 [==============================] - 4s 61us/step - loss: 2.6876e-04 - acc: 1.0000\n",
            "Epoch 93/100\n",
            "60000/60000 [==============================] - 4s 60us/step - loss: 2.6876e-04 - acc: 1.0000\n",
            "Epoch 94/100\n",
            "60000/60000 [==============================] - 4s 60us/step - loss: 2.6876e-04 - acc: 1.0000\n",
            "Epoch 95/100\n",
            "60000/60000 [==============================] - 4s 60us/step - loss: 2.6876e-04 - acc: 1.0000\n",
            "Epoch 96/100\n",
            "60000/60000 [==============================] - 4s 60us/step - loss: 2.6876e-04 - acc: 1.0000\n",
            "Epoch 97/100\n",
            "60000/60000 [==============================] - 4s 59us/step - loss: 2.6876e-04 - acc: 1.0000\n",
            "Epoch 98/100\n",
            "60000/60000 [==============================] - 4s 61us/step - loss: 2.6876e-04 - acc: 1.0000\n",
            "Epoch 99/100\n",
            "60000/60000 [==============================] - 4s 61us/step - loss: 2.6876e-04 - acc: 1.0000\n",
            "Epoch 100/100\n",
            "60000/60000 [==============================] - 4s 62us/step - loss: 2.6876e-04 - acc: 1.0000\n"
          ],
          "name": "stdout"
        },
        {
          "output_type": "execute_result",
          "data": {
            "text/plain": [
              "<keras.callbacks.History at 0x7f670de86eb8>"
            ]
          },
          "metadata": {
            "tags": []
          },
          "execution_count": 16
        }
      ]
    },
    {
      "cell_type": "code",
      "metadata": {
        "id": "s0CRs7qn8dMf",
        "colab_type": "code",
        "colab": {
          "base_uri": "https://localhost:8080/",
          "height": 34
        },
        "outputId": "f78c9cdc-48ce-4dd3-d88f-f88bfd7d7f24"
      },
      "source": [
        "test_loss, test_acc = network.evaluate(test_images, test_labels)"
      ],
      "execution_count": 17,
      "outputs": [
        {
          "output_type": "stream",
          "text": [
            "10000/10000 [==============================] - 1s 54us/step\n"
          ],
          "name": "stdout"
        }
      ]
    },
    {
      "cell_type": "code",
      "metadata": {
        "id": "VjHAiXa88ltk",
        "colab_type": "code",
        "colab": {
          "base_uri": "https://localhost:8080/",
          "height": 34
        },
        "outputId": "f7cf81bf-9a4d-4b76-e502-aa93671eda21"
      },
      "source": [
        "print('test acc:', test_acc)"
      ],
      "execution_count": 18,
      "outputs": [
        {
          "output_type": "stream",
          "text": [
            "test acc: 0.9838\n"
          ],
          "name": "stdout"
        }
      ]
    }
  ]
}